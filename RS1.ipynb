{
 "cells": [
  {
   "cell_type": "markdown",
   "metadata": {
    "toc": true
   },
   "source": [
    "<h1>Table of Contents<span class=\"tocSkip\"></span></h1>\n",
    "<div class=\"toc\"><ul class=\"toc-item\"><li><span><a href=\"#Recommenders-1----(1h)\" data-toc-modified-id=\"Recommenders-1----(1h)-1\"><span class=\"toc-item-num\">1&nbsp;&nbsp;</span>Recommenders 1 -- (1h)</a></span><ul class=\"toc-item\"><li><span><a href=\"#Goals-of-this-practical:\" data-toc-modified-id=\"Goals-of-this-practical:-1.1\"><span class=\"toc-item-num\">1.1&nbsp;&nbsp;</span>Goals of this practical:</a></span></li><li><span><a href=\"#What-is-collaborative-filtering-?\" data-toc-modified-id=\"What-is-collaborative-filtering-?-1.2\"><span class=\"toc-item-num\">1.2&nbsp;&nbsp;</span>What is collaborative filtering ?</a></span></li><li><span><a href=\"#Why-predicting-ratings-and-not-directly-items:\" data-toc-modified-id=\"Why-predicting-ratings-and-not-directly-items:-1.3\"><span class=\"toc-item-num\">1.3&nbsp;&nbsp;</span>Why predicting ratings and not directly items:</a></span></li><li><span><a href=\"#Data-used-:-smallest-movie-lens-dataset\" data-toc-modified-id=\"Data-used-:-smallest-movie-lens-dataset-1.4\"><span class=\"toc-item-num\">1.4&nbsp;&nbsp;</span>Data used : <a href=\"https://grouplens.org/datasets/movielens/\" target=\"_blank\">smallest movie-lens dataset</a></a></span></li><li><span><a href=\"#Notes:\" data-toc-modified-id=\"Notes:-1.5\"><span class=\"toc-item-num\">1.5&nbsp;&nbsp;</span>Notes:</a></span><ul class=\"toc-item\"><li><span><a href=\"#Prerequisites:\" data-toc-modified-id=\"Prerequisites:-1.5.1\"><span class=\"toc-item-num\">1.5.1&nbsp;&nbsp;</span>Prerequisites:</a></span></li></ul></li></ul></li><li><span><a href=\"#1.-Let's-have-a-quick-statistical-tour-of-the-ml-small-dataset\" data-toc-modified-id=\"1.-Let's-have-a-quick-statistical-tour-of-the-ml-small-dataset-2\"><span class=\"toc-item-num\">2&nbsp;&nbsp;</span>1. Let's have a quick statistical tour of the ml-small dataset</a></span><ul class=\"toc-item\"><li><span><a href=\"#First,-let's-load-the-data-with-pandas-and-see-how-it-looks\" data-toc-modified-id=\"First,-let's-load-the-data-with-pandas-and-see-how-it-looks-2.1\"><span class=\"toc-item-num\">2.1&nbsp;&nbsp;</span>First, let's load the data with pandas and see how it looks</a></span></li><li><span><a href=\"#(WARMUP)-Some-simple-questions-we'll-try-to-answer:\" data-toc-modified-id=\"(WARMUP)-Some-simple-questions-we'll-try-to-answer:-2.2\"><span class=\"toc-item-num\">2.2&nbsp;&nbsp;</span>(WARMUP) Some simple questions we'll try to answer:</a></span></li><li><span><a href=\"#TODO:-Find-how-many-user-and-item-there-are.\" data-toc-modified-id=\"TODO:-Find-how-many-user-and-item-there-are.-2.3\"><span class=\"toc-item-num\">2.3&nbsp;&nbsp;</span>TODO: Find how many user and item there are.</a></span></li><li><span><a href=\"#TODO:-Find-how-sparse-the-rating-matrix-is.\" data-toc-modified-id=\"TODO:-Find-how-sparse-the-rating-matrix-is.-2.4\"><span class=\"toc-item-num\">2.4&nbsp;&nbsp;</span>TODO: Find how sparse the rating matrix is.</a></span></li><li><span><a href=\"#TODO:-Lets-compute-some-stats:\" data-toc-modified-id=\"TODO:-Lets-compute-some-stats:-2.5\"><span class=\"toc-item-num\">2.5&nbsp;&nbsp;</span>TODO: Lets compute some stats:</a></span></li><li><span><a href=\"#Stats-Takeways:\" data-toc-modified-id=\"Stats-Takeways:-2.6\"><span class=\"toc-item-num\">2.6&nbsp;&nbsp;</span>Stats Takeways:</a></span></li></ul></li><li><span><a href=\"#(Explicit)-Collaborative-Filtering--by-predicting-ratings:\" data-toc-modified-id=\"(Explicit)-Collaborative-Filtering--by-predicting-ratings:-3\"><span class=\"toc-item-num\">3&nbsp;&nbsp;</span>(Explicit) Collaborative Filtering  by predicting ratings:</a></span><ul class=\"toc-item\"><li><ul class=\"toc-item\"><li><span><a href=\"#$$-f(u,i)-=-r_{ui}-$$\" data-toc-modified-id=\"$$-f(u,i)-=-r_{ui}-$$-3.0.1\"><span class=\"toc-item-num\">3.0.1&nbsp;&nbsp;</span><div class=\"MathJax_Display\" style=\"text-align: center;\"></div><script type=\"math/tex; mode=display\" id=\"MathJax-Element-5\"> f(u,i) = r_{ui} </script></a></span></li></ul></li><li><span><a href=\"#First,-let's-build-a-train/test-set\" data-toc-modified-id=\"First,-let's-build-a-train/test-set-3.1\"><span class=\"toc-item-num\">3.1&nbsp;&nbsp;</span>First, let's build a train/test set</a></span></li><li><span><a href=\"#Basic-Recsys-mean-baselines-implementations\" data-toc-modified-id=\"Basic-Recsys-mean-baselines-implementations-3.2\"><span class=\"toc-item-num\">3.2&nbsp;&nbsp;</span>Basic Recsys <strong>mean</strong> baselines implementations</a></span></li><li><span><a href=\"#TODO:-compute-the-global-training-mean,-user-means-and-item-means\" data-toc-modified-id=\"TODO:-compute-the-global-training-mean,-user-means-and-item-means-3.3\"><span class=\"toc-item-num\">3.3&nbsp;&nbsp;</span>TODO: compute the global training mean, user means and item means</a></span><ul class=\"toc-item\"><li><span><a href=\"#You-should-be-able-to-run-the-following-cell-to-get-mean-predictions-(instead-of-None's)\" data-toc-modified-id=\"You-should-be-able-to-run-the-following-cell-to-get-mean-predictions-(instead-of-None's)-3.3.1\"><span class=\"toc-item-num\">3.3.1&nbsp;&nbsp;</span>You should be able to run the following cell to get mean predictions (instead of None's)</a></span><ul class=\"toc-item\"><li><span><a href=\"#Ok,-now-that-we've-got-some-predictions,-let's-evaluate-them:\" data-toc-modified-id=\"Ok,-now-that-we've-got-some-predictions,-let's-evaluate-them:-3.3.1.1\"><span class=\"toc-item-num\">3.3.1.1&nbsp;&nbsp;</span>Ok, now that we've got some predictions, let's evaluate them:</a></span></li></ul></li></ul></li><li><span><a href=\"#Evaluation-metrics:\" data-toc-modified-id=\"Evaluation-metrics:-3.4\"><span class=\"toc-item-num\">3.4&nbsp;&nbsp;</span>Evaluation metrics:</a></span></li><li><span><a href=\"#TODO:-Implement-those-metrics\" data-toc-modified-id=\"TODO:-Implement-those-metrics-3.5\"><span class=\"toc-item-num\">3.5&nbsp;&nbsp;</span>TODO: Implement those metrics</a></span><ul class=\"toc-item\"><li><span><a href=\"#You-should-be-able-to-run-the-following-cell-to-get-the-metrics-results-(Instead-of-None)\" data-toc-modified-id=\"You-should-be-able-to-run-the-following-cell-to-get-the-metrics-results-(Instead-of-None)-3.5.1\"><span class=\"toc-item-num\">3.5.1&nbsp;&nbsp;</span>You should be able to run the following cell to get the metrics results (Instead of None)</a></span></li></ul></li></ul></li><li><span><a href=\"#Basic-explicit-collaborative-filtering-models---using-surprise-library\" data-toc-modified-id=\"Basic-explicit-collaborative-filtering-models---using-surprise-library-4\"><span class=\"toc-item-num\">4&nbsp;&nbsp;</span>Basic explicit collaborative filtering models - using surprise library</a></span><ul class=\"toc-item\"><li><span><a href=\"#Loading-custom-data\" data-toc-modified-id=\"Loading-custom-data-4.1\"><span class=\"toc-item-num\">4.1&nbsp;&nbsp;</span>Loading custom data</a></span></li><li><span><a href=\"#How-do-models-work-in-Surprise-?\" data-toc-modified-id=\"How-do-models-work-in-Surprise-?-4.2\"><span class=\"toc-item-num\">4.2&nbsp;&nbsp;</span>How do models work in Surprise ?</a></span></li><li><span><a href=\"#The-baseline-model:\" data-toc-modified-id=\"The-baseline-model:-4.3\"><span class=\"toc-item-num\">4.3&nbsp;&nbsp;</span>The baseline model:</a></span></li><li><span><a href=\"#$$-\\hat{r}_{ui}-=-b_{ui}-=-\\mu-+-b_u-+-b_i-$$\" data-toc-modified-id=\"$$-\\hat{r}_{ui}-=-b_{ui}-=-\\mu-+-b_u-+-b_i-$$-4.4\"><span class=\"toc-item-num\">4.4&nbsp;&nbsp;</span><div class=\"MathJax_Display\" style=\"text-align: center;\"></div><script type=\"math/tex; mode=display\" id=\"MathJax-Element-17\"> \\hat{r}_{ui} = b_{ui} = \\mu + b_u + b_i </script></a></span></li><li><span><a href=\"#(a)-Fit\" data-toc-modified-id=\"(a)-Fit-4.5\"><span class=\"toc-item-num\">4.5&nbsp;&nbsp;</span>(a) Fit</a></span></li><li><span><a href=\"#(b)-Predict\" data-toc-modified-id=\"(b)-Predict-4.6\"><span class=\"toc-item-num\">4.6&nbsp;&nbsp;</span>(b) Predict</a></span></li></ul></li><li><span><a href=\"#Your-turn-!\" data-toc-modified-id=\"Your-turn-!-5\"><span class=\"toc-item-num\">5&nbsp;&nbsp;</span>Your turn !</a></span><ul class=\"toc-item\"><li><ul class=\"toc-item\"><li><span><a href=\"#A-QUICK-NOTE:-The-baseline-algorithm-is-really-strong-on-this-dataset,-don't-worry-if-the-following-models-performance-is-worse.\" data-toc-modified-id=\"A-QUICK-NOTE:-The-baseline-algorithm-is-really-strong-on-this-dataset,-don't-worry-if-the-following-models-performance-is-worse.-5.0.1\"><span class=\"toc-item-num\">5.0.1&nbsp;&nbsp;</span><strong>A QUICK NOTE:</strong> The baseline algorithm is really strong on this dataset, don't worry if the following models performance is worse.</a></span></li></ul></li><li><span><a href=\"#SVD-Algorithm\" data-toc-modified-id=\"SVD-Algorithm-5.1\"><span class=\"toc-item-num\">5.1&nbsp;&nbsp;</span>SVD Algorithm</a></span></li><li><span><a href=\"#$$\\hat{r}_{ui}-=-\\mu-+-b_u-+-b_i-+-q_i^Tp_u$$\" data-toc-modified-id=\"$$\\hat{r}_{ui}-=-\\mu-+-b_u-+-b_i-+-q_i^Tp_u$$-5.2\"><span class=\"toc-item-num\">5.2&nbsp;&nbsp;</span><div class=\"MathJax_Display\" style=\"text-align: center;\"></div><script type=\"math/tex; mode=display\" id=\"MathJax-Element-19\">\\hat{r}_{ui} = \\mu + b_u + b_i + q_i^Tp_u</script></a></span></li><li><span><a href=\"#TODO-:-Try-and-use-the-SVD-surprise-model-(related-documentation-page)\" data-toc-modified-id=\"TODO-:-Try-and-use-the-SVD-surprise-model-(related-documentation-page)-5.3\"><span class=\"toc-item-num\">5.3&nbsp;&nbsp;</span>TODO : Try and use the <code>SVD</code> surprise model (<a href=\"https://surprise.readthedocs.io/en/stable/matrix_factorization.html\" target=\"_blank\">related documentation page</a>)</a></span></li><li><span><a href=\"#TODO:-Use-the-surprise-SVD-Implementation-to-predict-missing-ratings.\" data-toc-modified-id=\"TODO:-Use-the-surprise-SVD-Implementation-to-predict-missing-ratings.-5.4\"><span class=\"toc-item-num\">5.4&nbsp;&nbsp;</span>TODO: Use the surprise SVD Implementation to predict missing ratings.</a></span></li><li><span><a href=\"#Let's-compare-every-algorithm:-the-following-cell-should-run-and-give-you-the-results\" data-toc-modified-id=\"Let's-compare-every-algorithm:-the-following-cell-should-run-and-give-you-the-results-5.5\"><span class=\"toc-item-num\">5.5&nbsp;&nbsp;</span>Let's compare every algorithm: the following cell should run and give you the results</a></span></li><li><span><a href=\"#Visualizing-learnt-embeddings\" data-toc-modified-id=\"Visualizing-learnt-embeddings-5.6\"><span class=\"toc-item-num\">5.6&nbsp;&nbsp;</span>Visualizing learnt embeddings</a></span><ul class=\"toc-item\"><li><span><a href=\"#The-saving-function:\" data-toc-modified-id=\"The-saving-function:-5.6.1\"><span class=\"toc-item-num\">5.6.1&nbsp;&nbsp;</span>The saving function:</a></span></li><li><span><a href=\"#(a)-Loading-the-movie-titles.\" data-toc-modified-id=\"(a)-Loading-the-movie-titles.-5.6.2\"><span class=\"toc-item-num\">5.6.2&nbsp;&nbsp;</span>(a) Loading the movie titles.</a></span></li><li><span><a href=\"#(b)-We-extract-a-mapping-id-=&gt;-title\" data-toc-modified-id=\"(b)-We-extract-a-mapping-id-=>-title-5.6.3\"><span class=\"toc-item-num\">5.6.3&nbsp;&nbsp;</span>(b) We extract a mapping id =&gt; title</a></span></li><li><span><a href=\"#(c)-We-map-the-inner-surprise-id's-to-the-raw-id's-to-the-movie-title\" data-toc-modified-id=\"(c)-We-map-the-inner-surprise-id's-to-the-raw-id's-to-the-movie-title-5.6.4\"><span class=\"toc-item-num\">5.6.4&nbsp;&nbsp;</span>(c) We map the inner surprise id's to the raw id's to the movie title</a></span></li><li><span><a href=\"#(d)-Finally,-we-save-everything\" data-toc-modified-id=\"(d)-Finally,-we-save-everything-5.6.5\"><span class=\"toc-item-num\">5.6.5&nbsp;&nbsp;</span>(d) Finally, we save everything</a></span></li></ul></li><li><span><a href=\"#improving-your-results-with-GridSearch-:\" data-toc-modified-id=\"improving-your-results-with-GridSearch-:-5.7\"><span class=\"toc-item-num\">5.7&nbsp;&nbsp;</span>improving your results with GridSearch :</a></span></li></ul></li><li><span><a href=\"#Finally,-try-improving-your-score-by-testing-out-all-of-surprise-models-and-possibilities.\" data-toc-modified-id=\"Finally,-try-improving-your-score-by-testing-out-all-of-surprise-models-and-possibilities.-6\"><span class=\"toc-item-num\">6&nbsp;&nbsp;</span>Finally, try improving your score by testing out all of surprise models and possibilities.</a></span><ul class=\"toc-item\"><li><ul class=\"toc-item\"><li><span><a href=\"#(TODO)--Use,-for-example,-the-KNNs-algorithms:\" data-toc-modified-id=\"(TODO)--Use,-for-example,-the-KNNs-algorithms:-6.0.1\"><span class=\"toc-item-num\">6.0.1&nbsp;&nbsp;</span>(TODO)  Use, for example, the KNNs algorithms:</a></span></li><li><span><a href=\"#Still-some-time-left:-have-you-tried-them-all-?\" data-toc-modified-id=\"Still-some-time-left:-have-you-tried-them-all-?-6.0.2\"><span class=\"toc-item-num\">6.0.2&nbsp;&nbsp;</span>Still some time left: <a href=\"https://surprise.readthedocs.io/en/stable/prediction_algorithms_package.html\" target=\"_blank\">have you tried them all ?</a></a></span></li></ul></li></ul></li></ul></div>"
   ]
  },
  {
   "cell_type": "markdown",
   "metadata": {},
   "source": [
    "# Recommenders 1 -- (1h) \n",
    "\n",
    "## Goals of this practical:\n",
    "\n",
    "1. Have a quick statistical tour of a recommendation dataset (~10min)\n",
    "2. Understand the classical task of rating prediction (~10min)\n",
    "3. Know and implement really simple but tough baselines (~20min)\n",
    "4. Use a scikit like library to build explicit recommender sysems (~20min)\n",
    "\n",
    "\n",
    "## What is collaborative filtering ?\n",
    "\n",
    "On the internet, people rate items (or simply click on them, showing preference). All these ratings can be seen as a matrix coding for all ratings of size (n_user,n_item). It's worth noting that this matrix is highly sparse: No one rates everything, people only rate a subset of items. **Collaborative filtering** is done by leveraging the similarity in people's rating pattern. It enables to find \n",
    "\n",
    "\n",
    "Recommendation (more specifically **collaborative filtering**) goal can be seen as predicting how someone will rate one item. This is akin to filling this matrix, by predicting all missing ratings. The most used algorithms for this task are matrix factorization ones: they take advantage from the fact that a matrix can be decomposed into two sub-matrices: one coding for the users and one coding for the items.\n",
    "\n",
    "## Why predicting ratings and not directly items:\n",
    "\n",
    "Theoritically, the goal of a recommender system is to cherry pick interesting items for one user within a huge collection. Rating prediction is a surrogate problem of item prediction. To get what item to recommend you can, for exemple, simply sort best rated items. It has been shown that improving rating prediction actually improve item prediction.\n",
    "\n",
    "\n",
    "## Data used : [smallest movie-lens dataset](https://grouplens.org/datasets/movielens/)\n",
    "\n",
    "In this practical we use a small dataset of user ratings on movies. Specifically, we treat the dataset as list of $(user,item,rating)$ triplets.\n",
    "\n",
    "\n",
    "\n",
    "## Notes: \n",
    "\n",
    "We'll be using pandas for data manipulation but it's not needed to know any special tricks. If you have any pandas related questions, just ask !"
   ]
  },
  {
   "cell_type": "markdown",
   "metadata": {},
   "source": [
    "### Prerequisites:\n",
    "\n",
    "First, we install and load some packages"
   ]
  },
  {
   "cell_type": "code",
   "execution_count": null,
   "metadata": {},
   "outputs": [],
   "source": [
    "## Uncomment this to install required packages if needed (and restart kernel !)\n",
    "#! pip install --upgrade pandas\n",
    "#! pip install --upgrade seaborn\n",
    "#! pip install --upgrade scikit-surprise"
   ]
  },
  {
   "cell_type": "code",
   "execution_count": 1,
   "metadata": {
    "ExecuteTime": {
     "end_time": "2019-12-12T15:00:02.050811Z",
     "start_time": "2019-12-12T14:59:56.481408Z"
    }
   },
   "outputs": [],
   "source": [
    "import pandas as pd # we'll use pandas for data analysis\n",
    "import seaborn as sns # we'll use seaborn for nice plots\n",
    "import numpy as np # we'll use numpy for data also\n",
    "%matplotlib inline"
   ]
  },
  {
   "cell_type": "code",
   "execution_count": 2,
   "metadata": {
    "ExecuteTime": {
     "end_time": "2019-12-12T15:00:06.735155Z",
     "start_time": "2019-12-12T15:00:06.728652Z"
    }
   },
   "outputs": [
    {
     "name": "stdout",
     "output_type": "stream",
     "text": [
      "0.25.3\n",
      "0.9.0\n"
     ]
    }
   ],
   "source": [
    "#Should be 0.25.3\n",
    "print(pd.__version__)\n",
    "\n",
    "#Should be 0.9.0\n",
    "print(sns.__version__)\n",
    "\n",
    "## These are the version the notebook has been built on. It could work on old ones, or it could not :)"
   ]
  },
  {
   "cell_type": "markdown",
   "metadata": {},
   "source": [
    "# 1. Let's have a quick statistical tour of the ml-small dataset"
   ]
  },
  {
   "cell_type": "markdown",
   "metadata": {},
   "source": [
    "This is the [smallest movie-lens dataset](https://grouplens.org/datasets/movielens/) it is a subset of a bigger data set of movie ratings.\n",
    "\n",
    "> This dataset (ml-latest-small) describes 5-star rating and free-text tagging activity from MovieLens, a movie recommendation service. It contains 100836 ratings and 3683 tag applications across 9742 movies. These data were created by 610 users between March 29, 1996 and September 24, 2018. This dataset was generated on September 26, 2018.\n",
    "\n",
    "> Users were selected at random for inclusion. All selected users had rated at least 20 movies. No demographic information is included. Each user is represented by an id, and no other information is provided."
   ]
  },
  {
   "cell_type": "markdown",
   "metadata": {},
   "source": [
    "## First, let's load the data with pandas and see how it looks"
   ]
  },
  {
   "cell_type": "code",
   "execution_count": 3,
   "metadata": {
    "ExecuteTime": {
     "end_time": "2019-12-12T15:00:41.350931Z",
     "start_time": "2019-12-12T15:00:41.277780Z"
    }
   },
   "outputs": [
    {
     "data": {
      "text/html": [
       "<div>\n",
       "<style scoped>\n",
       "    .dataframe tbody tr th:only-of-type {\n",
       "        vertical-align: middle;\n",
       "    }\n",
       "\n",
       "    .dataframe tbody tr th {\n",
       "        vertical-align: top;\n",
       "    }\n",
       "\n",
       "    .dataframe thead th {\n",
       "        text-align: right;\n",
       "    }\n",
       "</style>\n",
       "<table border=\"1\" class=\"dataframe\">\n",
       "  <thead>\n",
       "    <tr style=\"text-align: right;\">\n",
       "      <th></th>\n",
       "      <th>userId</th>\n",
       "      <th>movieId</th>\n",
       "      <th>rating</th>\n",
       "      <th>timestamp</th>\n",
       "    </tr>\n",
       "  </thead>\n",
       "  <tbody>\n",
       "    <tr>\n",
       "      <th>0</th>\n",
       "      <td>1</td>\n",
       "      <td>1</td>\n",
       "      <td>4.0</td>\n",
       "      <td>964982703</td>\n",
       "    </tr>\n",
       "    <tr>\n",
       "      <th>1</th>\n",
       "      <td>1</td>\n",
       "      <td>3</td>\n",
       "      <td>4.0</td>\n",
       "      <td>964981247</td>\n",
       "    </tr>\n",
       "    <tr>\n",
       "      <th>2</th>\n",
       "      <td>1</td>\n",
       "      <td>6</td>\n",
       "      <td>4.0</td>\n",
       "      <td>964982224</td>\n",
       "    </tr>\n",
       "    <tr>\n",
       "      <th>3</th>\n",
       "      <td>1</td>\n",
       "      <td>47</td>\n",
       "      <td>5.0</td>\n",
       "      <td>964983815</td>\n",
       "    </tr>\n",
       "    <tr>\n",
       "      <th>4</th>\n",
       "      <td>1</td>\n",
       "      <td>50</td>\n",
       "      <td>5.0</td>\n",
       "      <td>964982931</td>\n",
       "    </tr>\n",
       "  </tbody>\n",
       "</table>\n",
       "</div>"
      ],
      "text/plain": [
       "   userId  movieId  rating  timestamp\n",
       "0       1        1     4.0  964982703\n",
       "1       1        3     4.0  964981247\n",
       "2       1        6     4.0  964982224\n",
       "3       1       47     5.0  964983815\n",
       "4       1       50     5.0  964982931"
      ]
     },
     "execution_count": 3,
     "metadata": {},
     "output_type": "execute_result"
    }
   ],
   "source": [
    "ratings = pd.read_csv(\"dataset/ratings.csv\")\n",
    "ratings.head(5)"
   ]
  },
  {
   "cell_type": "markdown",
   "metadata": {},
   "source": [
    "## (WARMUP) Some simple questions we'll try to answer:\n",
    "- How many users are there ?\n",
    "- How many items are there ?\n",
    "- How are ratings distributed ? Per users ? Per items ?\n",
    "- What is the mean rating ?\n",
    "...\n"
   ]
  },
  {
   "cell_type": "markdown",
   "metadata": {},
   "source": [
    "## TODO: Find how many user and item there are."
   ]
  },
  {
   "cell_type": "code",
   "execution_count": 5,
   "metadata": {
    "ExecuteTime": {
     "end_time": "2019-12-12T15:01:55.855576Z",
     "start_time": "2019-12-12T15:01:55.846575Z"
    }
   },
   "outputs": [
    {
     "name": "stdout",
     "output_type": "stream",
     "text": [
      "there are 610 users and 9724 items\n"
     ]
    }
   ],
   "source": [
    "ratings[\"userId\"].values #numpy array\n",
    "ratings[\"movieId\"] #pandas serie\n",
    "#there are 610 users and 9724 items\n",
    "\n",
    "num_users  = ratings[\"userId\"].nunique()# To complete\n",
    "num_items  = ratings[\"movieId\"].nunique()# To complete\n",
    "\n",
    "print(f\"there are {num_users} users and {num_items} items\")"
   ]
  },
  {
   "cell_type": "markdown",
   "metadata": {},
   "source": [
    "## TODO: Find how sparse the rating matrix is.\n",
    "\n",
    "Rating data is often though of a user/item matrix. Since each user haven't rated every items this matrix is HIGHLY SPARSE (it's mainly filled with zeros). \n",
    "- Find the sparsity of the matrix (spoiler: it's ~1.69% full)"
   ]
  },
  {
   "cell_type": "code",
   "execution_count": 17,
   "metadata": {
    "ExecuteTime": {
     "end_time": "2019-12-12T15:07:52.672628Z",
     "start_time": "2019-12-12T15:07:52.571110Z"
    }
   },
   "outputs": [
    {
     "name": "stdout",
     "output_type": "stream",
     "text": [
      "Rating matrix is only 1.6999683055613624% full\n"
     ]
    }
   ],
   "source": [
    "#Rating matrix is only 1.6999683055613624% full\n",
    "\n",
    "sparsity = 100*ratings\\\n",
    "    .pivot(index='userId',columns='movieId',values='rating')\\\n",
    "    .notnull().sum().sum()/(num_users*num_items)# To complete\n",
    "print(f\"Rating matrix is only {sparsity}% full\")"
   ]
  },
  {
   "cell_type": "markdown",
   "metadata": {},
   "source": [
    "## TODO: Lets compute some stats:\n",
    "\n",
    "- Find the count/mean/std/min/max of ratings "
   ]
  },
  {
   "cell_type": "code",
   "execution_count": 19,
   "metadata": {
    "ExecuteTime": {
     "end_time": "2019-12-12T15:09:06.209620Z",
     "start_time": "2019-12-12T15:09:06.195949Z"
    }
   },
   "outputs": [
    {
     "data": {
      "text/plain": [
       "count    100836.000000\n",
       "mean          3.501557\n",
       "std           1.042529\n",
       "min           0.500000\n",
       "25%           3.000000\n",
       "50%           3.500000\n",
       "75%           4.000000\n",
       "max           5.000000\n",
       "Name: rating, dtype: float64"
      ]
     },
     "execution_count": 19,
     "metadata": {},
     "output_type": "execute_result"
    }
   ],
   "source": [
    "ratings.rating.describe()# To Complete"
   ]
  },
  {
   "cell_type": "markdown",
   "metadata": {},
   "source": [
    "- Find/plot the global rating distribution"
   ]
  },
  {
   "cell_type": "code",
   "execution_count": 21,
   "metadata": {
    "ExecuteTime": {
     "end_time": "2019-12-12T15:10:10.743848Z",
     "start_time": "2019-12-12T15:10:10.543811Z"
    }
   },
   "outputs": [
    {
     "data": {
      "text/plain": [
       "<matplotlib.axes._subplots.AxesSubplot at 0x211f28b8a88>"
      ]
     },
     "execution_count": 21,
     "metadata": {},
     "output_type": "execute_result"
    },
    {
     "data": {
      "image/png": "[encoded data removed]",
      "text/plain": [
       "<Figure size 432x288 with 1 Axes>"
      ]
     },
     "metadata": {
      "needs_background": "light"
     },
     "output_type": "display_data"
    }
   ],
   "source": [
    "ratings.rating.plot(kind='hist')# To Complete"
   ]
  },
  {
   "cell_type": "markdown",
   "metadata": {},
   "source": [
    "- Find/plot the user means rating distribution"
   ]
  },
  {
   "cell_type": "code",
   "execution_count": 24,
   "metadata": {
    "ExecuteTime": {
     "end_time": "2019-12-12T15:11:31.901543Z",
     "start_time": "2019-12-12T15:11:31.746540Z"
    },
    "scrolled": true
   },
   "outputs": [
    {
     "data": {
      "text/plain": [
       "<matplotlib.axes._subplots.AxesSubplot at 0x211f3dc73c8>"
      ]
     },
     "execution_count": 24,
     "metadata": {},
     "output_type": "execute_result"
    },
    {
     "data": {
      "image/png": "[encoded data removed]",
      "text/plain": [
       "<Figure size 432x288 with 1 Axes>"
      ]
     },
     "metadata": {
      "needs_background": "light"
     },
     "output_type": "display_data"
    }
   ],
   "source": [
    "ratings\\\n",
    "    .groupby('userId')\\\n",
    "    .rating.mean().plot(kind='hist')# To Complete"
   ]
  },
  {
   "cell_type": "markdown",
   "metadata": {},
   "source": [
    "- Find/plot the item means rating distribution"
   ]
  },
  {
   "cell_type": "code",
   "execution_count": 26,
   "metadata": {
    "ExecuteTime": {
     "end_time": "2019-12-12T15:12:07.636804Z",
     "start_time": "2019-12-12T15:12:07.468778Z"
    }
   },
   "outputs": [
    {
     "data": {
      "text/plain": [
       "<matplotlib.axes._subplots.AxesSubplot at 0x211f4022488>"
      ]
     },
     "execution_count": 26,
     "metadata": {},
     "output_type": "execute_result"
    },
    {
     "data": {
      "image/png": "[encoded data removed]",
      "text/plain": [
       "<Figure size 432x288 with 1 Axes>"
      ]
     },
     "metadata": {
      "needs_background": "light"
     },
     "output_type": "display_data"
    }
   ],
   "source": [
    "ratings\\\n",
    "    .groupby('movieId')\\\n",
    "    .rating.mean().plot(kind='hist')# To Complete"
   ]
  },
  {
   "cell_type": "markdown",
   "metadata": {},
   "source": [
    "## Stats Takeways:\n",
    "\n",
    "- as it's often the case on rating data, there is a high biais towards good ratings: people tend to rate things they like more than things they dislike"
   ]
  },
  {
   "cell_type": "markdown",
   "metadata": {},
   "source": [
    "# (Explicit) Collaborative Filtering  by predicting ratings:\n",
    "\n",
    "The Netflix competition introduced the following predictive framework: the goal is to predict missing ratings using existing ones.\n",
    "\n",
    "In short, the goal is to define a model $f$ to predict how a user $u$ would rate an item $i$ : \n",
    "\n",
    "### $$ f(u,i) = r_{ui} $$"
   ]
  },
  {
   "cell_type": "markdown",
   "metadata": {},
   "source": [
    "## First, let's build a train/test set\n",
    "\n",
    "Here, for simplicity, we take the 1 example out of 5 as a test example."
   ]
  },
  {
   "cell_type": "code",
   "execution_count": 27,
   "metadata": {
    "ExecuteTime": {
     "end_time": "2019-12-12T15:12:46.452834Z",
     "start_time": "2019-12-12T15:12:46.414751Z"
    }
   },
   "outputs": [],
   "source": [
    "train_indexes,test_indexes = [],[]\n",
    "\n",
    "for index in range(len(ratings)):\n",
    "    if index%5 == 0:\n",
    "        test_indexes.append(index)\n",
    "    else:\n",
    "        train_indexes.append(index)\n",
    "\n",
    "train_ratings = ratings.iloc[train_indexes].copy()\n",
    "test_ratings = ratings.iloc[test_indexes].copy()"
   ]
  },
  {
   "cell_type": "markdown",
   "metadata": {},
   "source": [
    "In explicit collaborative filtering, the data are triplets of $(user,item,rating)$"
   ]
  },
  {
   "cell_type": "markdown",
   "metadata": {},
   "source": [
    "Let's see how one item is."
   ]
  },
  {
   "cell_type": "code",
   "execution_count": 29,
   "metadata": {
    "ExecuteTime": {
     "end_time": "2019-12-12T15:13:13.954764Z",
     "start_time": "2019-12-12T15:13:13.943771Z"
    }
   },
   "outputs": [
    {
     "data": {
      "text/html": [
       "<div>\n",
       "<style scoped>\n",
       "    .dataframe tbody tr th:only-of-type {\n",
       "        vertical-align: middle;\n",
       "    }\n",
       "\n",
       "    .dataframe tbody tr th {\n",
       "        vertical-align: top;\n",
       "    }\n",
       "\n",
       "    .dataframe thead th {\n",
       "        text-align: right;\n",
       "    }\n",
       "</style>\n",
       "<table border=\"1\" class=\"dataframe\">\n",
       "  <thead>\n",
       "    <tr style=\"text-align: right;\">\n",
       "      <th></th>\n",
       "      <th>userId</th>\n",
       "      <th>movieId</th>\n",
       "      <th>rating</th>\n",
       "      <th>timestamp</th>\n",
       "    </tr>\n",
       "  </thead>\n",
       "  <tbody>\n",
       "    <tr>\n",
       "      <th>260</th>\n",
       "      <td>2</td>\n",
       "      <td>131724</td>\n",
       "      <td>5.0</td>\n",
       "      <td>1445714851</td>\n",
       "    </tr>\n",
       "  </tbody>\n",
       "</table>\n",
       "</div>"
      ],
      "text/plain": [
       "     userId  movieId  rating   timestamp\n",
       "260       2   131724     5.0  1445714851"
      ]
     },
     "execution_count": 29,
     "metadata": {},
     "output_type": "execute_result"
    }
   ],
   "source": [
    "test_ratings[test_ratings[\"movieId\"] == 131724]"
   ]
  },
  {
   "cell_type": "markdown",
   "metadata": {},
   "source": [
    "Given the triplet $(2,131724,5)$, the model goal will be to predict $f(2,131724) = 5$"
   ]
  },
  {
   "cell_type": "markdown",
   "metadata": {},
   "source": [
    "## Basic Recsys **mean** baselines implementations\n",
    "\n",
    "First, before digging into more complicated models, we'll implement three really simple baselines:\n",
    "\n",
    "- The global mean $\\mu$\n",
    "- The user mean $b_u$\n",
    "- The item mean $b_i$\n",
    "\n",
    "Indeed, the rating distribution is not uniform at all (it looks more normal). Therefore, the means are good baselines."
   ]
  },
  {
   "cell_type": "markdown",
   "metadata": {},
   "source": [
    "## TODO: compute the global training mean, user means and item means\n",
    "\n",
    "- First, compute basic means to use them as baseline\n",
    "\n",
    "**NOTE**: User or items can be missing from train-set: be sure to return something in that case"
   ]
  },
  {
   "cell_type": "code",
   "execution_count": 45,
   "metadata": {
    "ExecuteTime": {
     "end_time": "2019-12-12T15:27:48.060136Z",
     "start_time": "2019-12-12T15:27:48.043119Z"
    }
   },
   "outputs": [],
   "source": [
    "MEAN = train_ratings[\"rating\"].mean()\n",
    "USER_MEANS = train_ratings.groupby(\"userId\")[\"rating\"].mean()\n",
    "ITEM_MEANS = train_ratings.groupby(\"movieId\")[\"rating\"].mean()\n",
    "\n",
    "\n",
    "def mean_rating_pred(user_item):\n",
    "    user = user_item[\"userId\"]\n",
    "    item = user_item[\"movieId\"]\n",
    "    \n",
    "    return MEAN## to complete\n",
    "\n",
    "def user_mean_rating_pred(user_item):\n",
    "    user = user_item[\"userId\"]\n",
    "    item = user_item[\"movieId\"]\n",
    "    \n",
    "    try:\n",
    "        return USER_MEANS[user] ## to complete\n",
    "    except:\n",
    "        return mean_rating_pred(user_item)\n",
    "\n",
    "def item_mean_rating_pred(user_item):\n",
    "    user = user_item[\"userId\"]\n",
    "    item = user_item[\"movieId\"]\n",
    "    \n",
    "    try:\n",
    "        return USER_MEANS[item] ## to complete\n",
    "    except:\n",
    "        return mean_rating_pred(user_item)"
   ]
  },
  {
   "cell_type": "markdown",
   "metadata": {},
   "source": [
    "### You should be able to run the following cell to get mean predictions (instead of None's)"
   ]
  },
  {
   "cell_type": "code",
   "execution_count": 46,
   "metadata": {
    "ExecuteTime": {
     "end_time": "2019-12-12T15:27:51.283571Z",
     "start_time": "2019-12-12T15:27:49.156903Z"
    }
   },
   "outputs": [
    {
     "data": {
      "text/html": [
       "<div>\n",
       "<style scoped>\n",
       "    .dataframe tbody tr th:only-of-type {\n",
       "        vertical-align: middle;\n",
       "    }\n",
       "\n",
       "    .dataframe tbody tr th {\n",
       "        vertical-align: top;\n",
       "    }\n",
       "\n",
       "    .dataframe thead th {\n",
       "        text-align: right;\n",
       "    }\n",
       "</style>\n",
       "<table border=\"1\" class=\"dataframe\">\n",
       "  <thead>\n",
       "    <tr style=\"text-align: right;\">\n",
       "      <th></th>\n",
       "      <th>userId</th>\n",
       "      <th>movieId</th>\n",
       "      <th>rating</th>\n",
       "      <th>timestamp</th>\n",
       "      <th>mean_prediction</th>\n",
       "      <th>muser_prediction</th>\n",
       "      <th>mitem_prediction</th>\n",
       "    </tr>\n",
       "  </thead>\n",
       "  <tbody>\n",
       "    <tr>\n",
       "      <th>0</th>\n",
       "      <td>1</td>\n",
       "      <td>1</td>\n",
       "      <td>4.0</td>\n",
       "      <td>964982703</td>\n",
       "      <td>3.501915</td>\n",
       "      <td>4.345946</td>\n",
       "      <td>4.345946</td>\n",
       "    </tr>\n",
       "    <tr>\n",
       "      <th>5</th>\n",
       "      <td>1</td>\n",
       "      <td>70</td>\n",
       "      <td>3.0</td>\n",
       "      <td>964982400</td>\n",
       "      <td>3.501915</td>\n",
       "      <td>4.345946</td>\n",
       "      <td>4.290000</td>\n",
       "    </tr>\n",
       "    <tr>\n",
       "      <th>10</th>\n",
       "      <td>1</td>\n",
       "      <td>163</td>\n",
       "      <td>5.0</td>\n",
       "      <td>964983650</td>\n",
       "      <td>3.501915</td>\n",
       "      <td>4.345946</td>\n",
       "      <td>2.944444</td>\n",
       "    </tr>\n",
       "    <tr>\n",
       "      <th>15</th>\n",
       "      <td>1</td>\n",
       "      <td>260</td>\n",
       "      <td>5.0</td>\n",
       "      <td>964981680</td>\n",
       "      <td>3.501915</td>\n",
       "      <td>4.345946</td>\n",
       "      <td>3.706612</td>\n",
       "    </tr>\n",
       "    <tr>\n",
       "      <th>20</th>\n",
       "      <td>1</td>\n",
       "      <td>356</td>\n",
       "      <td>4.0</td>\n",
       "      <td>964980962</td>\n",
       "      <td>3.501915</td>\n",
       "      <td>4.345946</td>\n",
       "      <td>3.991342</td>\n",
       "    </tr>\n",
       "  </tbody>\n",
       "</table>\n",
       "</div>"
      ],
      "text/plain": [
       "    userId  movieId  rating  timestamp  mean_prediction  muser_prediction  \\\n",
       "0        1        1     4.0  964982703         3.501915          4.345946   \n",
       "5        1       70     3.0  964982400         3.501915          4.345946   \n",
       "10       1      163     5.0  964983650         3.501915          4.345946   \n",
       "15       1      260     5.0  964981680         3.501915          4.345946   \n",
       "20       1      356     4.0  964980962         3.501915          4.345946   \n",
       "\n",
       "    mitem_prediction  \n",
       "0           4.345946  \n",
       "5           4.290000  \n",
       "10          2.944444  \n",
       "15          3.706612  \n",
       "20          3.991342  "
      ]
     },
     "execution_count": 46,
     "metadata": {},
     "output_type": "execute_result"
    }
   ],
   "source": [
    "#We create the rating prediction columns\n",
    "test_ratings[\"mean_prediction\"] = test_ratings[[\"userId\",\"movieId\"]].apply(mean_rating_pred,axis=1)\n",
    "test_ratings[\"muser_prediction\"] = test_ratings[[\"userId\",\"movieId\"]].apply(user_mean_rating_pred,axis=1) \n",
    "test_ratings[\"mitem_prediction\"] = test_ratings[[\"userId\",\"movieId\"]].apply(item_mean_rating_pred,axis=1) \n",
    "\n",
    "test_ratings.head(5)"
   ]
  },
  {
   "cell_type": "markdown",
   "metadata": {},
   "source": [
    "#### Ok, now that we've got some predictions, let's evaluate them:"
   ]
  },
  {
   "cell_type": "markdown",
   "metadata": {},
   "source": [
    "## Evaluation metrics:\n",
    "\n",
    "In explicit collaborative filtering there are three common metrics to compare a ground truth $x$ to a predicted $\\hat{x}$:\n",
    "\n",
    "- Mean Average Error (MAE) : $$\\frac{1}{n}\\sum^n|(x-\\hat{x})|$$\n",
    "- Mean Squared Error (MSE) : $$\\frac{1}{n}\\sum^n(x-\\hat{x})^2$$\n",
    "- Rooted Mean Squared Error (RMSE) : $$\\sqrt{\\frac{1}{n}\\sum^n(x-\\hat{x})^2}$$"
   ]
  },
  {
   "cell_type": "markdown",
   "metadata": {},
   "source": [
    "## TODO: Implement those metrics\n",
    "\n",
    "**Note:** The `predictions` and `truth` variables are arrays of predictions/ground_truth"
   ]
  },
  {
   "cell_type": "code",
   "execution_count": 52,
   "metadata": {
    "ExecuteTime": {
     "end_time": "2019-12-12T15:29:51.071538Z",
     "start_time": "2019-12-12T15:29:51.064540Z"
    }
   },
   "outputs": [],
   "source": [
    "from math import sqrt\n",
    "\n",
    "def mae(predictions,truth):\n",
    "    return (truth-predictions).abs().mean()## To complete\n",
    "\n",
    "def mse(predictions,truth):\n",
    "    return ((truth-predictions)**2).mean()## To complete\n",
    "\n",
    "def rmse(predictions,truth):\n",
    "    return sqrt(((truth-predictions)**2).mean())## To complete\n",
    "\n",
    "\n",
    "def all_metrics(predictions,truth):\n",
    "    return [f(predictions,truth) for f in [mae,mse,rmse]]"
   ]
  },
  {
   "cell_type": "markdown",
   "metadata": {},
   "source": [
    "### You should be able to run the following cell to get the metrics results (Instead of None)"
   ]
  },
  {
   "cell_type": "code",
   "execution_count": 53,
   "metadata": {
    "ExecuteTime": {
     "end_time": "2019-12-12T15:29:51.948554Z",
     "start_time": "2019-12-12T15:29:51.924441Z"
    }
   },
   "outputs": [
    {
     "name": "stdout",
     "output_type": "stream",
     "text": [
      "         mean_prediction  muser_prediction  mitem_prediction\n",
      "metrics                                                     \n",
      "mae             0.820963          0.729720          0.834339\n",
      "mse             1.076696          0.879324          1.121119\n",
      "rmse            1.037640          0.937723          1.058829\n",
      "\n",
      "---Best Models / Metrics: ---\n"
     ]
    },
    {
     "data": {
      "text/plain": [
       "metrics\n",
       "mae     muser_prediction\n",
       "mse     muser_prediction\n",
       "rmse    muser_prediction\n",
       "dtype: object"
      ]
     },
     "execution_count": 53,
     "metadata": {},
     "output_type": "execute_result"
    }
   ],
   "source": [
    "metrics = [\"mae\",\"mse\",\"rmse\"]\n",
    "results = pd.DataFrame()\n",
    "\n",
    "results[\"metrics\"] = metrics\n",
    "results[\"mean_prediction\"] = all_metrics(test_ratings[\"mean_prediction\"],test_ratings[\"rating\"])\n",
    "results[\"muser_prediction\"] = all_metrics(test_ratings[\"muser_prediction\"],test_ratings[\"rating\"])\n",
    "results[\"mitem_prediction\"] = all_metrics(test_ratings[\"mitem_prediction\"],test_ratings[\"rating\"])\n",
    "results = results.set_index(\"metrics\")\n",
    "\n",
    "print(results)\n",
    "print(\"\")\n",
    "print('---Best Models / Metrics: ---')\n",
    "results.idxmin(1)"
   ]
  },
  {
   "cell_type": "markdown",
   "metadata": {},
   "source": [
    "# Basic explicit collaborative filtering models - using surprise library\n",
    "\n",
    "> Surprise is an easy-to-use Python scikit for recommender systems.\n",
    "\n",
    "> Surprise has a set of built-in algorithms and datasets for you to play with. In its simplest form, it only takes a few lines of code to run a cross-validation procedure:\n",
    "\n",
    "[More details on the official documentation](https://surprise.readthedocs.io/en/stable/index.html)"
   ]
  },
  {
   "cell_type": "code",
   "execution_count": 54,
   "metadata": {
    "ExecuteTime": {
     "end_time": "2019-12-12T15:30:53.847467Z",
     "start_time": "2019-12-12T15:30:53.844458Z"
    }
   },
   "outputs": [],
   "source": [
    "## Uncomment this to install required packages if needed (and restart kernel !)\n",
    "#! pip install --upgrade scikit-surprise"
   ]
  },
  {
   "cell_type": "markdown",
   "metadata": {},
   "source": [
    "## Loading custom data\n",
    "\n",
    "We want to be able to load our custom dataset in the framework data structures.  \n",
    "To do so, we could either load from a raw file or from a dataframe. We do the latter.\n",
    "\n",
    "(Here is the [Documentation reference](https://surprise.readthedocs.io/en/stable/getting_started.html#use-a-custom-dataset) for loading custom datasets)"
   ]
  },
  {
   "cell_type": "code",
   "execution_count": 55,
   "metadata": {
    "ExecuteTime": {
     "end_time": "2019-12-12T15:30:58.365246Z",
     "start_time": "2019-12-12T15:30:58.140262Z"
    }
   },
   "outputs": [],
   "source": [
    "from surprise import NormalPredictor, BaselineOnly, SVD\n",
    "from surprise import Dataset\n",
    "from surprise import Reader\n",
    "from surprise.model_selection import cross_validate\n",
    "\n",
    "# The columns must correspond to user id, item id and ratings (in that order).\n",
    "data = Dataset.load_from_df(train_ratings[['userId', 'movieId', 'rating']], Reader(rating_scale=(1, 5)))"
   ]
  },
  {
   "cell_type": "markdown",
   "metadata": {},
   "source": [
    "## How do models work in Surprise ?\n",
    "\n",
    "It's fairly easy, Surprise follows the \"scikit\" way of doing things:\n",
    "```python\n",
    "model = GoodModel(params)\n",
    "model.fit(train_data)\n",
    "predictions = model.predict(test_data)\n",
    "```\n",
    "\n",
    "Ok, let's dig in:"
   ]
  },
  {
   "cell_type": "markdown",
   "metadata": {},
   "source": [
    "## The baseline model:\n",
    "\n",
    ">Typical CF data exhibit large user and item effects—systematic tendencies for\n",
    "some users to give higher ratings than others—and for some items to receive\n",
    "higher ratings than others. It is customary to adjust the data by accounting for\n",
    "these effects, which we encapsulate within the baseline estimates. Denote by\n",
    "μ the overall average rating. A baseline estimate for an unknown rating r ui is\n",
    "denoted by b ui and accounts for the user and item effects:\n",
    "\n",
    "## $$ \\hat{r}_{ui} = b_{ui} = \\mu + b_u + b_i $$\n",
    "\n",
    "(If user u is unknown, then the bias bu is assumed to be zero. The same applies for item i with bi.)\n",
    "\n",
    "> The parameters b u and b i indicate the observed deviations of user u and item i,\n",
    "respectively, from the average. For example, suppose that we want a baseline\n",
    "estimate for the rating of the movie Titanic by user Joe. Now, say that the\n",
    "average rating over all movies, μ, is 3.7 stars. Furthermore, Titanic is better\n",
    "than an average movie, so it tends to be rated 0.5 stars above the average. On\n",
    "the other hand, Joe is a critical user, who tends to rate 0.3 stars lower than the\n",
    "average. Thus, the baseline estimate for Titanic’s rating by Joe would be 3.9\n",
    "stars by calculating 3.7 − 0.3 + 0.5.\n",
    "\n",
    "(see [Yehuda Koren. Factor in the neighbors: scalable and accurate collaborative filtering. 2010.](http://courses.ischool.berkeley.edu/i290-dm/s11/SECURE/a1-koren.pdf))\n"
   ]
  },
  {
   "cell_type": "markdown",
   "metadata": {},
   "source": [
    "## (a) Fit"
   ]
  },
  {
   "cell_type": "code",
   "execution_count": 56,
   "metadata": {
    "ExecuteTime": {
     "end_time": "2019-12-12T15:31:53.601171Z",
     "start_time": "2019-12-12T15:31:53.375663Z"
    }
   },
   "outputs": [
    {
     "name": "stdout",
     "output_type": "stream",
     "text": [
      "Estimating biases using als...\n"
     ]
    },
    {
     "data": {
      "text/plain": [
       "<surprise.prediction_algorithms.baseline_only.BaselineOnly at 0x211f4e7ca08>"
      ]
     },
     "execution_count": 56,
     "metadata": {},
     "output_type": "execute_result"
    }
   ],
   "source": [
    "BaselineModel = BaselineOnly()\n",
    "BaselineModel.fit(data.build_full_trainset())"
   ]
  },
  {
   "cell_type": "markdown",
   "metadata": {},
   "source": [
    "## (b) Predict\n",
    "If you look at the [Prediction module](https://surprise.readthedocs.io/en/stable/predictions_module.html) documentation,\n",
    "you'll see that it has a little twist w/ respect to the traditional scikit \"predict\". It returns a Prediction \"[namedTuple](https://docs.python.org/3/library/collections.html#collections.namedtuple)\" with the following fields:\n",
    "\n",
    "- uid – The (raw) user id. (raw means it's the one you supplied, not the one automatically computed by surprise)\n",
    "- iid – The (raw) item id.\n",
    "- r_ui (float) – The true rating rui\n",
    "- est (float) – The estimated rating $r_{ui}$\n",
    "- details (dict) – Stores additional details about the prediction that might be useful for later analysis.\n",
    "\n",
    "**=>** if you have a namedTuple `prediction`: `prediction.uid` will contain the user id. "
   ]
  },
  {
   "cell_type": "code",
   "execution_count": 57,
   "metadata": {
    "ExecuteTime": {
     "end_time": "2019-12-12T15:32:06.880743Z",
     "start_time": "2019-12-12T15:32:06.193128Z"
    }
   },
   "outputs": [
    {
     "data": {
      "text/html": [
       "<div>\n",
       "<style scoped>\n",
       "    .dataframe tbody tr th:only-of-type {\n",
       "        vertical-align: middle;\n",
       "    }\n",
       "\n",
       "    .dataframe tbody tr th {\n",
       "        vertical-align: top;\n",
       "    }\n",
       "\n",
       "    .dataframe thead th {\n",
       "        text-align: right;\n",
       "    }\n",
       "</style>\n",
       "<table border=\"1\" class=\"dataframe\">\n",
       "  <thead>\n",
       "    <tr style=\"text-align: right;\">\n",
       "      <th></th>\n",
       "      <th>userId</th>\n",
       "      <th>movieId</th>\n",
       "      <th>rating</th>\n",
       "      <th>timestamp</th>\n",
       "      <th>mean_prediction</th>\n",
       "      <th>muser_prediction</th>\n",
       "      <th>mitem_prediction</th>\n",
       "      <th>opt_bl_prediction</th>\n",
       "    </tr>\n",
       "  </thead>\n",
       "  <tbody>\n",
       "    <tr>\n",
       "      <th>0</th>\n",
       "      <td>1</td>\n",
       "      <td>1</td>\n",
       "      <td>4.0</td>\n",
       "      <td>964982703</td>\n",
       "      <td>3.501915</td>\n",
       "      <td>4.345946</td>\n",
       "      <td>4.345946</td>\n",
       "      <td>4.531855</td>\n",
       "    </tr>\n",
       "    <tr>\n",
       "      <th>5</th>\n",
       "      <td>1</td>\n",
       "      <td>70</td>\n",
       "      <td>3.0</td>\n",
       "      <td>964982400</td>\n",
       "      <td>3.501915</td>\n",
       "      <td>4.345946</td>\n",
       "      <td>4.290000</td>\n",
       "      <td>4.325943</td>\n",
       "    </tr>\n",
       "    <tr>\n",
       "      <th>10</th>\n",
       "      <td>1</td>\n",
       "      <td>163</td>\n",
       "      <td>5.0</td>\n",
       "      <td>964983650</td>\n",
       "      <td>3.501915</td>\n",
       "      <td>4.345946</td>\n",
       "      <td>2.944444</td>\n",
       "      <td>4.268825</td>\n",
       "    </tr>\n",
       "    <tr>\n",
       "      <th>15</th>\n",
       "      <td>1</td>\n",
       "      <td>260</td>\n",
       "      <td>5.0</td>\n",
       "      <td>964981680</td>\n",
       "      <td>3.501915</td>\n",
       "      <td>4.345946</td>\n",
       "      <td>3.706612</td>\n",
       "      <td>4.890212</td>\n",
       "    </tr>\n",
       "    <tr>\n",
       "      <th>20</th>\n",
       "      <td>1</td>\n",
       "      <td>356</td>\n",
       "      <td>4.0</td>\n",
       "      <td>964980962</td>\n",
       "      <td>3.501915</td>\n",
       "      <td>4.345946</td>\n",
       "      <td>3.991342</td>\n",
       "      <td>4.793284</td>\n",
       "    </tr>\n",
       "    <tr>\n",
       "      <th>...</th>\n",
       "      <td>...</td>\n",
       "      <td>...</td>\n",
       "      <td>...</td>\n",
       "      <td>...</td>\n",
       "      <td>...</td>\n",
       "      <td>...</td>\n",
       "      <td>...</td>\n",
       "      <td>...</td>\n",
       "    </tr>\n",
       "    <tr>\n",
       "      <th>100815</th>\n",
       "      <td>610</td>\n",
       "      <td>158721</td>\n",
       "      <td>3.5</td>\n",
       "      <td>1479542491</td>\n",
       "      <td>3.501915</td>\n",
       "      <td>3.700768</td>\n",
       "      <td>3.501915</td>\n",
       "      <td>3.638797</td>\n",
       "    </tr>\n",
       "    <tr>\n",
       "      <th>100820</th>\n",
       "      <td>610</td>\n",
       "      <td>160341</td>\n",
       "      <td>2.5</td>\n",
       "      <td>1479545749</td>\n",
       "      <td>3.501915</td>\n",
       "      <td>3.700768</td>\n",
       "      <td>3.501915</td>\n",
       "      <td>3.638797</td>\n",
       "    </tr>\n",
       "    <tr>\n",
       "      <th>100825</th>\n",
       "      <td>610</td>\n",
       "      <td>161634</td>\n",
       "      <td>4.0</td>\n",
       "      <td>1493848362</td>\n",
       "      <td>3.501915</td>\n",
       "      <td>3.700768</td>\n",
       "      <td>3.501915</td>\n",
       "      <td>3.552825</td>\n",
       "    </tr>\n",
       "    <tr>\n",
       "      <th>100830</th>\n",
       "      <td>610</td>\n",
       "      <td>166528</td>\n",
       "      <td>4.0</td>\n",
       "      <td>1493879365</td>\n",
       "      <td>3.501915</td>\n",
       "      <td>3.700768</td>\n",
       "      <td>3.501915</td>\n",
       "      <td>3.935317</td>\n",
       "    </tr>\n",
       "    <tr>\n",
       "      <th>100835</th>\n",
       "      <td>610</td>\n",
       "      <td>170875</td>\n",
       "      <td>3.0</td>\n",
       "      <td>1493846415</td>\n",
       "      <td>3.501915</td>\n",
       "      <td>3.700768</td>\n",
       "      <td>3.501915</td>\n",
       "      <td>3.444219</td>\n",
       "    </tr>\n",
       "  </tbody>\n",
       "</table>\n",
       "<p>20168 rows × 8 columns</p>\n",
       "</div>"
      ],
      "text/plain": [
       "        userId  movieId  rating   timestamp  mean_prediction  \\\n",
       "0            1        1     4.0   964982703         3.501915   \n",
       "5            1       70     3.0   964982400         3.501915   \n",
       "10           1      163     5.0   964983650         3.501915   \n",
       "15           1      260     5.0   964981680         3.501915   \n",
       "20           1      356     4.0   964980962         3.501915   \n",
       "...        ...      ...     ...         ...              ...   \n",
       "100815     610   158721     3.5  1479542491         3.501915   \n",
       "100820     610   160341     2.5  1479545749         3.501915   \n",
       "100825     610   161634     4.0  1493848362         3.501915   \n",
       "100830     610   166528     4.0  1493879365         3.501915   \n",
       "100835     610   170875     3.0  1493846415         3.501915   \n",
       "\n",
       "        muser_prediction  mitem_prediction  opt_bl_prediction  \n",
       "0               4.345946          4.345946           4.531855  \n",
       "5               4.345946          4.290000           4.325943  \n",
       "10              4.345946          2.944444           4.268825  \n",
       "15              4.345946          3.706612           4.890212  \n",
       "20              4.345946          3.991342           4.793284  \n",
       "...                  ...               ...                ...  \n",
       "100815          3.700768          3.501915           3.638797  \n",
       "100820          3.700768          3.501915           3.638797  \n",
       "100825          3.700768          3.501915           3.552825  \n",
       "100830          3.700768          3.501915           3.935317  \n",
       "100835          3.700768          3.501915           3.444219  \n",
       "\n",
       "[20168 rows x 8 columns]"
      ]
     },
     "execution_count": 57,
     "metadata": {},
     "output_type": "execute_result"
    }
   ],
   "source": [
    "def opt_bl_rating_pred(user_item):\n",
    "    user = user_item[\"userId\"]\n",
    "    item = user_item[\"movieId\"]\n",
    "    \n",
    "    prediction = BaselineModel.predict(user,item)\n",
    "    \n",
    "    return prediction.est\n",
    "\n",
    "test_ratings[\"opt_bl_prediction\"] = test_ratings[[\"userId\",\"movieId\"]].apply(opt_bl_rating_pred,axis=1) \n",
    "\n",
    "test_ratings"
   ]
  },
  {
   "cell_type": "markdown",
   "metadata": {},
   "source": [
    "# Your turn !\n",
    "\n",
    "### __A QUICK NOTE:__ The baseline algorithm is really strong on this dataset, don't worry if the following models performance is worse."
   ]
  },
  {
   "cell_type": "markdown",
   "metadata": {},
   "source": [
    "## SVD Algorithm\n",
    "\n",
    "First, let's try the famous SVD algorithm, as popularized by Simon Funk during the Netflix Prize. \n",
    "\n",
    "> Matrix factorization models map both users and items ratings. to a joint latent factor space of dimensionality f, such that user-item interactions are modeled as inner products in that space.\n",
    "\n",
    "A prediction is made in the following way:\n",
    "\n",
    "## $$\\hat{r}_{ui} = \\mu + b_u + b_i + q_i^Tp_u$$\n",
    "\n",
    " When baselines are not used, this is equivalent to Probabilistic Matrix Factorization. If user u is unknown, then the bias bu and the factors pu are assumed to be zero. The same applies for item i with bi and qi.\n",
    "\n",
    "[This is the seminal paper associated to this model](https://datajobs.com/data-science-repo/Recommender-Systems-[Netflix].pdf)\n",
    " "
   ]
  },
  {
   "cell_type": "markdown",
   "metadata": {},
   "source": [
    "## TODO : Try and use the `SVD` surprise model ([related documentation page](https://surprise.readthedocs.io/en/stable/matrix_factorization.html))"
   ]
  },
  {
   "cell_type": "code",
   "execution_count": 67,
   "metadata": {
    "ExecuteTime": {
     "end_time": "2019-12-12T15:40:55.040458Z",
     "start_time": "2019-12-12T15:40:50.532080Z"
    }
   },
   "outputs": [
    {
     "data": {
      "text/plain": [
       "<surprise.prediction_algorithms.matrix_factorization.SVD at 0x211812dee48>"
      ]
     },
     "execution_count": 67,
     "metadata": {},
     "output_type": "execute_result"
    }
   ],
   "source": [
    "## To complete\n",
    "SVDmodel = SVD()\n",
    "SVDmodel.fit(data.build_full_trainset())"
   ]
  },
  {
   "cell_type": "markdown",
   "metadata": {},
   "source": [
    "## TODO: Use the surprise SVD Implementation to predict missing ratings."
   ]
  },
  {
   "cell_type": "code",
   "execution_count": 68,
   "metadata": {
    "ExecuteTime": {
     "end_time": "2019-12-12T15:41:03.134139Z",
     "start_time": "2019-12-12T15:41:02.409206Z"
    }
   },
   "outputs": [],
   "source": [
    "def svd_rating_pred(user_item):\n",
    "    user = user_item[\"userId\"]\n",
    "    item = user_item[\"movieId\"]\n",
    "    \n",
    "    prediction = SVDmodel.predict(user,item)## To complete\n",
    "    \n",
    "    return prediction.est## To complete\n",
    "\n",
    "test_ratings[\"svd_prediction\"] = test_ratings[[\"userId\",\"movieId\"]].apply(svd_rating_pred,axis=1) "
   ]
  },
  {
   "cell_type": "markdown",
   "metadata": {},
   "source": [
    "## Let's compare every algorithm: the following cell should run and give you the results"
   ]
  },
  {
   "cell_type": "code",
   "execution_count": 69,
   "metadata": {
    "ExecuteTime": {
     "end_time": "2019-12-12T15:41:05.093570Z",
     "start_time": "2019-12-12T15:41:05.068377Z"
    }
   },
   "outputs": [
    {
     "name": "stdout",
     "output_type": "stream",
     "text": [
      "         mean_prediction  muser_prediction  mitem_prediction  \\\n",
      "metrics                                                        \n",
      "mae             0.820963          0.729720          0.834339   \n",
      "mse             1.076696          0.879324          1.121119   \n",
      "rmse            1.037640          0.937723          1.058829   \n",
      "\n",
      "         opt_bl_prediction  svd_prediction  \n",
      "metrics                                     \n",
      "mae               0.664942        0.666314  \n",
      "mse               0.748537        0.756162  \n",
      "rmse              0.865180        0.869576  \n",
      "\n",
      "---Best Models / Metrics: ---\n"
     ]
    },
    {
     "data": {
      "text/plain": [
       "metrics\n",
       "mae     opt_bl_prediction\n",
       "mse     opt_bl_prediction\n",
       "rmse    opt_bl_prediction\n",
       "dtype: object"
      ]
     },
     "execution_count": 69,
     "metadata": {},
     "output_type": "execute_result"
    }
   ],
   "source": [
    "metrics = [\"mae\",\"mse\",\"rmse\"]\n",
    "results = pd.DataFrame()\n",
    "\n",
    "results[\"metrics\"] = metrics\n",
    "results[\"mean_prediction\"] = all_metrics(test_ratings[\"mean_prediction\"],test_ratings[\"rating\"])\n",
    "results[\"muser_prediction\"] = all_metrics(test_ratings[\"muser_prediction\"],test_ratings[\"rating\"])\n",
    "results[\"mitem_prediction\"] = all_metrics(test_ratings[\"mitem_prediction\"],test_ratings[\"rating\"])\n",
    "results[\"opt_bl_prediction\"] = all_metrics(test_ratings[\"opt_bl_prediction\"],test_ratings[\"rating\"])\n",
    "results[\"svd_prediction\"] = all_metrics(test_ratings[\"svd_prediction\"],test_ratings[\"rating\"])\n",
    "\n",
    "results = results.set_index(\"metrics\")\n",
    "\n",
    "print(results)\n",
    "print(\"\")\n",
    "print('---Best Models / Metrics: ---')\n",
    "results.idxmin(1)"
   ]
  },
  {
   "cell_type": "markdown",
   "metadata": {},
   "source": [
    "## Visualizing learnt embeddings\n",
    "\n",
    "> Factorizing the user-movie matrix allows us to discover the most descriptive dimensions for predicting movie preferences. We can identify the first few most important dimensions from a matrix decomposition and explore the movies’ location in this new space.\n",
    "\n",
    "To do so, we propose to use the [Tensorflow projector](https://projector.tensorflow.org/), an accessible easy to use tool online. The following functions/cells walks you through saving both the learnt movie embeddings and labels. "
   ]
  },
  {
   "cell_type": "markdown",
   "metadata": {},
   "source": [
    "###  The saving function:\n",
    "\n",
    "This function saves embeddings (a numpy array) and associated labels into tsv files which can be used by the [Tensorflow projector](https://projector.tensorflow.org/)"
   ]
  },
  {
   "cell_type": "code",
   "execution_count": 84,
   "metadata": {
    "ExecuteTime": {
     "end_time": "2019-12-12T15:48:48.093118Z",
     "start_time": "2019-12-12T15:48:48.084118Z"
    }
   },
   "outputs": [],
   "source": [
    "\n",
    "\n",
    "def save_embeddings(embs,dict_label,path=\"saved_word_vectors\"):\n",
    "    \"\"\"\n",
    "    embs is Numpy.array(N,size)\n",
    "    dict_label is {str(word)->int(idx)} or {int(idx)->str(word)}\n",
    "    \"\"\"\n",
    "    def int_first(k,v):\n",
    "        if type(k) == int:\n",
    "            return (k,v)\n",
    "        else:\n",
    "            return (v,k)\n",
    "\n",
    "    np.savetxt(f\"{path}_vectors.tsv\", embs, delimiter=\"\\t\",encoding='utf-8')\n",
    "\n",
    "    #labels \n",
    "    if dict_label:\n",
    "        sorted_labs = np.array([lab for idx,lab in sorted([int_first(k,v) for k,v in dict_label.items()])])\n",
    "        print(sorted_labs)\n",
    "        with open(f\"{path}_metadata.tsv\",\"w\", encoding='utf-8') as metadata_file:\n",
    "            for x in sorted_labs: #hack for space\n",
    "                if len(x.strip()) == 0:\n",
    "                    x = f\"space-{len(x)}\"\n",
    "                    \n",
    "                metadata_file.write(f\"{x}\\n\")"
   ]
  },
  {
   "cell_type": "markdown",
   "metadata": {},
   "source": [
    "### (a) Loading the movie titles.\n",
    "\n",
    "We want to label our movie with their titles (indeed, the movieId is not really informative about content)\n",
    "=> We just read the .csv"
   ]
  },
  {
   "cell_type": "code",
   "execution_count": 64,
   "metadata": {
    "ExecuteTime": {
     "end_time": "2019-12-12T15:40:13.051172Z",
     "start_time": "2019-12-12T15:40:13.028135Z"
    }
   },
   "outputs": [
    {
     "data": {
      "text/html": [
       "<div>\n",
       "<style scoped>\n",
       "    .dataframe tbody tr th:only-of-type {\n",
       "        vertical-align: middle;\n",
       "    }\n",
       "\n",
       "    .dataframe tbody tr th {\n",
       "        vertical-align: top;\n",
       "    }\n",
       "\n",
       "    .dataframe thead th {\n",
       "        text-align: right;\n",
       "    }\n",
       "</style>\n",
       "<table border=\"1\" class=\"dataframe\">\n",
       "  <thead>\n",
       "    <tr style=\"text-align: right;\">\n",
       "      <th></th>\n",
       "      <th>movieId</th>\n",
       "      <th>title</th>\n",
       "      <th>genres</th>\n",
       "    </tr>\n",
       "  </thead>\n",
       "  <tbody>\n",
       "    <tr>\n",
       "      <th>0</th>\n",
       "      <td>1</td>\n",
       "      <td>Toy Story (1995)</td>\n",
       "      <td>Adventure|Animation|Children|Comedy|Fantasy</td>\n",
       "    </tr>\n",
       "    <tr>\n",
       "      <th>1</th>\n",
       "      <td>2</td>\n",
       "      <td>Jumanji (1995)</td>\n",
       "      <td>Adventure|Children|Fantasy</td>\n",
       "    </tr>\n",
       "    <tr>\n",
       "      <th>2</th>\n",
       "      <td>3</td>\n",
       "      <td>Grumpier Old Men (1995)</td>\n",
       "      <td>Comedy|Romance</td>\n",
       "    </tr>\n",
       "    <tr>\n",
       "      <th>3</th>\n",
       "      <td>4</td>\n",
       "      <td>Waiting to Exhale (1995)</td>\n",
       "      <td>Comedy|Drama|Romance</td>\n",
       "    </tr>\n",
       "    <tr>\n",
       "      <th>4</th>\n",
       "      <td>5</td>\n",
       "      <td>Father of the Bride Part II (1995)</td>\n",
       "      <td>Comedy</td>\n",
       "    </tr>\n",
       "  </tbody>\n",
       "</table>\n",
       "</div>"
      ],
      "text/plain": [
       "   movieId                               title  \\\n",
       "0        1                    Toy Story (1995)   \n",
       "1        2                      Jumanji (1995)   \n",
       "2        3             Grumpier Old Men (1995)   \n",
       "3        4            Waiting to Exhale (1995)   \n",
       "4        5  Father of the Bride Part II (1995)   \n",
       "\n",
       "                                        genres  \n",
       "0  Adventure|Animation|Children|Comedy|Fantasy  \n",
       "1                   Adventure|Children|Fantasy  \n",
       "2                               Comedy|Romance  \n",
       "3                         Comedy|Drama|Romance  \n",
       "4                                       Comedy  "
      ]
     },
     "execution_count": 64,
     "metadata": {},
     "output_type": "execute_result"
    }
   ],
   "source": [
    "titleCSV = pd.read_csv(\"dataset/movies.csv\")\n",
    "titleCSV.head(5)"
   ]
  },
  {
   "cell_type": "markdown",
   "metadata": {},
   "source": [
    "### (b) We extract a mapping id => title  "
   ]
  },
  {
   "cell_type": "code",
   "execution_count": 65,
   "metadata": {
    "ExecuteTime": {
     "end_time": "2019-12-12T15:40:18.915596Z",
     "start_time": "2019-12-12T15:40:18.905545Z"
    }
   },
   "outputs": [
    {
     "data": {
      "text/plain": [
       "[(1, 'Toy Story (1995)'),\n",
       " (2, 'Jumanji (1995)'),\n",
       " (3, 'Grumpier Old Men (1995)'),\n",
       " (4, 'Waiting to Exhale (1995)'),\n",
       " (5, 'Father of the Bride Part II (1995)'),\n",
       " (6, 'Heat (1995)'),\n",
       " (7, 'Sabrina (1995)'),\n",
       " (8, 'Tom and Huck (1995)'),\n",
       " (9, 'Sudden Death (1995)'),\n",
       " (10, 'GoldenEye (1995)')]"
      ]
     },
     "execution_count": 65,
     "metadata": {},
     "output_type": "execute_result"
    }
   ],
   "source": [
    "id2title = titleCSV[[\"movieId\",\"title\"]].set_index(\"movieId\").to_dict()[\"title\"]\n",
    "list(id2title.items())[:10]"
   ]
  },
  {
   "cell_type": "markdown",
   "metadata": {},
   "source": [
    "### (c) We map the inner surprise id's to the raw id's to the movie title"
   ]
  },
  {
   "cell_type": "code",
   "execution_count": 70,
   "metadata": {
    "ExecuteTime": {
     "end_time": "2019-12-12T15:41:15.627060Z",
     "start_time": "2019-12-12T15:41:15.548054Z"
    }
   },
   "outputs": [
    {
     "data": {
      "text/plain": [
       "array([[ 0.09901076,  0.01121952, -0.01685204, ..., -0.12010116,\n",
       "        -0.13193044, -0.18810986],\n",
       "       [ 0.02990938,  0.06871753, -0.16212482, ..., -0.10174003,\n",
       "         0.2947977 ,  0.01876997],\n",
       "       [-0.00368036, -0.14118931, -0.23085138, ...,  0.08307686,\n",
       "         0.25565359, -0.00514383],\n",
       "       ...,\n",
       "       [ 0.11477245,  0.19085916, -0.05842644, ...,  0.0960688 ,\n",
       "        -0.11940732, -0.01214008],\n",
       "       [ 0.15243443,  0.13930877,  0.12118976, ...,  0.17051108,\n",
       "        -0.13522535,  0.09024099],\n",
       "       [-0.08547299, -0.09223802,  0.10411273, ..., -0.17210007,\n",
       "         0.22225772,  0.00793582]])"
      ]
     },
     "execution_count": 70,
     "metadata": {},
     "output_type": "execute_result"
    }
   ],
   "source": [
    "full_data = data.build_full_trainset()\n",
    "index2movie = {x:id2title[full_data.to_raw_iid(x)] for x in full_data.all_items()}\n",
    "SVDmodel.qi # Holds product vectors\n",
    "SVDmodel.pu # Holds user vectors"
   ]
  },
  {
   "cell_type": "markdown",
   "metadata": {},
   "source": [
    "### (d) Finally, we save everything"
   ]
  },
  {
   "cell_type": "code",
   "execution_count": 85,
   "metadata": {
    "ExecuteTime": {
     "end_time": "2019-12-12T15:48:54.763459Z",
     "start_time": "2019-12-12T15:48:53.653984Z"
    }
   },
   "outputs": [
    {
     "name": "stdout",
     "output_type": "stream",
     "text": [
      "['Grumpier Old Men (1995)' 'Heat (1995)' 'Seven (a.k.a. Se7en) (1995)' ...\n",
      " 'Hazard (2005)' 'Blair Witch (2016)' '31 (2016)']\n"
     ]
    }
   ],
   "source": [
    "save_embeddings(SVDmodel.qi,index2movie,path=\"svd_items\")"
   ]
  },
  {
   "cell_type": "markdown",
   "metadata": {},
   "source": [
    "## improving your results with GridSearch :\n",
    "\n",
    "Every machine learning model is sensible to hyperparameters: Hopefully, surprise provides a way to do parameter search [(related docs)](https://surprise.readthedocs.io/en/stable/model_selection.html#parameter-search). Here's how it work:"
   ]
  },
  {
   "cell_type": "code",
   "execution_count": 86,
   "metadata": {
    "ExecuteTime": {
     "end_time": "2019-12-12T15:49:14.164294Z",
     "start_time": "2019-12-12T15:49:05.724581Z"
    }
   },
   "outputs": [
    {
     "name": "stdout",
     "output_type": "stream",
     "text": [
      "0.9117985109810336\n",
      "{'n_epochs': 4}\n"
     ]
    },
    {
     "data": {
      "text/plain": [
       "<surprise.prediction_algorithms.matrix_factorization.SVD at 0x211f37fdb88>"
      ]
     },
     "execution_count": 86,
     "metadata": {},
     "output_type": "execute_result"
    }
   ],
   "source": [
    "from surprise.model_selection import GridSearchCV\n",
    "\n",
    "\n",
    "param_grid = {'n_epochs': list(range(2,5)),} #you can add parameters\n",
    "\n",
    "gs = GridSearchCV(SVD, param_grid, measures=['rmse', 'mae'], cv=3) # you choose the algorithm and the measures\n",
    " \n",
    "gs.fit(data) # You look at best combinations (automatically deals with train/validation splits)\n",
    "\n",
    "\n",
    "# best RMSE score\n",
    "print(gs.best_score['rmse'])\n",
    "\n",
    "# combination of parameters that gave the best validation RMSE score\n",
    "print(gs.best_params['rmse'])\n",
    "\n",
    "# We can now use the algorithm that yields the best rmse:\n",
    "algo = gs.best_estimator['rmse']\n",
    "algo.fit(data.build_full_trainset())"
   ]
  },
  {
   "cell_type": "markdown",
   "metadata": {},
   "source": [
    "#  Finally, try improving your score by testing out all of surprise models and possibilities."
   ]
  },
  {
   "cell_type": "markdown",
   "metadata": {},
   "source": [
    "### (TODO)  Use, for example, the KNNs algorithms:"
   ]
  },
  {
   "cell_type": "code",
   "execution_count": 87,
   "metadata": {
    "ExecuteTime": {
     "end_time": "2019-12-12T15:49:53.069220Z",
     "start_time": "2019-12-12T15:49:50.540185Z"
    }
   },
   "outputs": [
    {
     "name": "stdout",
     "output_type": "stream",
     "text": [
      "Computing the msd similarity matrix...\n",
      "Done computing similarity matrix.\n"
     ]
    }
   ],
   "source": [
    "from surprise.prediction_algorithms.knns import KNNBasic, KNNWithMeans\n",
    "\n",
    "KNNmodel = KNNBasic()\n",
    "KNNmodel.fit(data.build_full_trainset())\n",
    "\n",
    "def knn_rating_pred(user_item):\n",
    "    user = user_item[\"userId\"]\n",
    "    item = user_item[\"movieId\"]\n",
    "    \n",
    "    prediction = KNNmodel.predict(user,item)## To complete\n",
    "    \n",
    "    return prediction.est## To complete\n",
    "\n",
    "test_ratings[\"knn_prediction\"] = test_ratings[[\"userId\",\"movieId\"]].apply(knn_rating_pred,axis=1) "
   ]
  },
  {
   "cell_type": "code",
   "execution_count": 88,
   "metadata": {
    "ExecuteTime": {
     "end_time": "2019-12-12T15:50:15.842872Z",
     "start_time": "2019-12-12T15:50:15.813877Z"
    }
   },
   "outputs": [
    {
     "name": "stdout",
     "output_type": "stream",
     "text": [
      "         mean_prediction  muser_prediction  mitem_prediction  \\\n",
      "metrics                                                        \n",
      "mae             0.820963          0.729720          0.834339   \n",
      "mse             1.076696          0.879324          1.121119   \n",
      "rmse            1.037640          0.937723          1.058829   \n",
      "\n",
      "         opt_bl_prediction  svd_prediction  knn_prediction  \n",
      "metrics                                                     \n",
      "mae               0.664942        0.666314        0.716865  \n",
      "mse               0.748537        0.756162        0.879350  \n",
      "rmse              0.865180        0.869576        0.937737  \n",
      "\n",
      "---Best Models / Metrics: ---\n"
     ]
    },
    {
     "data": {
      "text/plain": [
       "metrics\n",
       "mae     opt_bl_prediction\n",
       "mse     opt_bl_prediction\n",
       "rmse    opt_bl_prediction\n",
       "dtype: object"
      ]
     },
     "execution_count": 88,
     "metadata": {},
     "output_type": "execute_result"
    }
   ],
   "source": [
    "metrics = [\"mae\",\"mse\",\"rmse\"]\n",
    "results = pd.DataFrame()\n",
    "\n",
    "results[\"metrics\"] = metrics\n",
    "results[\"mean_prediction\"] = all_metrics(test_ratings[\"mean_prediction\"],test_ratings[\"rating\"])\n",
    "results[\"muser_prediction\"] = all_metrics(test_ratings[\"muser_prediction\"],test_ratings[\"rating\"])\n",
    "results[\"mitem_prediction\"] = all_metrics(test_ratings[\"mitem_prediction\"],test_ratings[\"rating\"])\n",
    "results[\"opt_bl_prediction\"] = all_metrics(test_ratings[\"opt_bl_prediction\"],test_ratings[\"rating\"])\n",
    "results[\"svd_prediction\"] = all_metrics(test_ratings[\"svd_prediction\"],test_ratings[\"rating\"])\n",
    "results[\"knn_prediction\"] = all_metrics(test_ratings[\"knn_prediction\"],test_ratings[\"rating\"])\n",
    "\n",
    "results = results.set_index(\"metrics\")\n",
    "\n",
    "print(results)\n",
    "print(\"\")\n",
    "print('---Best Models / Metrics: ---')\n",
    "results.idxmin(1)"
   ]
  },
  {
   "cell_type": "markdown",
   "metadata": {},
   "source": [
    "### Still some time left: [have you tried them all ?](https://surprise.readthedocs.io/en/stable/prediction_algorithms_package.html)"
   ]
  }
 ],
 "metadata": {
  "hide_input": false,
  "kernelspec": {
   "display_name": "Python 3",
   "language": "python",
   "name": "python3"
  },
  "language_info": {
   "codemirror_mode": {
    "name": "ipython",
    "version": 3
   },
   "file_extension": ".py",
   "mimetype": "text/x-python",
   "name": "python",
   "nbconvert_exporter": "python",
   "pygments_lexer": "ipython3",
   "version": "3.7.5"
  },
  "toc": {
   "base_numbering": 1,
   "nav_menu": {},
   "number_sections": true,
   "sideBar": true,
   "skip_h1_title": false,
   "title_cell": "Table of Contents",
   "title_sidebar": "Contents",
   "toc_cell": true,
   "toc_position": {},
   "toc_section_display": true,
   "toc_window_display": false
  },
  "varInspector": {
   "cols": {
    "lenName": 16,
    "lenType": 16,
    "lenVar": 40
   },
   "kernels_config": {
    "python": {
     "delete_cmd_postfix": "",
     "delete_cmd_prefix": "del ",
     "library": "var_list.py",
     "varRefreshCmd": "print(var_dic_list())"
    },
    "r": {
     "delete_cmd_postfix": ") ",
     "delete_cmd_prefix": "rm(",
     "library": "var_list.r",
     "varRefreshCmd": "cat(var_dic_list()) "
    }
   },
   "types_to_exclude": [
    "module",
    "function",
    "builtin_function_or_method",
    "instance",
    "_Feature"
   ],
   "window_display": false
  }
 },
 "nbformat": 4,
 "nbformat_minor": 2
}
