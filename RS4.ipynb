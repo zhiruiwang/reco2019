{
 "cells": [
  {
   "cell_type": "markdown",
   "metadata": {
    "toc": true
   },
   "source": [
    "<h1>Table of Contents<span class=\"tocSkip\"></span></h1>\n",
    "<div class=\"toc\"><ul class=\"toc-item\"><li><span><a href=\"#Recommenders-4-:-Pytorch-and-Recommenders-(~1h)\" data-toc-modified-id=\"Recommenders-4-:-Pytorch-and-Recommenders-(~1h)-1\">Recommenders 4 : Pytorch and Recommenders (~1h)</a></span><ul class=\"toc-item\"><li><span><a href=\"#Objectives:\" data-toc-modified-id=\"Objectives:-1.1\">Objectives:</a></span></li></ul></li><li><span><a href=\"#(a)-WHAT-IS-PYTORCH?\" data-toc-modified-id=\"(a)-WHAT-IS-PYTORCH?-2\">(a) WHAT IS PYTORCH?</a></span><ul class=\"toc-item\"><li><ul class=\"toc-item\"><li><span><a href=\"#Tensors-:-the-main-unit\" data-toc-modified-id=\"Tensors-:-the-main-unit-2.0.1\">Tensors : the main unit</a></span></li></ul></li><li><span><a href=\"#Some-useful-functions:\" data-toc-modified-id=\"Some-useful-functions:-2.1\">Some useful functions:</a></span><ul class=\"toc-item\"><li><span><a href=\"#Creating-tensors\" data-toc-modified-id=\"Creating-tensors-2.1.1\">Creating tensors</a></span><ul class=\"toc-item\"><li><span><a href=\"#initialize-an-empty-4x2-matrix\" data-toc-modified-id=\"initialize-an-empty-4x2-matrix-2.1.1.1\">initialize an empty 4x2 matrix</a></span></li><li><span><a href=\"#create-a-3x2-tensor-filled-with-zeros-of-type-long\" data-toc-modified-id=\"create-a-3x2-tensor-filled-with-zeros-of-type-long-2.1.1.2\">create a 3x2 tensor filled with zeros of type long</a></span></li><li><span><a href=\"#create-a-tensor-of-size-2-with-(0-=>-5.5)-and-(1-=>-3)\" data-toc-modified-id=\"create-a-tensor-of-size-2-with-(0-=>-5.5)-and-(1-=>-3)-2.1.1.3\">create a tensor of size 2 with (0 =&gt; 5.5) and (1 =&gt; 3)</a></span></li><li><span><a href=\"#create-random-5x3-and-3x5-tensors\" data-toc-modified-id=\"create-random-5x3-and-3x5-tensors-2.1.1.4\">create random 5x3 and 3x5 tensors</a></span></li><li><span><a href=\"#Indexing-works-just-like-numpy\" data-toc-modified-id=\"Indexing-works-just-like-numpy-2.1.1.5\">Indexing works just like numpy</a></span></li><li><span><a href=\"#know-the-size-of-a-tensor\" data-toc-modified-id=\"know-the-size-of-a-tensor-2.1.1.6\">know the size of a tensor</a></span></li><li><span><a href=\"#simple-addition\" data-toc-modified-id=\"simple-addition-2.1.1.7\">simple addition</a></span></li><li><span><a href=\"#matrix-multiplication\" data-toc-modified-id=\"matrix-multiplication-2.1.1.8\">matrix multiplication</a></span></li></ul></li><li><span><a href=\"#What-to-understand:\" data-toc-modified-id=\"What-to-understand:-2.1.2\">What to understand:</a></span></li><li><span><a href=\"#There-are-many-more-creation/operation-ops:\" data-toc-modified-id=\"There-are-many-more-creation/operation-ops:-2.1.3\">There are many more creation/operation ops:</a></span></li></ul></li><li><span><a href=\"#What's-interesting-beyond-the-&quot;numpy-replacement&quot;:-autodiff-!\" data-toc-modified-id=\"What's-interesting-beyond-the-&quot;numpy-replacement&quot;:-autodiff-!-2.2\">What's interesting beyond the \"numpy replacement\": autodiff !</a></span><ul class=\"toc-item\"><li><span><a href=\"#Let's-do-1d-linear-regression-with-the-vanilla-autodiff-!\" data-toc-modified-id=\"Let's-do-1d-linear-regression-with-the-vanilla-autodiff-!-2.2.1\">Let's do 1d-linear regression with the vanilla autodiff !</a></span><ul class=\"toc-item\"><li><span><a href=\"#(First)-we-need-fake-data:\" data-toc-modified-id=\"(First)-we-need-fake-data:-2.2.1.1\">(First) we need fake data:</a></span></li></ul></li></ul></li></ul></li><li><span><a href=\"#Full-pytorch-tutorial:\" data-toc-modified-id=\"Full-pytorch-tutorial:-3\">Full pytorch tutorial:</a></span><ul class=\"toc-item\"><li><span><a href=\"#Data-used-:-smallest-movie-lens-dataset\" data-toc-modified-id=\"Data-used-:-smallest-movie-lens-dataset-3.1\">Data used : <a href=\"https://grouplens.org/datasets/movielens/\" target=\"_blank\">smallest movie-lens dataset</a></a></span></li></ul></li><li><span><a href=\"#1)--Load-&amp;-Prepare-Data\" data-toc-modified-id=\"1)--Load-&amp;-Prepare-Data-4\">1)  Load &amp; Prepare Data</a></span><ul class=\"toc-item\"><li><span><a href=\"#(TODO)-Reproduce-the-baseline-model-with-pytorch's-vanilla-autograd\" data-toc-modified-id=\"(TODO)-Reproduce-the-baseline-model-with-pytorch's-vanilla-autograd-4.1\">(TODO) Reproduce the baseline model with pytorch's vanilla autograd</a></span></li><li><span><a href=\"#$$\\hat{r}_{ui}-=-b_{ui}-=-\\mu-+-b_u-+-b_i$$\" data-toc-modified-id=\"$$\\hat{r}_{ui}-=-b_{ui}-=-\\mu-+-b_u-+-b_i$$-4.2\"><div class=\"MathJax_Display\" style=\"text-align: center;\"></div><script type=\"math/tex; mode=display\" id=\"MathJax-Element-2\">\\hat{r}_{ui} = b_{ui} = \\mu + b_u + b_i</script></a></span></li><li><span><a href=\"#(TODO)-:-First,-let's-define-the-parameters\" data-toc-modified-id=\"(TODO)-:-First,-let's-define-the-parameters-4.3\">(TODO) : First, let's define the parameters</a></span><ul class=\"toc-item\"><li><ul class=\"toc-item\"><li><span><a href=\"#(TODO)-Predict-Function\" data-toc-modified-id=\"(TODO)-Predict-Function-4.3.0.1\">(TODO) Predict Function</a></span></li></ul></li><li><span><a href=\"#(TODO)-error-function\" data-toc-modified-id=\"(TODO)-error-function-4.3.1\">(TODO) error function</a></span><ul class=\"toc-item\"><li><span><a href=\"#The-evaluation-loop,-without-any-optimization-for-now\" data-toc-modified-id=\"The-evaluation-loop,-without-any-optimization-for-now-4.3.1.1\">The evaluation loop, without any optimization for now</a></span></li></ul></li></ul></li><li><span><a href=\"#Let's-optimize-the-parameters-(with-SGD)--by-slightly-modifying-the-previous-loop\" data-toc-modified-id=\"Let's-optimize-the-parameters-(with-SGD)--by-slightly-modifying-the-previous-loop-4.4\">Let's optimize the parameters (with SGD)  by slightly modifying the previous loop</a></span><ul class=\"toc-item\"><li><span><a href=\"#(TODO)\" data-toc-modified-id=\"(TODO)-4.4.1\">(TODO)</a></span></li></ul></li></ul></li><li><span><a href=\"#Pytorch-(.nn)-Modules\" data-toc-modified-id=\"Pytorch-(.nn)-Modules-5\">Pytorch (.nn) Modules</a></span><ul class=\"toc-item\"><li><span><a href=\"#Classic-SVD-(with-mean)\" data-toc-modified-id=\"Classic-SVD-(with-mean)-5.1\">Classic SVD (with mean)</a></span><ul class=\"toc-item\"><li><span><a href=\"#$$-\\min\\limits_{U,I}\\sum\\limits_{(u,i)}-\\underbrace{(r_{ui}----(I_i^TU_u-+-\\mu))^2}_\\text{minimization}-+-\\underbrace{\\lambda(||U_u||^2+||I_u||^2-+-\\mu)-}_\\text{regularization}-$$\" data-toc-modified-id=\"$$-\\min\\limits_{U,I}\\sum\\limits_{(u,i)}-\\underbrace{(r_{ui}----(I_i^TU_u-+-\\mu))^2}_\\text{minimization}-+-\\underbrace{\\lambda(||U_u||^2+||I_u||^2-+-\\mu)-}_\\text{regularization}-$$-5.1.1\"><div class=\"MathJax_Display\" style=\"text-align: center;\"></div><script type=\"math/tex; mode=display\" id=\"MathJax-Element-4\"> \\min\\limits_{U,I}\\sum\\limits_{(u,i)} \\underbrace{(r_{ui} -  (I_i^TU_u + \\mu))^2}_\\text{minimization} + \\underbrace{\\lambda(||U_u||^2+||I_u||^2 + \\mu) }_\\text{regularization} </script></a></span></li><li><span><a href=\"#$$r_{ui}-=-\\mu-+-U_u.I_i-$$\" data-toc-modified-id=\"$$r_{ui}-=-\\mu-+-U_u.I_i-$$-5.1.2\"><div class=\"MathJax_Display\" style=\"text-align: center;\"></div><script type=\"math/tex; mode=display\" id=\"MathJax-Element-5\">r_{ui} = \\mu + U_u.I_i </script></a></span></li><li><span><a href=\"#STEPS:\" data-toc-modified-id=\"STEPS:-5.1.3\">STEPS:</a></span><ul class=\"toc-item\"><li><span><a href=\"#(1)-Model-definition\" data-toc-modified-id=\"(1)-Model-definition-5.1.3.1\">(1) Model definition</a></span></li></ul></li><li><span><a href=\"#(TODO)-Just-to-make-sure-you-were-following:-complete-the-following-forward-method\" data-toc-modified-id=\"(TODO)-Just-to-make-sure-you-were-following:-complete-the-following-forward-method-5.1.4\">(TODO) Just to make sure you were following: complete the following <code>forward</code> method</a></span><ul class=\"toc-item\"><li><span><a href=\"#(2-4)-full-train-loop\" data-toc-modified-id=\"(2-4)-full-train-loop-5.1.4.1\">(2-4) full train loop</a></span></li></ul></li></ul></li><li><span><a href=\"#(Your-turn)-Koren-2009-model:\" data-toc-modified-id=\"(Your-turn)-Koren-2009-model:-5.2\">(Your turn) Koren 2009 model:</a></span><ul class=\"toc-item\"><li><span><a href=\"#$$-\\min\\limits_{U,I}\\sum\\limits_{(u,i)}-\\underbrace{(r_{ui}----(I_i^TU_u-+-\\mu+-\\mu_i+\\mu_u))^2}_\\text{minimization}-+-\\underbrace{\\lambda(||U_u||^2+||I_u||^2-+-\\mu--+-\\mu+-\\mu_i+\\mu_u)-}_\\text{regularization}-$$\" data-toc-modified-id=\"$$-\\min\\limits_{U,I}\\sum\\limits_{(u,i)}-\\underbrace{(r_{ui}----(I_i^TU_u-+-\\mu+-\\mu_i+\\mu_u))^2}_\\text{minimization}-+-\\underbrace{\\lambda(||U_u||^2+||I_u||^2-+-\\mu--+-\\mu+-\\mu_i+\\mu_u)-}_\\text{regularization}-$$-5.2.1\"><div class=\"MathJax_Display\" style=\"text-align: center;\"></div><script type=\"math/tex; mode=display\" id=\"MathJax-Element-15\"> \\min\\limits_{U,I}\\sum\\limits_{(u,i)} \\underbrace{(r_{ui} -  (I_i^TU_u + \\mu+ \\mu_i+\\mu_u))^2}_\\text{minimization} + \\underbrace{\\lambda(||U_u||^2+||I_u||^2 + \\mu  + \\mu+ \\mu_i+\\mu_u) }_\\text{regularization} </script></a></span></li><li><span><a href=\"#$$r_{ui}-=-\\mu-+-\\mu_i-+-\\mu_u-+-U_u.I_i-$$\" data-toc-modified-id=\"$$r_{ui}-=-\\mu-+-\\mu_i-+-\\mu_u-+-U_u.I_i-$$-5.2.2\"><div class=\"MathJax_Display\" style=\"text-align: center;\"></div><script type=\"math/tex; mode=display\" id=\"MathJax-Element-16\">r_{ui} = \\mu + \\mu_i + \\mu_u + U_u.I_i </script></a></span></li><li><span><a href=\"#TODO:\" data-toc-modified-id=\"TODO:-5.2.3\">TODO:</a></span></li><li><span><a href=\"#(TODO)-Here,-train-loop-stays-the-same,-you-only-have-to-change-the-model\" data-toc-modified-id=\"(TODO)-Here,-train-loop-stays-the-same,-you-only-have-to-change-the-model-5.2.4\">(TODO) Here, train loop stays the same, you only have to change the model</a></span></li></ul></li><li><span><a href=\"#Pytorch's-keras:-Pytorch-Lightning\" data-toc-modified-id=\"Pytorch's-keras:-Pytorch-Lightning-5.3\">Pytorch's keras: Pytorch-Lightning</a></span></li><li><span><a href=\"#Let's-try-with-the-same-but-different-Koren-2009-model:\" data-toc-modified-id=\"Let's-try-with-the-same-but-different-Koren-2009-model:-5.4\">Let's try with the same but different Koren 2009 model:</a></span><ul class=\"toc-item\"><li><span><a href=\"#$$r_{ui}-=-\\mu-+-\\mu_i-+-\\mu_u-+-U_u.I_i-$$\" data-toc-modified-id=\"$$r_{ui}-=-\\mu-+-\\mu_i-+-\\mu_u-+-U_u.I_i-$$-5.4.1\"><div class=\"MathJax_Display\" style=\"text-align: center;\"></div><script type=\"math/tex; mode=display\" id=\"MathJax-Element-17\">r_{ui} = \\mu + \\mu_i + \\mu_u + U_u.I_i </script></a></span></li><li><span><a href=\"#$$-\\min\\limits_{U,I}\\sum\\limits_{(u,i)}-\\underbrace{(r_{ui}----(I_i^TU_u-+-\\mu+-\\mu_i+\\mu_u))^2}_\\text{minimization}-+-\\underbrace{\\lambda(||U_u||^2+||I_u||^2-+-\\mu--+-\\mu+-\\mu_i+\\mu_u)-}_\\text{regularization}-$$\" data-toc-modified-id=\"$$-\\min\\limits_{U,I}\\sum\\limits_{(u,i)}-\\underbrace{(r_{ui}----(I_i^TU_u-+-\\mu+-\\mu_i+\\mu_u))^2}_\\text{minimization}-+-\\underbrace{\\lambda(||U_u||^2+||I_u||^2-+-\\mu--+-\\mu+-\\mu_i+\\mu_u)-}_\\text{regularization}-$$-5.4.2\"><div class=\"MathJax_Display\" style=\"text-align: center;\"></div><script type=\"math/tex; mode=display\" id=\"MathJax-Element-18\"> \\min\\limits_{U,I}\\sum\\limits_{(u,i)} \\underbrace{(r_{ui} -  (I_i^TU_u + \\mu+ \\mu_i+\\mu_u))^2}_\\text{minimization} + \\underbrace{\\lambda(||U_u||^2+||I_u||^2 + \\mu  + \\mu+ \\mu_i+\\mu_u) }_\\text{regularization} </script></a></span></li></ul></li><li><span><a href=\"#(TODO)-Complete-the-code\" data-toc-modified-id=\"(TODO)-Complete-the-code-5.5\">(TODO) Complete the code</a></span></li><li><span><a href=\"#Train-the-model\" data-toc-modified-id=\"Train-the-model-5.6\">Train the model</a></span></li><li><span><a href=\"#Still-got-time-?\" data-toc-modified-id=\"Still-got-time-?-5.7\">Still got time ?</a></span></li></ul></li></ul></div>"
   ]
  },
  {
   "cell_type": "markdown",
   "metadata": {},
   "source": [
    "# Recommenders 4 : Pytorch and Recommenders (~1h)\n",
    "\n",
    "In this practical session, we dive a little more into [pytorch](https://pytorch.org/docs/stable/index.html) and propose to re-implement two classical matrix-factorization models with this neural network toolkit.\n",
    "\n",
    "## Objectives:\n",
    "\n",
    "- (a) See a bit of simple pytorch (~5min)\n",
    "- (b) Discover the \"autograd\" part of pytorch to build a simple baseline (~20min)\n",
    "- (c) Discover the \"nn\" part of pytorch to build a simple matrix factorization algorithm (~20min)\n",
    "- (d) Learn to use a high level framework for pytorch (kind of \"KERAS\" like) to build more complicated algorithms (~15min)\n",
    "\n",
    "\n"
   ]
  },
  {
   "cell_type": "code",
   "execution_count": 1,
   "metadata": {
    "ExecuteTime": {
     "end_time": "2019-12-13T18:00:22.731608Z",
     "start_time": "2019-12-13T18:00:22.728590Z"
    }
   },
   "outputs": [],
   "source": [
    "#! pip install torch torchvision pytorch-lightning --upgrade\n",
    "#! pip install matplotlib --upgrade"
   ]
  },
  {
   "cell_type": "code",
   "execution_count": 2,
   "metadata": {
    "ExecuteTime": {
     "end_time": "2019-12-13T18:00:25.239588Z",
     "start_time": "2019-12-13T18:00:22.995289Z"
    }
   },
   "outputs": [],
   "source": [
    "import torch\n",
    "import pandas as pd\n",
    "import numpy as np\n",
    "import matplotlib.pyplot as plt"
   ]
  },
  {
   "cell_type": "markdown",
   "metadata": {},
   "source": [
    "# (a) WHAT IS PYTORCH?\n",
    "\n",
    "It’s a Python-based scientific computing package targeted at two sets of audiences:\n",
    "\n",
    "- A replacement for NumPy to use the power of GPUs\n",
    "- a deep learning research platform that provides maximum flexibility and speed\n",
    "\n",
    "### Tensors : the main unit\n",
    "\n",
    "Tensors are similar to NumPy’s ndarrays, with the addition being that Tensors can also be used on a GPU to accelerate computing.\n",
    "\n",
    "\n",
    "## Some useful functions:"
   ]
  },
  {
   "cell_type": "markdown",
   "metadata": {},
   "source": [
    "### Creating tensors"
   ]
  },
  {
   "cell_type": "markdown",
   "metadata": {},
   "source": [
    "#### initialize an empty 4x2 matrix"
   ]
  },
  {
   "cell_type": "code",
   "execution_count": 3,
   "metadata": {
    "ExecuteTime": {
     "end_time": "2019-12-13T18:00:25.268419Z",
     "start_time": "2019-12-13T18:00:25.259414Z"
    }
   },
   "outputs": [
    {
     "name": "stdout",
     "output_type": "stream",
     "text": [
      "tensor([[0.0000e+00, 0.0000e+00],\n",
      "        [0.0000e+00, 0.0000e+00],\n",
      "        [0.0000e+00, 0.0000e+00],\n",
      "        [1.8754e+28, 6.3455e-10]])\n"
     ]
    }
   ],
   "source": [
    "x_empty = torch.empty(4, 2)\n",
    "print(x_empty)  #Tensor is not initialized => contains gibberish"
   ]
  },
  {
   "cell_type": "markdown",
   "metadata": {},
   "source": [
    "#### create a 3x2 tensor filled with zeros of type long"
   ]
  },
  {
   "cell_type": "code",
   "execution_count": 4,
   "metadata": {
    "ExecuteTime": {
     "end_time": "2019-12-13T18:00:26.183929Z",
     "start_time": "2019-12-13T18:00:26.177930Z"
    }
   },
   "outputs": [
    {
     "name": "stdout",
     "output_type": "stream",
     "text": [
      "tensor([[0, 0],\n",
      "        [0, 0],\n",
      "        [0, 0]])\n"
     ]
    }
   ],
   "source": [
    "x0 = torch.zeros(3, 2, dtype=torch.long)\n",
    "print(x0) #Tensor has only zeros"
   ]
  },
  {
   "cell_type": "markdown",
   "metadata": {},
   "source": [
    "#### create a tensor of size 2 with (0 => 5.5) and (1 => 3)"
   ]
  },
  {
   "cell_type": "code",
   "execution_count": 5,
   "metadata": {
    "ExecuteTime": {
     "end_time": "2019-12-13T18:00:27.068912Z",
     "start_time": "2019-12-13T18:00:27.062938Z"
    }
   },
   "outputs": [
    {
     "name": "stdout",
     "output_type": "stream",
     "text": [
      "tensor([5.5000, 3.0000])\n"
     ]
    }
   ],
   "source": [
    "x_data = torch.tensor([5.5, 3])\n",
    "print(x_data) "
   ]
  },
  {
   "cell_type": "code",
   "execution_count": 6,
   "metadata": {
    "ExecuteTime": {
     "end_time": "2019-12-13T18:00:27.729106Z",
     "start_time": "2019-12-13T18:00:27.724106Z"
    }
   },
   "outputs": [
    {
     "name": "stdout",
     "output_type": "stream",
     "text": [
      "tensor([5.5000, 3.0000], dtype=torch.float64)\n"
     ]
    }
   ],
   "source": [
    "x_data = torch.tensor(np.array([5.5, 3])) #also works with numpy arrays\n",
    "print(x_data) "
   ]
  },
  {
   "cell_type": "markdown",
   "metadata": {},
   "source": [
    "#### create random 5x3 and 3x5 tensors "
   ]
  },
  {
   "cell_type": "code",
   "execution_count": 7,
   "metadata": {
    "ExecuteTime": {
     "end_time": "2019-12-13T18:00:28.835033Z",
     "start_time": "2019-12-13T18:00:28.828016Z"
    }
   },
   "outputs": [
    {
     "name": "stdout",
     "output_type": "stream",
     "text": [
      "tensor([[0.0056, 0.0296, 0.6323],\n",
      "        [0.4728, 0.9621, 0.8071],\n",
      "        [0.8156, 0.0695, 0.4625],\n",
      "        [0.3693, 0.6671, 0.6609],\n",
      "        [0.7850, 0.9297, 0.6266]])\n",
      "tensor([[0.7018, 0.1716, 0.6126, 0.2805, 0.7001],\n",
      "        [0.7777, 0.8684, 0.3495, 0.9277, 0.2430],\n",
      "        [0.4349, 0.5901, 0.5866, 0.2413, 0.0629]])\n"
     ]
    }
   ],
   "source": [
    "x = torch.rand(5,3)\n",
    "y = torch.rand(3,5)\n",
    "print(x)\n",
    "print(y)"
   ]
  },
  {
   "cell_type": "markdown",
   "metadata": {},
   "source": [
    "#### Indexing works just like numpy "
   ]
  },
  {
   "cell_type": "code",
   "execution_count": 8,
   "metadata": {
    "ExecuteTime": {
     "end_time": "2019-12-13T18:00:29.343761Z",
     "start_time": "2019-12-13T18:00:29.334218Z"
    }
   },
   "outputs": [
    {
     "data": {
      "text/plain": [
       "tensor([0.0296, 0.9621, 0.0695, 0.6671, 0.9297])"
      ]
     },
     "execution_count": 8,
     "metadata": {},
     "output_type": "execute_result"
    }
   ],
   "source": [
    "x[:,1] #The 2nd column (indexing starts at 0)"
   ]
  },
  {
   "cell_type": "code",
   "execution_count": 9,
   "metadata": {
    "ExecuteTime": {
     "end_time": "2019-12-13T18:00:29.647845Z",
     "start_time": "2019-12-13T18:00:29.641846Z"
    }
   },
   "outputs": [
    {
     "data": {
      "text/plain": [
       "tensor([[0.4728, 0.9621, 0.8071],\n",
       "        [0.3693, 0.6671, 0.6609]])"
      ]
     },
     "execution_count": 9,
     "metadata": {},
     "output_type": "execute_result"
    }
   ],
   "source": [
    "x[[1,3],:] # the 2nd and 4th row "
   ]
  },
  {
   "cell_type": "code",
   "execution_count": 10,
   "metadata": {
    "ExecuteTime": {
     "end_time": "2019-12-13T18:00:29.990619Z",
     "start_time": "2019-12-13T18:00:29.985620Z"
    }
   },
   "outputs": [
    {
     "name": "stdout",
     "output_type": "stream",
     "text": [
      "1\n"
     ]
    }
   ],
   "source": [
    "scalar = torch.tensor([1])\n",
    "print(scalar.item()) # Gets the value when tensor is a scalar"
   ]
  },
  {
   "cell_type": "markdown",
   "metadata": {},
   "source": [
    "#### know the size of a tensor"
   ]
  },
  {
   "cell_type": "code",
   "execution_count": 11,
   "metadata": {
    "ExecuteTime": {
     "end_time": "2019-12-13T18:00:30.926728Z",
     "start_time": "2019-12-13T18:00:30.921669Z"
    }
   },
   "outputs": [
    {
     "data": {
      "text/plain": [
       "torch.Size([5, 3])"
      ]
     },
     "execution_count": 11,
     "metadata": {},
     "output_type": "execute_result"
    }
   ],
   "source": [
    "x.size() ## equivalent to x.shape in numpy"
   ]
  },
  {
   "cell_type": "markdown",
   "metadata": {},
   "source": [
    "#### simple addition"
   ]
  },
  {
   "cell_type": "code",
   "execution_count": 12,
   "metadata": {
    "ExecuteTime": {
     "end_time": "2019-12-13T18:00:32.280931Z",
     "start_time": "2019-12-13T18:00:32.273939Z"
    }
   },
   "outputs": [
    {
     "data": {
      "text/plain": [
       "tensor([[1.0056, 1.0296, 1.6323],\n",
       "        [1.4728, 1.9621, 1.8071],\n",
       "        [1.8156, 1.0695, 1.4625],\n",
       "        [1.3693, 1.6671, 1.6609],\n",
       "        [1.7850, 1.9297, 1.6266]])"
      ]
     },
     "execution_count": 12,
     "metadata": {},
     "output_type": "execute_result"
    }
   ],
   "source": [
    "x+1        # same as x.add(1)\n",
    "x.add_(1)  # inplace"
   ]
  },
  {
   "cell_type": "markdown",
   "metadata": {},
   "source": [
    "#### matrix multiplication"
   ]
  },
  {
   "cell_type": "code",
   "execution_count": 13,
   "metadata": {
    "ExecuteTime": {
     "end_time": "2019-12-13T18:00:32.729990Z",
     "start_time": "2019-12-13T18:00:32.723023Z"
    }
   },
   "outputs": [
    {
     "data": {
      "text/plain": [
       "tensor([[2.2164, 2.0300, 1.9335, 1.6311, 1.0568],\n",
       "        [3.3455, 3.0231, 2.6481, 2.6693, 1.6214],\n",
       "        [2.7420, 2.1034, 2.3440, 1.8543, 1.6229],\n",
       "        [2.9798, 2.6628, 2.3958, 2.3313, 1.4680],\n",
       "        [3.4609, 2.9420, 2.7222, 2.6833, 1.8208]])"
      ]
     },
     "execution_count": 13,
     "metadata": {},
     "output_type": "execute_result"
    }
   ],
   "source": [
    "torch.mm(x,y) # same as x @ y or np.dot(x.numpy(),y.numpy())"
   ]
  },
  {
   "cell_type": "markdown",
   "metadata": {},
   "source": [
    "### What to understand:\n",
    "\n",
    "Pytorch can be a drop-in replacement for numpy. It behaves mostly the same and the API is close.\n",
    "\n",
    "\n",
    "### There are many more creation/operation ops:\n",
    "\n",
    "=> You can have a look at the [torch.Tensor documentation](https://pytorch.org/docs/stable/tensors.html)"
   ]
  },
  {
   "cell_type": "markdown",
   "metadata": {},
   "source": [
    "## What's interesting beyond the \"numpy replacement\": autodiff !\n",
    "\n",
    "Pytorch has Automatic differentiation: You only have to compute a loss function to obtain gradients automatically. How it works is detailed [here](https://pytorch.org/tutorials/beginner/pytorch_with_examples.html#pytorch-tensors-and-autograd)\n",
    "\n",
    "### Let's do 1d-linear regression with the vanilla autodiff !\n",
    "\n",
    "#### (First) we need fake data:"
   ]
  },
  {
   "cell_type": "code",
   "execution_count": 14,
   "metadata": {
    "ExecuteTime": {
     "end_time": "2019-12-13T18:00:34.084157Z",
     "start_time": "2019-12-13T18:00:33.938152Z"
    }
   },
   "outputs": [
    {
     "data": {
      "text/plain": [
       "[<matplotlib.lines.Line2D at 0x26358e868c8>]"
      ]
     },
     "execution_count": 14,
     "metadata": {},
     "output_type": "execute_result"
    },
    {
     "data": {
      "image/png": "[encoded data removed]",
      "text/plain": [
       "<Figure size 432x288 with 1 Axes>"
      ]
     },
     "metadata": {
      "needs_background": "light"
     },
     "output_type": "display_data"
    }
   ],
   "source": [
    "fake_x = np.arange(0,100,1)\n",
    "fake_y = np.arange(0,10,0.1) + np.random.rand(100)\n",
    "plt.plot(fake_x,fake_y)"
   ]
  },
  {
   "cell_type": "markdown",
   "metadata": {},
   "source": [
    "**NOTE:** Here, we won't split the data in train/val/test, this is just an example\n",
    "\n",
    "So, the linear model we want to learn is the following:\n",
    "$$f(x) =  wx+b $$\n",
    "The parameters to optimize are w and b."
   ]
  },
  {
   "cell_type": "code",
   "execution_count": 15,
   "metadata": {
    "ExecuteTime": {
     "end_time": "2019-12-13T18:00:34.997387Z",
     "start_time": "2019-12-13T18:00:34.993385Z"
    }
   },
   "outputs": [],
   "source": [
    "# First we create to tensor variables (which are our parameters)\n",
    "w = torch.tensor([1.],requires_grad=True) # We need to set requires_grad to True so the gradient can flow.\n",
    "b = torch.tensor([0.5],requires_grad=True)"
   ]
  },
  {
   "cell_type": "code",
   "execution_count": 16,
   "metadata": {
    "ExecuteTime": {
     "end_time": "2019-12-13T18:00:35.459311Z",
     "start_time": "2019-12-13T18:00:35.455339Z"
    }
   },
   "outputs": [],
   "source": [
    "# We define the f function:\n",
    "def f(x):\n",
    "    return (w*x)+b"
   ]
  },
  {
   "cell_type": "code",
   "execution_count": 17,
   "metadata": {
    "ExecuteTime": {
     "end_time": "2019-12-13T18:00:35.943296Z",
     "start_time": "2019-12-13T18:00:35.939303Z"
    }
   },
   "outputs": [],
   "source": [
    "# We define an error function (here the MAE)\n",
    "def error(pred,real):\n",
    "    return (pred-real).abs()"
   ]
  },
  {
   "cell_type": "code",
   "execution_count": 18,
   "metadata": {
    "ExecuteTime": {
     "end_time": "2019-12-13T18:00:37.644405Z",
     "start_time": "2019-12-13T18:00:36.918437Z"
    }
   },
   "outputs": [
    {
     "name": "stdout",
     "output_type": "stream",
     "text": [
      "----\n",
      "loss: 32.51134943962097\n",
      "w: 0.5049999952316284\n",
      "b: 0.4900013208389282\n",
      "----\n",
      "loss: 8.413745762109757\n",
      "w: 0.1048000305891037\n",
      "b: 0.4810025095939636\n",
      "----\n",
      "loss: 0.3336795634031296\n",
      "w: 0.09960001707077026\n",
      "b: 0.4808025360107422\n",
      "----\n",
      "loss: 0.34361385941505435\n",
      "w: 0.0949999988079071\n",
      "b: 0.4808025360107422\n"
     ]
    },
    {
     "data": {
      "text/plain": [
       "<matplotlib.legend.Legend at 0x263590d6248>"
      ]
     },
     "execution_count": 18,
     "metadata": {},
     "output_type": "execute_result"
    },
    {
     "data": {
      "image/png": "[encoded data removed]",
      "text/plain": [
       "<Figure size 432x288 with 1 Axes>"
      ]
     },
     "metadata": {
      "needs_background": "light"
     },
     "output_type": "display_data"
    }
   ],
   "source": [
    "# Finally, we cycle through the data, optimizing the parameters with respect to the gradient of the error:\n",
    "plt.plot(fake_y)\n",
    "\n",
    "for epoch in range(4): # We cycle 4 times\n",
    "    mean_loss = 0\n",
    "    \n",
    "    for x,y in zip(fake_x,fake_y): \n",
    "        \n",
    "        pred = f(x) #predict\n",
    "        loss = error(pred,y) #compute loss\n",
    "        loss.backward() # This does backpropagation and sets .grad attribute.\n",
    "\n",
    "        # Update parameters via SGD:\n",
    "        with torch.no_grad(): # This deactivated gradient calculations\n",
    "            \n",
    "            mean_loss += loss.item() # get the raw value of a (1,) tensor\n",
    "            w -= 0.0001 * w.grad # This wouldn't be possible w/ gradient (-= is an inplace operation)\n",
    "            b -= 0.0001 * b.grad\n",
    "            w.grad.zero_()\n",
    "            b.grad.zero_()\n",
    "            \n",
    "    # Plot the resulting line        \n",
    "    predictions = [f(x) for x in range(100)]\n",
    "    plt.plot(predictions,label=f\"epoch {epoch}\")\n",
    "\n",
    "    print('----')\n",
    "    print(\"loss:\", mean_loss/len(fake_y))\n",
    "    print('w:',w.item())\n",
    "    print('b:',b.item())\n",
    "    \n",
    "plt.legend()"
   ]
  },
  {
   "cell_type": "markdown",
   "metadata": {},
   "source": [
    "\n",
    "# Full pytorch tutorial: \n",
    "\n",
    "A tutorial can be found [here](https://pytorch.org/tutorials/beginner/deep_learning_60min_blitz.html) do not hesitate to take a couple of minutes to skim read it. Plenty of [ressources](https://pytorch.org/resources) are available online. Also, you can have a look at the [extensive pytorch documentation](https://pytorch.org/docs/stable/index.html). \n",
    "\n",
    "Here, as we are defining neural networks, we mainly use the `torch.nn` module which contains most classical deep learning building blocks\n",
    "\n"
   ]
  },
  {
   "cell_type": "markdown",
   "metadata": {},
   "source": [
    "## Data used : [smallest movie-lens dataset](https://grouplens.org/datasets/movielens/)\n",
    "\n",
    "=> Just like the previous sessions\n",
    "\n",
    "\n",
    "# 1)  Load & Prepare Data\n",
    "\n",
    "To be able to embed the data easily, we need to remap  the user/items between [0->N_User] and [0->N_Items]."
   ]
  },
  {
   "cell_type": "code",
   "execution_count": 19,
   "metadata": {
    "ExecuteTime": {
     "end_time": "2019-12-13T18:00:42.999877Z",
     "start_time": "2019-12-13T18:00:42.829015Z"
    }
   },
   "outputs": [
    {
     "name": "stdout",
     "output_type": "stream",
     "text": [
      " #train:64535, #val:16133 ,#test:20168\n"
     ]
    }
   ],
   "source": [
    "from random import shuffle\n",
    "\n",
    "## Load\n",
    "ratings = pd.read_csv(\"dataset/ratings.csv\")\n",
    "ratings.head(5)\n",
    "\n",
    "## Prepare Data\n",
    "user_map = {user:num for num,user in enumerate(ratings[\"userId\"].unique())}\n",
    "item_map = {item:num for num,item in enumerate(ratings[\"movieId\"].unique())}\n",
    "\n",
    "## Number of users & items\n",
    "num_users = len(user_map)\n",
    "num_items = len(item_map)\n",
    "\n",
    "ratings[\"userId\"] = ratings[\"userId\"].map(user_map)\n",
    "ratings[\"movieId\"] = ratings[\"movieId\"].map(item_map)\n",
    "\n",
    "ratings.head(5)\n",
    "\n",
    "# Creating Test/Train as before\n",
    "\n",
    "train_indexes,val_indexes,test_indexes = [],[],[]\n",
    "\n",
    "for index in range(len(ratings)):\n",
    "    if index%5 == 0:\n",
    "        test_indexes.append(index)\n",
    "    else:\n",
    "        train_indexes.append(index)\n",
    "\n",
    "        \n",
    "shuffle(train_indexes)\n",
    "num_val = int(len(train_indexes)/100*20)\n",
    "val_indexes = train_indexes[:num_val]\n",
    "train_indexes = train_indexes[num_val:]\n",
    "\n",
    "train_ratings = ratings.iloc[train_indexes].copy()\n",
    "val_ratings = ratings.iloc[val_indexes].copy()\n",
    "test_ratings = ratings.iloc[test_indexes].copy()\n",
    "\n",
    "\n",
    "print(f\" #train:{len(train_ratings)}, #val:{len(val_ratings)} ,#test:{len(test_ratings)}\" )\n",
    "\n"
   ]
  },
  {
   "cell_type": "markdown",
   "metadata": {},
   "source": [
    "## (TODO) Reproduce the baseline model with pytorch's vanilla autograd"
   ]
  },
  {
   "cell_type": "markdown",
   "metadata": {},
   "source": [
    "Your goal now is to reproduce the following baseline model from surprise\n",
    "\n",
    "## $$\\hat{r}_{ui} = b_{ui} = \\mu + b_u + b_i$$"
   ]
  },
  {
   "cell_type": "markdown",
   "metadata": {},
   "source": [
    "## (TODO) : First, let's define the parameters\n",
    "\n",
    "You have many parameters, they are all 1-dimensional:\n",
    "- **mu:** the global mean (1,)\n",
    "- **bu:** the user means (n_users,)\n",
    "- **bi:** the item means (n_items,)\n"
   ]
  },
  {
   "cell_type": "code",
   "execution_count": 20,
   "metadata": {
    "ExecuteTime": {
     "end_time": "2019-12-13T18:00:46.824297Z",
     "start_time": "2019-12-13T18:00:46.768258Z"
    }
   },
   "outputs": [],
   "source": [
    "mu = torch.tensor([train_ratings.rating.mean()],requires_grad=True)#To Complete\n",
    "bu = [torch.tensor([value],requires_grad=True) for value in ratings\\\n",
    "    .groupby('userId')\\\n",
    "    .rating.mean().values.astype(float)]    #--- use a list of torch.tensor() not one torch tensor\n",
    "bi = [torch.tensor([value],requires_grad=True) for value in ratings\\\n",
    "    .groupby('movieId')\\\n",
    "    .rating.mean().values.astype(float)]    #--- use a list of torch.tensor() not one torch tensor"
   ]
  },
  {
   "cell_type": "markdown",
   "metadata": {},
   "source": [
    "\n",
    "Then, we define two functions: \n",
    "\n",
    "- `predict(u,i)` : Will return the prediction given the (user,item) pair\n",
    "- `error(pred,real)` : Will return the MSE error of prediction"
   ]
  },
  {
   "cell_type": "markdown",
   "metadata": {},
   "source": [
    "#### (TODO) Predict Function\n",
    "This function should implement this: $\\hat{r}_{ui} = b_{ui} = \\mu + b_u + b_i$"
   ]
  },
  {
   "cell_type": "code",
   "execution_count": 21,
   "metadata": {
    "ExecuteTime": {
     "end_time": "2019-12-13T18:00:53.523954Z",
     "start_time": "2019-12-13T18:00:53.517981Z"
    }
   },
   "outputs": [],
   "source": [
    "def predict(u,i):\n",
    "    \n",
    "    if u < num_users: # if user exist:\n",
    "        user_mean = bu[u]#To Complete\n",
    "    else:\n",
    "        user_mean = torch.tensor([0],requires_grad=True)#To Complete\n",
    "        \n",
    "    if i < num_items: # if item exist:\n",
    "        item_mean = bi[i]#To Complete\n",
    "    else:\n",
    "        item_mean = torch.tensor([0],requires_grad=True)#To Complete\n",
    "        \n",
    "    return mu + user_mean + item_mean#To Complete"
   ]
  },
  {
   "cell_type": "markdown",
   "metadata": {},
   "source": [
    "### (TODO) error function\n",
    "We want to use the MSE"
   ]
  },
  {
   "cell_type": "code",
   "execution_count": 22,
   "metadata": {
    "ExecuteTime": {
     "end_time": "2019-12-13T18:01:00.075267Z",
     "start_time": "2019-12-13T18:01:00.071292Z"
    }
   },
   "outputs": [],
   "source": [
    "def error(pred,real):\n",
    "    return (pred-real).pow(2).mean()"
   ]
  },
  {
   "cell_type": "markdown",
   "metadata": {},
   "source": [
    "#### The evaluation loop, without any optimization for now"
   ]
  },
  {
   "cell_type": "code",
   "execution_count": 23,
   "metadata": {
    "ExecuteTime": {
     "end_time": "2019-12-13T18:01:12.341397Z",
     "start_time": "2019-12-13T18:01:06.839435Z"
    }
   },
   "outputs": [
    {
     "name": "stdout",
     "output_type": "stream",
     "text": [
      "final train error :  49.73368532512249\n",
      "final val error :  49.709645202552544\n",
      "final test error :  49.73121277886882\n"
     ]
    }
   ],
   "source": [
    "train_e = 0\n",
    "for index, uid, mid, r, ts in train_ratings.itertuples():\n",
    "    result = predict(uid,mid)\n",
    "    train_e += error(result,r).item()\n",
    "    \n",
    "val_e = 0\n",
    "for index, uid, mid, r, ts in val_ratings.itertuples():\n",
    "    result = predict(uid,mid)\n",
    "    val_e += error(result,r).item()\n",
    "\n",
    "test_e = 0\n",
    "for index, uid, mid, r, ts in test_ratings.itertuples():\n",
    "    result = predict(uid,mid)\n",
    "    test_e += error(result,r).item()\n",
    "\n",
    "print(\"final train error : \", train_e/len(train_ratings))\n",
    "print(\"final val error : \", val_e/len(val_ratings))\n",
    "print(\"final test error : \", test_e/len(test_ratings))"
   ]
  },
  {
   "cell_type": "markdown",
   "metadata": {},
   "source": [
    "## Let's optimize the parameters (with SGD)  by slightly modifying the previous loop\n",
    "\n",
    "### (TODO)\n"
   ]
  },
  {
   "cell_type": "code",
   "execution_count": 24,
   "metadata": {
    "ExecuteTime": {
     "end_time": "2019-12-13T18:02:53.580762Z",
     "start_time": "2019-12-13T18:01:18.748400Z"
    }
   },
   "outputs": [
    {
     "name": "stdout",
     "output_type": "stream",
     "text": [
      "epoch 0 train error :  0.6999870203798711\n",
      "epoch 0 val error :  0.6655579322341528\n",
      "epoch 0 test error :  0.6440869758603424\n",
      "-----\n",
      "epoch 1 train error :  0.6627290552435594\n",
      "epoch 1 val error :  0.6723392448852467\n",
      "epoch 1 test error :  0.6535317681276341\n",
      "-----\n",
      "epoch 2 train error :  0.6611821344824307\n",
      "epoch 2 val error :  0.6839851419848118\n",
      "epoch 2 test error :  0.6646433754172665\n",
      "-----\n",
      "epoch 3 train error :  0.6593684677792755\n",
      "epoch 3 val error :  0.7576571762281263\n",
      "epoch 3 test error :  0.7349584712091559\n",
      "-----\n",
      "epoch 4 train error :  0.6609458701537142\n",
      "epoch 4 val error :  0.6896433509165538\n",
      "epoch 4 test error :  0.6719101580458979\n",
      "-----\n"
     ]
    }
   ],
   "source": [
    "lr = 0.01\n",
    "batch_size = 32\n",
    "n_epochs = 5\n",
    "\n",
    "for epoch in range(n_epochs):\n",
    "    \n",
    "    train_e = 0\n",
    "    \n",
    "    for num,(index, uid, mid, r, ts) in enumerate(train_ratings.sample(frac=1).itertuples()):\n",
    "        result = predict(uid, mid)#To Complete\n",
    "        ex_error = error(result,r)#To Complete\n",
    "        train_e += error(result,r).item()#To Complete\n",
    "        \n",
    "        ex_error.backward()\n",
    "\n",
    "        if num % batch_size == 0:\n",
    "            \n",
    "            with torch.no_grad():\n",
    "                mu -= lr * mu.grad#To Complete\n",
    "                bu[uid] -= lr * bu[uid].grad#To Complete\n",
    "                bi[mid] -= lr * bi[mid].grad#To Complete\n",
    "\n",
    "                # Manually zero the gradients after updating weights\n",
    "                mu.grad.zero_()\n",
    "                bu[uid].grad.zero_()\n",
    "                bi[mid].grad.zero_()\n",
    "\n",
    "\n",
    "    print(f\"epoch {epoch} train error : \", train_e/len(train_ratings))\n",
    "    \n",
    "    val_e = 0\n",
    "    for index, uid, mid, r, ts in val_ratings.itertuples():\n",
    "        result = predict(uid,mid)\n",
    "        val_e += error(result,r).item()\n",
    "\n",
    "    print(f\"epoch {epoch} val error : \", val_e/len(val_ratings))\n",
    "\n",
    "\n",
    "    test_e = 0\n",
    "    for index, uid, mid, r, ts in test_ratings.itertuples():\n",
    "        result = predict(uid,mid)\n",
    "        test_e += error(result,r).item()\n",
    "\n",
    "    print(f\"epoch {epoch} test error : \", test_e/len(test_ratings))\n",
    "    print(\"-----\")"
   ]
  },
  {
   "cell_type": "markdown",
   "metadata": {},
   "source": [
    "#  Pytorch (.nn) Modules\n",
    "\n",
    "Instead of having to define everything by hand, pytorch has several usefull abstractions:\n",
    "\n",
    "- `nn.Module()` -> To define the model and the forward computation\n",
    "- `torch.utils.data.DataLoader` -> To create the data pipeline\n",
    "\n",
    "To explore these modules, we'll do the following model:\n",
    "\n",
    "##  Classic SVD (with mean)\n",
    "\n",
    "To see how it works, we propose to implement a simple SVD:\n",
    "### $$ \\min\\limits_{U,I}\\sum\\limits_{(u,i)} \\underbrace{(r_{ui} -  (I_i^TU_u + \\mu))^2}_\\text{minimization} + \\underbrace{\\lambda(||U_u||^2+||I_u||^2 + \\mu) }_\\text{regularization} $$\n",
    "\n",
    "where prediction is done in the following way:\n",
    "### $$r_{ui} = \\mu + U_u.I_i $$\n",
    "\n",
    "where $\\mu$ is the global mean,  $U_u$ a user embedding and $I_i$ an item embedding\n",
    "\n",
    "### STEPS:\n",
    " To implement such model in pytorch, we need to do multiple things:\n",
    " \n",
    " - (1) model definition\n",
    " - (2) loss function\n",
    " - (3) evaluation\n",
    " - (4) training/eval loop\n",
    "\n",
    "\n",
    "#### (1) Model definition\n",
    "\n",
    "A model class typically extends `nn.Module`, the Neural network module. It is a convenient way of encapsulating parameters, with helpers for moving them to GPU, exporting, loading, etc.\n",
    "\n",
    "One should define two functions: `__init__` and `forward`.\n",
    "\n",
    "- `__init__` is used to initialize the model parameters\n",
    "- `forward` is the net transformation from input to output. In fact, when doing `moduleClass(input)` you call this method.\n",
    "\n",
    "##### (a) Initialization\n",
    "\n",
    "Our model has different weigths:\n",
    "\n",
    "- the user profiles (also called user embeddings) $U$\n",
    "- the item profiles (also called user embeddings) $I$\n",
    "- the mean bias $\\mu$\n",
    "\n",
    "\n",
    "##### (b) input to output operation\n",
    "Technically, the prediction as defined earlier can be seen as just a dot product between two embeddings $U_u$ and $I_i$ plus the mean rating:\n",
    "\n",
    "- `torch.sum(embed_u*embed_i,1) + self.mean` is equivalent to $r_{ui} = \\mu + U_u.I_i $ \n",
    "- the `.squeeze(1)` operation is a shape operation to remove the dimension 1 (indexing starts at 0) akin to reshaping the matrix from `(batch_size,1,latent_size)` to `(batch_size,latent_size)`\n",
    "- for reference, the inverse operation is `.unsqueeze()`\n",
    "- we return weights to regularize them\n",
    "\n",
    "\n",
    "### (TODO) Just to make sure you were following: complete the following `forward` method"
   ]
  },
  {
   "cell_type": "code",
   "execution_count": 25,
   "metadata": {
    "ExecuteTime": {
     "end_time": "2019-12-13T18:03:02.123734Z",
     "start_time": "2019-12-13T18:03:01.998634Z"
    }
   },
   "outputs": [],
   "source": [
    "#  Let's create the datasets following  (Object w/ __getitem__(index) and __len()__, i.e lists ;)\n",
    "prep_train = [(tp.userId,tp.movieId,tp.rating) for tp in train_ratings.itertuples()]\n",
    "prep_val = [(tp.userId,tp.movieId,tp.rating) for tp in val_ratings.itertuples()]\n",
    "prep_test = [(tp.userId,tp.movieId,tp.rating) for tp in test_ratings.itertuples()]"
   ]
  },
  {
   "cell_type": "code",
   "execution_count": 26,
   "metadata": {
    "ExecuteTime": {
     "end_time": "2019-12-13T18:03:09.097962Z",
     "start_time": "2019-12-13T18:03:09.086961Z"
    }
   },
   "outputs": [],
   "source": [
    "import torch\n",
    "import torch.nn as nn\n",
    "\n",
    "\n",
    "# The model define as a class, inheriting from nn.Module\n",
    "class ClassicMF(nn.Module):\n",
    "    \n",
    "    #(a) Init\n",
    "    def __init__(self,nb_users,nb_items,latent_size):\n",
    "        super(ClassicMF, self).__init__()\n",
    "        \n",
    "        #Embedding layers\n",
    "        self.users = nn.Embedding(nb_users, latent_size)#To Complete     \n",
    "        self.items = nn.Embedding(nb_items, latent_size)#To Complete\n",
    "        #The mean bias\n",
    "        self.mean = nn.Parameter(torch.FloatTensor(1,).fill_(3))\n",
    "        \n",
    "        #initialize weights with very small values\n",
    "        nn.init.normal_(self.users.weight,0,0.01)\n",
    "        nn.init.normal_(self.items.weight,0,0.01)\n",
    "\n",
    "    \n",
    "    # (b) How we compute the prediction (from input to output)\n",
    "    def forward(self, user, item): ## method called when doing ClassicMF(user,item)\n",
    "        \n",
    "        embed_u,embed_i = self.users(user).squeeze(1),self.items(item).squeeze(1)\n",
    "        out =  self.mean + embed_u @ embed_i.T#To Complete\n",
    "\n",
    "        return out, embed_u, embed_i, self.mean  # We return prediction + weights to regularize them\n",
    "    \n",
    "    "
   ]
  },
  {
   "cell_type": "markdown",
   "metadata": {},
   "source": [
    "#### (2-4) full train loop\n",
    "\n",
    "The train loop is organized around the [Dataloader](https://pytorch.org/docs/stable/data.html#torch.utils.data.DataLoader) class which Combines a dataset and a sampler, and provides single- or multi-process iterators over the dataset.\n",
    "\n",
    "We just redefine a collate function\n",
    "\n",
    "> collate_fn (callable, optional) – merges a list of samples to form a mini-batch.\n",
    "\n",
    "\n",
    "**NOTE:** The dataset argument can be a list instead of a \"Dataset\" instance (works by duck typing)\n",
    "    \n",
    "\n",
    "##### The train loop sequence is the following:\n",
    "    \n",
    "[Dataset ==Dataloader==> Batch (not prepared) ==collate_fn==> Batch (prepared) ==Model.forward==> Prediction =loss_fn=> loss <-> truth \n",
    "\n",
    "1] PREDICT\n",
    "- (a) The dataloader samples training exemples from the dataset (which is a list)\n",
    "- (b) The collate_fn prepares the minibatch of training exemples\n",
    "- (c) The prediction is made by feeding the minibatch in the model\n",
    "- (d) The loss is computed on the prediction via a loss function\n",
    "\n",
    "2] OPTIMIZE\n",
    "- (e) Gradients are computed by automatic backard propagation\n",
    "- (f) Parameters are updated using computed gradients"
   ]
  },
  {
   "cell_type": "code",
   "execution_count": 27,
   "metadata": {
    "ExecuteTime": {
     "end_time": "2019-12-13T18:04:00.872665Z",
     "start_time": "2019-12-13T18:03:16.050658Z"
    }
   },
   "outputs": [
    {
     "name": "stderr",
     "output_type": "stream",
     "text": [
      "C:\\Anaconda3\\envs\\training\\lib\\site-packages\\ipykernel_launcher.py:38: UserWarning: Using a target size (torch.Size([16])) that is different to the input size (torch.Size([16, 16])). This will likely lead to incorrect results due to broadcasting. Please ensure they have the same size.\n",
      "C:\\Anaconda3\\envs\\training\\lib\\site-packages\\ipykernel_launcher.py:38: UserWarning: Using a target size (torch.Size([7])) that is different to the input size (torch.Size([7, 7])). This will likely lead to incorrect results due to broadcasting. Please ensure they have the same size.\n",
      "C:\\Anaconda3\\envs\\training\\lib\\site-packages\\ipykernel_launcher.py:38: UserWarning: Using a target size (torch.Size([5])) that is different to the input size (torch.Size([5, 5])). This will likely lead to incorrect results due to broadcasting. Please ensure they have the same size.\n",
      "C:\\Anaconda3\\envs\\training\\lib\\site-packages\\ipykernel_launcher.py:38: UserWarning: Using a target size (torch.Size([8])) that is different to the input size (torch.Size([8, 8])). This will likely lead to incorrect results due to broadcasting. Please ensure they have the same size.\n"
     ]
    },
    {
     "name": "stdout",
     "output_type": "stream",
     "text": [
      "-------------------------\n",
      "epoch 0 mse (train/val/test) 16.015 / 15.082 / 14.607\n",
      "-------------------------\n",
      "epoch 1 mse (train/val/test) 14.075 / 15.011 / 14.496\n",
      "-------------------------\n",
      "epoch 2 mse (train/val/test) 13.555 / 15.006 / 14.583\n"
     ]
    }
   ],
   "source": [
    "from torch.utils.data import DataLoader\n",
    "import torch.nn.functional as F\n",
    "\n",
    "\n",
    "# HyperParameters\n",
    "n_epochs = 3\n",
    "batch_size = 16\n",
    "num_feat = 25\n",
    "lr = 0.01\n",
    "reg = 0.001\n",
    "\n",
    "\n",
    "#(b) Collate function => Creates tensor batches to feed model during training\n",
    "# It can be removed if data is already tensors (torch or numpy ;)\n",
    "def tuple_batch(l):\n",
    "    '''\n",
    "    input l: list of (user,item,rating tuples)\n",
    "    output: formatted batches (in torch tensors)\n",
    "\n",
    "    takes n-tuples and create batch\n",
    "    text -> seq word #id\n",
    "    '''\n",
    "    users, items, ratings = zip(*l) \n",
    "    users_t = torch.LongTensor(users)\n",
    "    items_t = torch.LongTensor(items)\n",
    "    ratings_t = torch.FloatTensor(ratings)\n",
    "    \n",
    "    return users_t, items_t, ratings_t\n",
    "    \n",
    "\n",
    "\n",
    "#(d) Loss function => Combines MSE and L2\n",
    "def loss_func(pred,ratings_t,reg,*params):\n",
    "    '''\n",
    "    mse loss combined with l2 regularization.\n",
    "    params assumed 2-dimension\n",
    "    '''\n",
    "    mse = F.mse_loss(pred,ratings_t,reduction='sum')\n",
    "    l2 = 0\n",
    "    for p in params:\n",
    "        l2 += torch.mean(p.norm(2,-1))\n",
    "        \n",
    "    return (mse/pred.size(0)) + reg*l2 , mse\n",
    "    \n",
    "#\n",
    "# Training script starts here\n",
    "#    \n",
    "\n",
    "\n",
    "model = ClassicMF(num_users,num_items,num_feat)\n",
    "\n",
    "\n",
    "\n",
    "# (a) dataloader will sample data from datasets using collate_fn tuple_batch\n",
    "dataloader_train = DataLoader(prep_train, batch_size=batch_size, shuffle=True, num_workers=0, collate_fn=tuple_batch)\n",
    "dataloader_val = DataLoader(prep_val, batch_size=batch_size, shuffle=True, num_workers=0, collate_fn=tuple_batch)\n",
    "dataloader_test = DataLoader(prep_test, batch_size=batch_size, shuffle=False, num_workers=0, collate_fn=tuple_batch)\n",
    "\n",
    "optimizer = torch.optim.Adam(model.parameters())\n",
    "\n",
    "# Train loop\n",
    "for e in range(n_epochs):\n",
    "    mean_loss = [0,0,0] #train/val/test\n",
    "\n",
    "    ## Training loss (the one we train with)\n",
    "    \n",
    "    for users_t,items_t,ratings_t in dataloader_train:\n",
    "        model.train() # set the model on train mode\n",
    "        model.zero_grad() # reset gradients\n",
    "        \n",
    "        #(c) predictions are made by the model\n",
    "        pred,*params = model(users_t,items_t)\n",
    "        \n",
    "        #(d) loss computed on predictions, we added regularization\n",
    "        loss,mse_loss = loss_func(pred,ratings_t,reg,*params)\n",
    "        \n",
    "        loss.backward() #(e) backpropagating to get gradients\n",
    "        \n",
    "        mean_loss[0] += mse_loss\n",
    "        optimizer.step() #(f) updating parameters\n",
    "    \n",
    "    with torch.no_grad():\n",
    "        ## Validation loss (no training)\n",
    "        for users_t,items_t,ratings_t in dataloader_val:\n",
    "\n",
    "            model.eval() # Inference mode\n",
    "            pred,*params = model(users_t,items_t)\n",
    "            _,mse_loss = loss_func(pred,ratings_t,reg,*params)\n",
    "\n",
    "            mean_loss[1] += mse_loss    \n",
    "\n",
    "        ## Test loss (no training)\n",
    "\n",
    "        for users_t,items_t,ratings_t in dataloader_test:\n",
    "            model.eval()\n",
    "            pred,*params = model(users_t,items_t)\n",
    "            _,mse_loss = loss_func(pred,ratings_t,reg,*params)\n",
    "\n",
    "            mean_loss[2] += mse_loss    \n",
    "\n",
    "    print(\"-\"*25)\n",
    "    print(\"epoch\",e, \"mse (train/val/test)\", round((mean_loss[0]/len(prep_train)).item(),3),\"/\",  round((mean_loss[1]/len(prep_val)).item(),3),\"/\",  round((mean_loss[2]/len(prep_test)).item(),3))\n",
    "    \n",
    "    "
   ]
  },
  {
   "cell_type": "markdown",
   "metadata": {},
   "source": [
    "## (Your turn) Koren 2009 model:\n",
    "\n",
    "Here, this model simply adds a bias for each user and for each item\n",
    "\n",
    "### $$ \\min\\limits_{U,I}\\sum\\limits_{(u,i)} \\underbrace{(r_{ui} -  (I_i^TU_u + \\mu+ \\mu_i+\\mu_u))^2}_\\text{minimization} + \\underbrace{\\lambda(||U_u||^2+||I_u||^2 + \\mu  + \\mu+ \\mu_i+\\mu_u) }_\\text{regularization} $$\n",
    "\n",
    "\n",
    "### $$r_{ui} = \\mu + \\mu_i + \\mu_u + U_u.I_i $$\n",
    "\n",
    "### TODO:\n",
    "\n",
    "- (a) complete the model initialization\n",
    "- (b) complete the forward method"
   ]
  },
  {
   "cell_type": "code",
   "execution_count": 36,
   "metadata": {
    "ExecuteTime": {
     "end_time": "2019-12-13T18:13:35.754298Z",
     "start_time": "2019-12-13T18:13:35.742293Z"
    }
   },
   "outputs": [],
   "source": [
    "class KorenMF(nn.Module):\n",
    "\n",
    "    def __init__(self,nb_users,nb_items,latent_size):\n",
    "        super(KorenMF, self).__init__()\n",
    "        \n",
    "        self.users = nn.Embedding(nb_users, latent_size)#To Complete\n",
    "        self.items = nn.Embedding(nb_items, latent_size)#To Complete\n",
    "        self.umean = nn.Embedding(nb_users, 1)#To Complete\n",
    "        self.imean = nn.Embedding(nb_items, 1)#To Complete\n",
    "        self.gmean = nn.Parameter(torch.FloatTensor(1,).fill_(3))#To Complete\n",
    "\n",
    "        nn.init.normal_(self.users.weight,0,0.01)\n",
    "        nn.init.normal_(self.items.weight,0,0.01)\n",
    "        nn.init.normal_(self.umean.weight,2,1)\n",
    "        nn.init.normal_(self.imean.weight,2,1)\n",
    "        \n",
    "        \n",
    "    def forward(self, user,item):\n",
    "        embed_u,embed_i = self.users(user).squeeze(1) , self.items(item).squeeze(1)\n",
    "        umean, imean = self.umean(user) , self.imean(item)\n",
    "        out = self.gmean + umean + imean + embed_u @ embed_i.T#To Complete\n",
    "\n",
    "        return out , embed_u, embed_i, umean , imean , self.gmean"
   ]
  },
  {
   "cell_type": "markdown",
   "metadata": {},
   "source": [
    "### (TODO) Here, train loop stays the same, you only have to change the model"
   ]
  },
  {
   "cell_type": "code",
   "execution_count": 37,
   "metadata": {
    "ExecuteTime": {
     "end_time": "2019-12-13T18:17:26.373083Z",
     "start_time": "2019-12-13T18:13:43.540530Z"
    }
   },
   "outputs": [
    {
     "name": "stderr",
     "output_type": "stream",
     "text": [
      "C:\\Anaconda3\\envs\\training\\lib\\site-packages\\ipykernel_launcher.py:33: UserWarning: Using a target size (torch.Size([16])) that is different to the input size (torch.Size([16, 16])). This will likely lead to incorrect results due to broadcasting. Please ensure they have the same size.\n",
      "C:\\Anaconda3\\envs\\training\\lib\\site-packages\\ipykernel_launcher.py:33: UserWarning: Using a target size (torch.Size([7])) that is different to the input size (torch.Size([7, 7])). This will likely lead to incorrect results due to broadcasting. Please ensure they have the same size.\n",
      "C:\\Anaconda3\\envs\\training\\lib\\site-packages\\ipykernel_launcher.py:33: UserWarning: Using a target size (torch.Size([5])) that is different to the input size (torch.Size([5, 5])). This will likely lead to incorrect results due to broadcasting. Please ensure they have the same size.\n",
      "C:\\Anaconda3\\envs\\training\\lib\\site-packages\\ipykernel_launcher.py:33: UserWarning: Using a target size (torch.Size([8])) that is different to the input size (torch.Size([8, 8])). This will likely lead to incorrect results due to broadcasting. Please ensure they have the same size.\n"
     ]
    },
    {
     "name": "stdout",
     "output_type": "stream",
     "text": [
      "-------------------------\n",
      "epoch 0 mse (train/val/test) 81.992 / 35.476 / 34.017\n",
      "-------------------------\n",
      "epoch 1 mse (train/val/test) 29.366 / 26.822 / 26.12\n",
      "-------------------------\n",
      "epoch 2 mse (train/val/test) 23.345 / 23.243 / 22.435\n",
      "-------------------------\n",
      "epoch 3 mse (train/val/test) 19.92 / 21.01 / 20.335\n",
      "-------------------------\n",
      "epoch 4 mse (train/val/test) 17.619 / 19.649 / 19.029\n",
      "-------------------------\n",
      "epoch 5 mse (train/val/test) 16.313 / 18.82 / 18.174\n",
      "-------------------------\n",
      "epoch 6 mse (train/val/test) 15.476 / 18.21 / 17.599\n",
      "-------------------------\n",
      "epoch 7 mse (train/val/test) 14.896 / 17.856 / 17.126\n",
      "-------------------------\n",
      "epoch 8 mse (train/val/test) 14.489 / 17.574 / 16.981\n",
      "-------------------------\n",
      "epoch 9 mse (train/val/test) 14.161 / 17.297 / 16.669\n"
     ]
    }
   ],
   "source": [
    "from torch.utils.data import DataLoader\n",
    "import torch.nn.functional as F\n",
    "\n",
    "n_epochs = 10\n",
    "batch_size = 16\n",
    "num_feat = 25\n",
    "lr = 0.01\n",
    "reg = 0.001\n",
    "\n",
    "\n",
    "\n",
    "def tuple_batch(l):\n",
    "    '''\n",
    "    input l: list of (user,item,review, rating tuples)\n",
    "    output: formatted batches (in torch tensors)\n",
    "\n",
    "    takes n-tuples and create batch\n",
    "    text -> seq word #id\n",
    "    '''\n",
    "    users, items,ratings = zip(*l)\n",
    "    users_t = torch.LongTensor(users)\n",
    "    items_t = torch.LongTensor(items)\n",
    "    ratings_t = torch.FloatTensor(ratings)\n",
    "    \n",
    "    return users_t,items_t,ratings_t\n",
    "\n",
    "\n",
    "def loss_func(pred,ratings_t,reg,*params):\n",
    "    '''\n",
    "    mse loss combined with l2 regularization.\n",
    "    params assumed 2-dimension\n",
    "    '''\n",
    "    mse = F.mse_loss(pred,ratings_t,reduction=\"sum\")\n",
    "    l2 = 0\n",
    "    for p in params:\n",
    "        l2 += torch.mean(p.norm(2,-1))\n",
    "        \n",
    "    return (mse/pred.size(0)) + reg*l2 , mse\n",
    "    \n",
    "\n",
    "model =  KorenMF(num_users,num_items,num_feat)#To Complete\n",
    "\n",
    "\n",
    "dataloader_train = DataLoader(prep_train, batch_size=batch_size, shuffle=True, num_workers=0, collate_fn=tuple_batch)\n",
    "dataloader_val = DataLoader(prep_val, batch_size=batch_size, shuffle=False, num_workers=0, collate_fn=tuple_batch)\n",
    "dataloader_test = DataLoader(prep_test, batch_size=batch_size, shuffle=False, num_workers=0, collate_fn=tuple_batch)\n",
    "\n",
    "optimizer = torch.optim.Adam(model.parameters())\n",
    "\n",
    "\n",
    "for e in range(n_epochs):\n",
    "    mean_loss = [0,0,0] #train/val/test\n",
    "\n",
    "    for users_t,items_t,ratings_t in dataloader_train:\n",
    "        model.train()\n",
    "        model.zero_grad()\n",
    "        pred,*params = model(users_t,items_t)\n",
    "\n",
    "        loss,mse_loss = loss_func(pred,ratings_t,reg,*params)\n",
    "        loss.backward()\n",
    "        \n",
    "        mean_loss[0] += mse_loss\n",
    "        optimizer.step()\n",
    "    \n",
    "    \n",
    "\n",
    "    for users_t,items_t,ratings_t in dataloader_val:\n",
    "        model.eval()\n",
    "        pred,*params = model(users_t,items_t)\n",
    "        _,mse_loss = loss_func(pred,ratings_t,reg,*params)\n",
    "    \n",
    "        mean_loss[1] += mse_loss    \n",
    "        \n",
    "    for users_t,items_t,ratings_t in dataloader_test:\n",
    "        model.eval()\n",
    "        pred,*params = model(users_t,items_t)\n",
    "        _,mse_loss = loss_func(pred,ratings_t,reg,*params)\n",
    "    \n",
    "        mean_loss[2] += mse_loss    \n",
    "\n",
    "    print(\"-\"*25)\n",
    "    print(\"epoch\",e, \"mse (train/val/test)\", round((mean_loss[0]/len(prep_train)).item(),3),\"/\",  round((mean_loss[1]/len(prep_val)).item(),3),\"/\",  round((mean_loss[2]/len(prep_test)).item(),3))\n",
    "    \n",
    "    "
   ]
  },
  {
   "cell_type": "markdown",
   "metadata": {},
   "source": [
    "## Pytorch's keras: Pytorch-Lightning\n",
    "\n",
    "Pytorch lightning is a easy to use framework for Pytorch. To start a new project you just need to define two files:\n",
    "\n",
    "- a LightningModule (which inherits `pl.LightningModule`)\n",
    "- a Trainer file. \n",
    "\n",
    "By defining those two files, you get:\n",
    "- Checkpointing\n",
    "- Debugging\n",
    "- Distributed training\n",
    "- Experiment Logging\n",
    "- Training loop\n",
    "- Validation loop\n",
    "- Testing loop\n",
    "\n",
    "## Let's try with the same but different Koren 2009 model:"
   ]
  },
  {
   "cell_type": "markdown",
   "metadata": {},
   "source": [
    "\n",
    "### $$r_{ui} = \\mu + \\mu_i + \\mu_u + U_u.I_i $$\n",
    "\n",
    "Where the goal is to minimize the following loss\n",
    "\n",
    "### $$ \\min\\limits_{U,I}\\sum\\limits_{(u,i)} \\underbrace{(r_{ui} -  (I_i^TU_u + \\mu+ \\mu_i+\\mu_u))^2}_\\text{minimization} + \\underbrace{\\lambda(||U_u||^2+||I_u||^2 + \\mu  + \\mu+ \\mu_i+\\mu_u) }_\\text{regularization} $$\n",
    "\n",
    "\n"
   ]
  },
  {
   "cell_type": "markdown",
   "metadata": {},
   "source": [
    "## (TODO) Complete the code"
   ]
  },
  {
   "cell_type": "code",
   "execution_count": 38,
   "metadata": {
    "ExecuteTime": {
     "end_time": "2019-12-13T18:17:35.359898Z",
     "start_time": "2019-12-13T18:17:33.335100Z"
    }
   },
   "outputs": [],
   "source": [
    "from torch.utils.data import DataLoader\n",
    "import torch.nn.functional as F\n",
    "import torch.nn as nn\n",
    "import pytorch_lightning as pl\n",
    "\n",
    "class LightningKorenMF(pl.LightningModule):\n",
    "\n",
    "    def __init__(self,nb_users,nb_items,latent_size):\n",
    "        super(LightningKorenMF, self).__init__()\n",
    "        \n",
    "        self.reg = 0.001\n",
    "        \n",
    "        self.users = nn.Embedding(nb_users, latent_size)#To Complete\n",
    "        self.items = nn.Embedding(nb_items, latent_size)#To Complete\n",
    "        self.umean = nn.Embedding(nb_users, 1)#To Complete\n",
    "        self.imean = nn.Embedding(nb_items, 1)#To Complete\n",
    "        self.gmean =  nn.Parameter(torch.FloatTensor(1,).fill_(3))\n",
    "\n",
    "        nn.init.normal_(self.users.weight,0,0.01)\n",
    "        nn.init.normal_(self.items.weight,0,0.01)\n",
    "        nn.init.normal_(self.umean.weight,0.1,0.1)\n",
    "        nn.init.normal_(self.imean.weight,0.1,0.1)\n",
    "        \n",
    "\n",
    "    def forward(self, user,item):\n",
    "        embed_u,embed_i = self.users(user).squeeze(1) , self.items(item).squeeze(1)\n",
    "        umean, imean = self.umean(user) , self.imean(item)\n",
    "        out = self.gmean + umean + imean + embed_u @ embed_i.T#To Complete\n",
    "\n",
    "        return out , embed_u, embed_i, umean , imean , self.gmean\n",
    "\n",
    "    \n",
    "    def my_loss_func(self, pred,ratings_t,reg,*params):\n",
    "        '''\n",
    "        mse loss combined with l2 regularization.\n",
    "        params assumed 2-dimension\n",
    "        '''        \n",
    "        mse = F.mse_loss(pred,ratings_t)\n",
    "        l2 = 0\n",
    "        for p in params:\n",
    "            l2 += torch.mean(p.norm(2,-1))\n",
    "\n",
    "        return mse + reg*l2 , mse\n",
    "    \n",
    "    def training_step(self, batch, batch_nb):\n",
    "        # REQUIRE\n",
    "        users_t,items_t,ratings_t = batch\n",
    "        pred , *params = self.forward(users_t,items_t) \n",
    "        loss,mse = self.my_loss_func(pred,ratings_t,self.reg,*params)\n",
    "\n",
    "        return {'loss':loss,\"mse\":mse}\n",
    "    \n",
    "\n",
    "    \n",
    "    def validation_step(self, batch, batch_nb):\n",
    "        return {\"val_mse\":self.training_step(batch,batch_nb)[\"mse\"]}\n",
    "    \n",
    "    def validation_end(self,outputs):\n",
    "        return {\"progress_bar\":{\"val_mse\":torch.tensor([output['val_mse'] for output in outputs]).mean().item()}}\n",
    "    \n",
    "    def test_step(self, batch, batch_nb):\n",
    "        return {\"test_mse\":self.training_step(batch,batch_nb)[\"mse\"]}\n",
    "    \n",
    "    def test_end(self,outputs):\n",
    "        res = {\"progress_bar\":{\"test_mse\":torch.tensor([output['test_mse'] for output in outputs]).mean().item()}}\n",
    "        print(res)\n",
    "        return res\n",
    "\n",
    "    \n",
    "    def configure_optimizers(self):\n",
    "        # REQUIRED\n",
    "        return torch.optim.Adam(self.parameters(), lr=0.002)\n",
    "    \n",
    "    def tuple_batch(self,l):\n",
    "        '''\n",
    "        input l: list of (user,item,rating tuples)\n",
    "        output: formatted batches (in torch tensors)\n",
    "\n",
    "        takes n-tuples and create batch\n",
    "        text -> seq word #id\n",
    "        '''\n",
    "        users, items, ratings = zip(*l) \n",
    "        users_t = torch.LongTensor(users)\n",
    "        items_t = torch.LongTensor(items)\n",
    "        ratings_t = torch.FloatTensor(ratings)\n",
    "\n",
    "        return users_t, items_t, ratings_t\n",
    "    \n",
    "\n",
    "    @pl.data_loader\n",
    "    def train_dataloader(self):\n",
    "        # REQUIRED\n",
    "        return DataLoader(prep_train,collate_fn=self.tuple_batch ,num_workers=0, batch_size=32)\n",
    "\n",
    "    @pl.data_loader\n",
    "    def val_dataloader(self):\n",
    "        # OPTIONAL\n",
    "        return DataLoader(prep_val,collate_fn=self.tuple_batch,num_workers=0, batch_size=32)\n",
    "\n",
    "    @pl.data_loader\n",
    "    def test_dataloader(self):\n",
    "        # OPTIONAL\n",
    "        return DataLoader(prep_test,collate_fn=self.tuple_batch,num_workers=0, batch_size=32)"
   ]
  },
  {
   "cell_type": "markdown",
   "metadata": {},
   "source": [
    "## Train the model"
   ]
  },
  {
   "cell_type": "code",
   "execution_count": 39,
   "metadata": {
    "ExecuteTime": {
     "end_time": "2019-12-13T18:19:26.217058Z",
     "start_time": "2019-12-13T18:17:42.037947Z"
    }
   },
   "outputs": [
    {
     "name": "stderr",
     "output_type": "stream",
     "text": [
      "INFO:root:    Name       Type Params\n",
      "0  users  Embedding   30 K\n",
      "1  items  Embedding  486 K\n",
      "2  umean  Embedding  610  \n",
      "3  imean  Embedding    9 K\n",
      "Validation sanity check:   0%|                                                                | 0/5 [00:00<?, ?batch/s]C:\\Anaconda3\\envs\\training\\lib\\site-packages\\ipykernel_launcher.py:38: UserWarning: Using a target size (torch.Size([32])) that is different to the input size (torch.Size([32, 32])). This will likely lead to incorrect results due to broadcasting. Please ensure they have the same size.\n",
      "Epoch 1:  80%|████████████████████████▊      | 2016/2522 [00:32<00:09, 55.37batch/s, batch_nb=2015, loss=0.966, v_nb=0]C:\\Anaconda3\\envs\\training\\lib\\site-packages\\ipykernel_launcher.py:38: UserWarning: Using a target size (torch.Size([23])) that is different to the input size (torch.Size([23, 23])). This will likely lead to incorrect results due to broadcasting. Please ensure they have the same size.\n",
      "Epoch 1:  80%|████████████████████████▊      | 2017/2522 [00:32<00:09, 55.69batch/s, batch_nb=2016, loss=0.962, v_nb=0]\n",
      "Epoch 1:  84%|██████████████████████████     | 2125/2522 [00:33<00:05, 77.82batch/s, batch_nb=2016, loss=0.962, v_nb=0]\u001b[A\n",
      "Epoch 1:  89%|██████████████████████████▌   | 2234/2522 [00:33<00:02, 107.87batch/s, batch_nb=2016, loss=0.962, v_nb=0]\u001b[A\n",
      "Validating:  44%|███████████████████████████▌                                   | 221/505 [00:00<00:00, 1103.34batch/s]\u001b[A\n",
      "Epoch 1:  98%|█████████████████████████████▍| 2478/2522 [00:33<00:00, 150.84batch/s, batch_nb=2016, loss=0.962, v_nb=0]\u001b[AC:\\Anaconda3\\envs\\training\\lib\\site-packages\\ipykernel_launcher.py:38: UserWarning: Using a target size (torch.Size([5])) that is different to the input size (torch.Size([5, 5])). This will likely lead to incorrect results due to broadcasting. Please ensure they have the same size.\n",
      "Epoch 1: 100%|████████████████| 2522/2522 [00:33<00:00, 150.84batch/s, batch_nb=2016, loss=0.962, v_nb=0, val_mse=0.95]\n",
      "                                                                                                                       \u001b[AC:\\Anaconda3\\envs\\training\\lib\\site-packages\\pytorch_lightning\\callbacks\\pt_callbacks.py:250: RuntimeWarning: Can save best model only with val_loss available, skipping.\n",
      "  ' skipping.', RuntimeWarning)\n",
      "Epoch 2:  80%|█████████████▌   | 2017/2522 [00:34<00:09, 50.87batch/s, batch_nb=2016, loss=0.892, v_nb=0, val_mse=0.95]\n",
      "Epoch 2:  82%|█████████████▉   | 2067/2522 [00:34<00:06, 69.86batch/s, batch_nb=2016, loss=0.892, v_nb=0, val_mse=0.95]\u001b[A\n",
      "Epoch 2:  86%|██████████████▋  | 2173/2522 [00:34<00:03, 97.05batch/s, batch_nb=2016, loss=0.892, v_nb=0, val_mse=0.95]\u001b[A\n",
      "Epoch 2:  91%|██████████████▌ | 2298/2522 [00:34<00:01, 134.18batch/s, batch_nb=2016, loss=0.892, v_nb=0, val_mse=0.95]\u001b[A\n",
      "Epoch 2: 100%|███████████████| 2522/2522 [00:34<00:00, 185.91batch/s, batch_nb=2016, loss=0.892, v_nb=0, val_mse=0.951]\u001b[A\n",
      "Epoch 3:  80%|████████████▊   | 2017/2522 [00:35<00:09, 51.35batch/s, batch_nb=2016, loss=0.856, v_nb=0, val_mse=0.951]\u001b[A\n",
      "Epoch 3:  82%|█████████████   | 2061/2522 [00:35<00:06, 70.11batch/s, batch_nb=2016, loss=0.856, v_nb=0, val_mse=0.951]\u001b[A\n",
      "Epoch 3:  86%|█████████████▋  | 2160/2522 [00:35<00:03, 97.21batch/s, batch_nb=2016, loss=0.856, v_nb=0, val_mse=0.951]\u001b[A\n",
      "Epoch 3:  91%|█████████████▋ | 2301/2522 [00:35<00:01, 134.85batch/s, batch_nb=2016, loss=0.856, v_nb=0, val_mse=0.951]\u001b[A\n",
      "Epoch 3: 100%|███████████████| 2522/2522 [00:35<00:00, 187.18batch/s, batch_nb=2016, loss=0.856, v_nb=0, val_mse=0.964]\u001b[A\n",
      "                                                                                                                       \u001b[AC:\\Anaconda3\\envs\\training\\lib\\site-packages\\pytorch_lightning\\callbacks\\pt_callbacks.py:128: RuntimeWarning: Early stopping conditioned on metric `val_loss` which is not available. Available metrics are: val_mse\n",
      "  RuntimeWarning)\n",
      "Epoch 3: 100%|████████████████| 2522/2522 [00:35<00:00, 70.94batch/s, batch_nb=2016, loss=0.856, v_nb=0, val_mse=0.964]\n",
      "Testing:  83%|██████████████████████████████████████████████████████▋           | 523/631 [00:00<00:00, 1386.37batch/s]C:\\Anaconda3\\envs\\training\\lib\\site-packages\\ipykernel_launcher.py:38: UserWarning: Using a target size (torch.Size([8])) that is different to the input size (torch.Size([8, 8])). This will likely lead to incorrect results due to broadcasting. Please ensure they have the same size.\n",
      "Testing: 100%|██████████████████████████████████████████████████████████████████| 631/631 [00:00<00:00, 1600.38batch/s]"
     ]
    },
    {
     "name": "stdout",
     "output_type": "stream",
     "text": [
      "{'progress_bar': {'test_mse': 0.9300957918167114}}\n"
     ]
    },
    {
     "name": "stderr",
     "output_type": "stream",
     "text": [
      "\n"
     ]
    }
   ],
   "source": [
    "from pytorch_lightning import Trainer\n",
    "\n",
    "model = LightningKorenMF(num_users,num_items,50)\n",
    "\n",
    "# most basic trainer, uses good defaults\n",
    "trainer = Trainer()    \n",
    "trainer.fit(model)\n",
    "trainer.test()"
   ]
  },
  {
   "cell_type": "markdown",
   "metadata": {},
   "source": [
    "## Still got time ?\n",
    "\n",
    "[Take a glance at the documentation](https://williamfalcon.github.io/pytorch-lightning/)"
   ]
  }
 ],
 "metadata": {
  "hide_input": false,
  "kernelspec": {
   "display_name": "Python 3",
   "language": "python",
   "name": "python3"
  },
  "language_info": {
   "codemirror_mode": {
    "name": "ipython",
    "version": 3
   },
   "file_extension": ".py",
   "mimetype": "text/x-python",
   "name": "python",
   "nbconvert_exporter": "python",
   "pygments_lexer": "ipython3",
   "version": "3.7.5"
  },
  "toc": {
   "base_numbering": 1,
   "nav_menu": {},
   "number_sections": false,
   "sideBar": true,
   "skip_h1_title": false,
   "title_cell": "Table of Contents",
   "title_sidebar": "Contents",
   "toc_cell": true,
   "toc_position": {},
   "toc_section_display": true,
   "toc_window_display": false
  },
  "varInspector": {
   "cols": {
    "lenName": 16,
    "lenType": 16,
    "lenVar": 40
   },
   "kernels_config": {
    "python": {
     "delete_cmd_postfix": "",
     "delete_cmd_prefix": "del ",
     "library": "var_list.py",
     "varRefreshCmd": "print(var_dic_list())"
    },
    "r": {
     "delete_cmd_postfix": ") ",
     "delete_cmd_prefix": "rm(",
     "library": "var_list.r",
     "varRefreshCmd": "cat(var_dic_list()) "
    }
   },
   "types_to_exclude": [
    "module",
    "function",
    "builtin_function_or_method",
    "instance",
    "_Feature"
   ],
   "window_display": false
  }
 },
 "nbformat": 4,
 "nbformat_minor": 2
}
