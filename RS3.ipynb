{
 "cells": [
  {
   "cell_type": "markdown",
   "metadata": {
    "toc": true
   },
   "source": [
    "<h1>Table of Contents<span class=\"tocSkip\"></span></h1>\n",
    "<div class=\"toc\"><ul class=\"toc-item\"><li><span><a href=\"#Recommenders-3----Sequence-Recommenders-(45m)\" data-toc-modified-id=\"Recommenders-3----Sequence-Recommenders-(45m)-1\"><span class=\"toc-item-num\">1&nbsp;&nbsp;</span>Recommenders 3 -- Sequence Recommenders (45m)</a></span><ul class=\"toc-item\"><li><span><a href=\"#Goals-of-this-practical:\" data-toc-modified-id=\"Goals-of-this-practical:-1.1\"><span class=\"toc-item-num\">1.1&nbsp;&nbsp;</span>Goals of this practical:</a></span></li></ul></li><li><span><a href=\"#Sequence-Recommenders:\" data-toc-modified-id=\"Sequence-Recommenders:-2\"><span class=\"toc-item-num\">2&nbsp;&nbsp;</span>Sequence Recommenders:</a></span><ul class=\"toc-item\"><li><ul class=\"toc-item\"><li><ul class=\"toc-item\"><li><span><a href=\"#Here-we-propose-to-explore-this-unpersonalized-sequence-recommandation\" data-toc-modified-id=\"Here-we-propose-to-explore-this-unpersonalized-sequence-recommandation-2.0.0.1\"><span class=\"toc-item-num\">2.0.0.1&nbsp;&nbsp;</span>Here we propose to explore this unpersonalized sequence recommandation</a></span></li></ul></li></ul></li><li><span><a href=\"#Data-used-:-smallest-movie-lens-dataset\" data-toc-modified-id=\"Data-used-:-smallest-movie-lens-dataset-2.1\"><span class=\"toc-item-num\">2.1&nbsp;&nbsp;</span>Data used : <a href=\"https://grouplens.org/datasets/movielens/\" target=\"_blank\">smallest movie-lens dataset</a></a></span></li><li><span><a href=\"#Loading-Data-(same-as-before-but-in-chronological-order):\" data-toc-modified-id=\"Loading-Data-(same-as-before-but-in-chronological-order):-2.2\"><span class=\"toc-item-num\">2.2&nbsp;&nbsp;</span>Loading Data (same as before but in chronological order):</a></span></li><li><span><a href=\"#(a)-Create-sequence-datasets:\" data-toc-modified-id=\"(a)-Create-sequence-datasets:-2.3\"><span class=\"toc-item-num\">2.3&nbsp;&nbsp;</span>(a) Create sequence datasets:</a></span></li><li><span><a href=\"#(Todo):-extract-all-movie-sequences-(in-chronological-order)-from-the-dataset:\" data-toc-modified-id=\"(Todo):-extract-all-movie-sequences-(in-chronological-order)-from-the-dataset:-2.4\"><span class=\"toc-item-num\">2.4&nbsp;&nbsp;</span>(Todo): extract all movie sequences (in chronological order) from the dataset:</a></span></li><li><span><a href=\"#(Todo):-Create-a-train/test-dataset\" data-toc-modified-id=\"(Todo):-Create-a-train/test-dataset-2.5\"><span class=\"toc-item-num\">2.5&nbsp;&nbsp;</span>(Todo): Create a train/test dataset</a></span></li><li><span><a href=\"#(Todo):-Create-the-list-of-the-most-popular-movies\" data-toc-modified-id=\"(Todo):-Create-the-list-of-the-most-popular-movies-2.6\"><span class=\"toc-item-num\">2.6&nbsp;&nbsp;</span>(Todo): Create the list of the most popular movies</a></span></li><li><span><a href=\"#Word2Vec-skip-gram-&lt;=&gt;-Prod2Vec\" data-toc-modified-id=\"Word2Vec-skip-gram-<=>-Prod2Vec-2.7\"><span class=\"toc-item-num\">2.7&nbsp;&nbsp;</span>Word2Vec skip-gram &lt;=&gt; Prod2Vec</a></span><ul class=\"toc-item\"><li><span><a href=\"#Word2Vec\" data-toc-modified-id=\"Word2Vec-2.7.1\"><span class=\"toc-item-num\">2.7.1&nbsp;&nbsp;</span>Word2Vec</a></span><ul class=\"toc-item\"><li><span><a href=\"#Paper-Abstract:\" data-toc-modified-id=\"Paper-Abstract:-2.7.1.1\"><span class=\"toc-item-num\">2.7.1.1&nbsp;&nbsp;</span>Paper Abstract:</a></span></li></ul></li></ul></li><li><span><a href=\"#Gensim-has-the-best-python-implementation-of-word2vec's-algorithms:\" data-toc-modified-id=\"Gensim-has-the-best-python-implementation-of-word2vec's-algorithms:-2.8\"><span class=\"toc-item-num\">2.8&nbsp;&nbsp;</span>Gensim has the best python implementation of word2vec's algorithms:</a></span><ul class=\"toc-item\"><li><span><a href=\"#A-few-things:\" data-toc-modified-id=\"A-few-things:-2.8.1\"><span class=\"toc-item-num\">2.8.1&nbsp;&nbsp;</span>A few things:</a></span></li></ul></li><li><span><a href=\"#Getting-similar-items:\" data-toc-modified-id=\"Getting-similar-items:-2.9\"><span class=\"toc-item-num\">2.9&nbsp;&nbsp;</span>Getting similar items:</a></span><ul class=\"toc-item\"><li><span><a href=\"#We-can-search-by-id's\" data-toc-modified-id=\"We-can-search-by-id's-2.9.1\"><span class=\"toc-item-num\">2.9.1&nbsp;&nbsp;</span>We can search by id's</a></span></li><li><span><a href=\"#Or-by-vector\" data-toc-modified-id=\"Or-by-vector-2.9.2\"><span class=\"toc-item-num\">2.9.2&nbsp;&nbsp;</span>Or by vector</a></span></li><li><span><a href=\"#Let's-see-if-this-works\" data-toc-modified-id=\"Let's-see-if-this-works-2.9.3\"><span class=\"toc-item-num\">2.9.3&nbsp;&nbsp;</span>Let's see if this works</a></span></li></ul></li><li><span><a href=\"#(Todo)-write-a-get_relevance_list(proposed_ids,real_ids)-function:\" data-toc-modified-id=\"(Todo)-write-a-get_relevance_list(proposed_ids,real_ids)-function:-2.10\"><span class=\"toc-item-num\">2.10&nbsp;&nbsp;</span>(Todo) write a <code>get_relevance_list(proposed_ids,real_ids)</code> function:</a></span><ul class=\"toc-item\"><li><span><a href=\"#Let's-test-our-function-on-our-data\" data-toc-modified-id=\"Let's-test-our-function-on-our-data-2.10.1\"><span class=\"toc-item-num\">2.10.1&nbsp;&nbsp;</span>Let's test our function on our data</a></span></li></ul></li><li><span><a href=\"#Ok,-now,-let's-write-prediction-funtions:\" data-toc-modified-id=\"Ok,-now,-let's-write-prediction-funtions:-2.11\"><span class=\"toc-item-num\">2.11&nbsp;&nbsp;</span>Ok, now, let's write prediction funtions:</a></span><ul class=\"toc-item\"><li><ul class=\"toc-item\"><li><span><a href=\"#(TODO)-:-complete-those-functions\" data-toc-modified-id=\"(TODO)-:-complete-those-functions-2.11.0.1\"><span class=\"toc-item-num\">2.11.0.1&nbsp;&nbsp;</span>(TODO) : complete those functions</a></span></li></ul></li><li><span><a href=\"#The-following-cells-should-return-list-of-lists\" data-toc-modified-id=\"The-following-cells-should-return-list-of-lists-2.11.1\"><span class=\"toc-item-num\">2.11.1&nbsp;&nbsp;</span>The following cells should return list of lists</a></span></li></ul></li><li><span><a href=\"#The-return-of-the-MRR-and-nDCG-functions\" data-toc-modified-id=\"The-return-of-the-MRR-and-nDCG-functions-2.12\"><span class=\"toc-item-num\">2.12&nbsp;&nbsp;</span>The return of the MRR and nDCG functions</a></span></li><li><span><a href=\"#Let's-see-how-this-naïve-way-of-predicting-items-to-show-works\" data-toc-modified-id=\"Let's-see-how-this-naïve-way-of-predicting-items-to-show-works-2.13\"><span class=\"toc-item-num\">2.13&nbsp;&nbsp;</span>Let's see how this naïve way of predicting items to show works</a></span><ul class=\"toc-item\"><li><span><a href=\"#(TODO)-Can-we-do-better-?\" data-toc-modified-id=\"(TODO)-Can-we-do-better-?-2.13.1\"><span class=\"toc-item-num\">2.13.1&nbsp;&nbsp;</span>(TODO) Can we do better ?</a></span><ul class=\"toc-item\"><li><span><a href=\"#=&gt;-Not-really-better\" data-toc-modified-id=\"=>-Not-really-better-2.13.1.1\"><span class=\"toc-item-num\">2.13.1.1&nbsp;&nbsp;</span>=&gt; Not really better</a></span></li></ul></li></ul></li><li><span><a href=\"#Let's-visualize-learned-embeddings\" data-toc-modified-id=\"Let's-visualize-learned-embeddings-2.14\"><span class=\"toc-item-num\">2.14&nbsp;&nbsp;</span>Let's visualize learned embeddings</a></span></li><li><span><a href=\"#How-to:\" data-toc-modified-id=\"How-to:-2.15\"><span class=\"toc-item-num\">2.15&nbsp;&nbsp;</span>How to:</a></span></li><li><span><a href=\"#Hyperparameters-matter-when-using-Word2Vec-for-Item-recommendation:\" data-toc-modified-id=\"Hyperparameters-matter-when-using-Word2Vec-for-Item-recommendation:-2.16\"><span class=\"toc-item-num\">2.16&nbsp;&nbsp;</span>Hyperparameters matter when using Word2Vec for Item recommendation:</a></span><ul class=\"toc-item\"><li><ul class=\"toc-item\"><li><span><a href=\"#It-turns-out-that--hyperparameters-are-really-important-for-this-task:-especially-the-sampling-parameter.--Try-and-learn-multiple-models-to-see-how-the-ns_exponent-parameter-modifies-the-results:\" data-toc-modified-id=\"It-turns-out-that--hyperparameters-are-really-important-for-this-task:-especially-the-sampling-parameter.--Try-and-learn-multiple-models-to-see-how-the-ns_exponent-parameter-modifies-the-results:-2.16.0.1\"><span class=\"toc-item-num\">2.16.0.1&nbsp;&nbsp;</span>It turns out that  hyperparameters are really important for this task: especially the sampling parameter.  Try and learn multiple models to see how the ns_exponent parameter modifies the results:</a></span></li></ul></li></ul></li><li><span><a href=\"#Still-got-time-?-Try-making-a-more-clever-item-selection-mechanism:\" data-toc-modified-id=\"Still-got-time-?-Try-making-a-more-clever-item-selection-mechanism:-2.17\"><span class=\"toc-item-num\">2.17&nbsp;&nbsp;</span>Still got time ? Try making a more clever item selection mechanism:</a></span></li></ul></li></ul></div>"
   ]
  },
  {
   "cell_type": "markdown",
   "metadata": {},
   "source": [
    "# Recommenders 3 -- Sequence Recommenders (45m) \n",
    "\n",
    "## Goals of this practical:\n",
    "\n",
    "- Understand the sequence recommendation framework (~5min)\n",
    "- Load/Format dataset (~5min)\n",
    "- Understand/train the prod2vec model (~10min)\n",
    "- Evaluate (~10min)\n",
    "- Visualize (~10min)\n",
    "- Fiddle (~5min)\n",
    "\n"
   ]
  },
  {
   "cell_type": "code",
   "execution_count": 1,
   "metadata": {
    "ExecuteTime": {
     "end_time": "2019-12-12T19:32:32.913596Z",
     "start_time": "2019-12-12T19:32:32.910597Z"
    }
   },
   "outputs": [],
   "source": [
    "#! pip install gensim --upgrade"
   ]
  },
  {
   "cell_type": "code",
   "execution_count": 2,
   "metadata": {
    "ExecuteTime": {
     "end_time": "2019-12-12T19:32:34.546300Z",
     "start_time": "2019-12-12T19:32:33.465635Z"
    }
   },
   "outputs": [],
   "source": [
    "import pandas as pd\n",
    "import numpy as np"
   ]
  },
  {
   "cell_type": "markdown",
   "metadata": {},
   "source": [
    "# Sequence Recommenders:\n",
    "\n",
    "> What will you click next ?\n",
    "\n",
    "The sequence recommendation setting is a particular case of the implicit collaborative filtering setting. Given a sequence of items $i_0,i_1,...,i_n$ the goal is to predict the $i_{(n+1)},...$ items the user will consume. Playlist continuation is a neat use case of sequence recommenders. You've been listening to those songs, what can you listen to now ?\n",
    "\n",
    "\n",
    "This setting differs from the classical collaborative filtering because the history is the recent trace and not the full saved interactions. Also, it's possible to do sequence recommendation without any specific latent user profile. \n",
    "\n",
    "#### Here we propose to explore this unpersonalized sequence recommandation"
   ]
  },
  {
   "cell_type": "markdown",
   "metadata": {},
   "source": [
    "## Data used : [smallest movie-lens dataset](https://grouplens.org/datasets/movielens/)\n",
    "\n",
    "Here we'll use the same data as before but instead of seeing $(user,item,rating)$ triplets or a $(user,item)$ interaction , we'll see item sequences: $user: [item, item,...]$\n",
    "\n",
    "## Loading Data (same as before but in chronological order):"
   ]
  },
  {
   "cell_type": "code",
   "execution_count": 3,
   "metadata": {
    "ExecuteTime": {
     "end_time": "2019-12-12T19:32:54.860915Z",
     "start_time": "2019-12-12T19:32:54.770912Z"
    }
   },
   "outputs": [
    {
     "name": "stdout",
     "output_type": "stream",
     "text": [
      "True\n"
     ]
    }
   ],
   "source": [
    "ratings = pd.read_csv(\"dataset/ratings.csv\")\n",
    "ratings = ratings.sort_values(\"timestamp\",ascending=True)\n",
    "print(ratings.iloc[0][\"timestamp\"] < ratings.iloc[-1][\"timestamp\"] ) # just checking \n",
    "\n",
    "ratings.head(5)\n",
    "\n",
    "# we also load titles and create an id2title dictionnary\n",
    "titleCSV = pd.read_csv(\"dataset/movies.csv\")\n",
    "titleCSV.head(5)\n",
    "id2title = titleCSV[[\"movieId\",\"title\"]].set_index(\"movieId\").to_dict()[\"title\"]"
   ]
  },
  {
   "cell_type": "markdown",
   "metadata": {},
   "source": [
    "## (a) Create sequence datasets:\n",
    "For this task, we need sequences of items as data:"
   ]
  },
  {
   "cell_type": "markdown",
   "metadata": {},
   "source": [
    "## (Todo): extract all movie sequences (in chronological order) from the dataset:\n",
    "\n",
    "\n",
    "In this dataset, each user has seen at least 20 movies.\n",
    "\n",
    "\n",
    "- We need to extract all movie rating sequences (there is one per user) from the dataset:\n",
    "\n",
    "`sequence_of_movies = [[movieid,...],[movieid,...],...]`"
   ]
  },
  {
   "cell_type": "code",
   "execution_count": 15,
   "metadata": {
    "ExecuteTime": {
     "end_time": "2019-12-12T19:38:37.929239Z",
     "start_time": "2019-12-12T19:38:36.671897Z"
    }
   },
   "outputs": [],
   "source": [
    "sequences_of_movies = [ratings.query('userId == @user')\\\n",
    "     .sort_values(\"timestamp\",ascending=True)\\\n",
    "     .movieId.to_list() for user in ratings.userId.unique()]# To Complete"
   ]
  },
  {
   "cell_type": "markdown",
   "metadata": {},
   "source": [
    "## (Todo): Create a train/test dataset\n",
    "\n",
    "Here, we propose as task to predict the last 5 items of each sequence."
   ]
  },
  {
   "cell_type": "code",
   "execution_count": 25,
   "metadata": {
    "ExecuteTime": {
     "end_time": "2019-12-12T19:43:19.310917Z",
     "start_time": "2019-12-12T19:43:19.303923Z"
    }
   },
   "outputs": [],
   "source": [
    "train_seq,test_seq = [],[]\n",
    "\n",
    "for seq in sequences_of_movies:\n",
    "    train_seq.append(seq[:(-5)])# To Complete\n",
    "    test_seq.append(seq[(-5):])# To Complete\n",
    "    \n",
    "last_consumed_item = [seq[-1] for seq in train_seq] # We save the last consumed item for each list\n",
    "                                                    # We'll use it as a starting point"
   ]
  },
  {
   "cell_type": "markdown",
   "metadata": {},
   "source": [
    "## (Todo): Create the list of the most popular movies\n",
    "\n",
    "- Here, popular is the number of times the movie appears in a list"
   ]
  },
  {
   "cell_type": "code",
   "execution_count": 38,
   "metadata": {
    "ExecuteTime": {
     "end_time": "2019-12-12T19:50:53.364381Z",
     "start_time": "2019-12-12T19:50:53.353374Z"
    }
   },
   "outputs": [],
   "source": [
    "from collections import Counter\n",
    "\n",
    "counts = ratings.groupby('movieId').size().sort_values(ascending=False)# To complete \n",
    "most_popular = counts.index.to_list()# To complete (all movies, sorted by occurences from high->low) \n",
    "num_items = len(most_popular)"
   ]
  },
  {
   "cell_type": "markdown",
   "metadata": {},
   "source": [
    "``` python\n",
    "#Most popular looks like this:\n",
    "[356,318,296,2571,593,260,480,110,589,...]\n",
    " ```"
   ]
  },
  {
   "cell_type": "markdown",
   "metadata": {},
   "source": [
    "## Word2Vec skip-gram <=> Prod2Vec\n",
    "\n",
    "\n",
    "### Word2Vec\n",
    "\n",
    "The MAIN idea of word2vec is to maximise the similarity (dot product) between the vectors for words which appear close together (in the context of each other) in text, and minimise the similarity of words that do not. \n",
    "\n",
    "This can be applied to products instead of words: it clusters similar products together.\n",
    "\n",
    "\n",
    "#### Paper Abstract:\n",
    "> In recent years online advertising has become increasingly ubiquitous and effective. Advertisements shown to visitors fund sites and apps that publish digital content, manage social networks, and operate e-mail services. Given such large variety of internet resources, determining an appropriate type of advertising for a given platform has become critical to financial success. Native advertisements, namely ads that are similar in look and feel to content, have had great success in news and social feeds. However, to date there has not been a winning formula for ads in e-mail clients. In this paper we describe a system that leverages user purchase history determined from e-mail receipts to deliver highly personalized product ads to Yahoo Mail users. We propose to use a novel neural language-based algorithm specifically tailored for delivering effective product recommendations, which was evaluated against baselines that included showing popular products and products predicted based on co-occurrence. We conducted rigorous offline testing using a large-scale product purchase data set, covering purchases of more than 29 million users from 172 e-commerce websites. Ads in the form of product recommendations were successfully tested on online traffic, where we observed a steady 9% lift in click-through rates over other ad formats in mail, as well as comparable lift in conversion rates. Following successful tests, the system was launched into production during the holiday season of 2014\n",
    "\n",
    "[Prod2Vec Model](https://arxiv.org/abs/1606.07154)\n",
    "\n"
   ]
  },
  {
   "cell_type": "markdown",
   "metadata": {},
   "source": [
    "## Gensim has the best python implementation of word2vec's algorithms:\n",
    "\n",
    "We can just use these raw implementations. The only thing to do is to consider items as words:"
   ]
  },
  {
   "cell_type": "code",
   "execution_count": 41,
   "metadata": {
    "ExecuteTime": {
     "end_time": "2019-12-12T19:52:48.098022Z",
     "start_time": "2019-12-12T19:52:12.087184Z"
    },
    "collapsed": true
   },
   "outputs": [
    {
     "name": "stderr",
     "output_type": "stream",
     "text": [
      "2019-12-12 14:52:13,619 : WARNING : consider setting layer size to a multiple of 4 for greater performance\n",
      "2019-12-12 14:52:13,621 : INFO : collecting all words and their counts\n",
      "2019-12-12 14:52:13,621 : INFO : PROGRESS: at sentence #0, processed 0 words, keeping 0 word types\n",
      "2019-12-12 14:52:13,639 : INFO : collected 9617 word types from a corpus of 97786 raw words and 610 sentences\n",
      "2019-12-12 14:52:13,640 : INFO : Loading a fresh vocabulary\n",
      "2019-12-12 14:52:13,661 : INFO : effective_min_count=0 retains 9617 unique words (100% of original 9617, drops 0)\n",
      "2019-12-12 14:52:13,663 : INFO : effective_min_count=0 leaves 97786 word corpus (100% of original 97786, drops 0)\n",
      "2019-12-12 14:52:13,695 : INFO : deleting the raw counts dictionary of 9617 items\n",
      "2019-12-12 14:52:13,696 : INFO : sample=0.001 downsamples 5 most-common words\n",
      "2019-12-12 14:52:13,697 : INFO : downsampling leaves estimated 97657 word corpus (99.9% of prior 97786)\n",
      "2019-12-12 14:52:13,718 : INFO : estimated required memory for 9617 words and 50 dimensions: 8655300 bytes\n",
      "2019-12-12 14:52:13,719 : INFO : resetting layer weights\n",
      "2019-12-12 14:52:15,693 : INFO : training model with 10 workers on 9617 vocabulary and 50 features, using sg=1 hs=0 sample=0.001 negative=15 window=10\n",
      "2019-12-12 14:52:16,175 : INFO : worker thread finished; awaiting finish of 9 more threads\n",
      "2019-12-12 14:52:16,180 : INFO : worker thread finished; awaiting finish of 8 more threads\n",
      "2019-12-12 14:52:16,184 : INFO : worker thread finished; awaiting finish of 7 more threads\n",
      "2019-12-12 14:52:16,197 : INFO : worker thread finished; awaiting finish of 6 more threads\n",
      "2019-12-12 14:52:16,205 : INFO : worker thread finished; awaiting finish of 5 more threads\n",
      "2019-12-12 14:52:16,231 : INFO : worker thread finished; awaiting finish of 4 more threads\n",
      "2019-12-12 14:52:16,250 : INFO : worker thread finished; awaiting finish of 3 more threads\n",
      "2019-12-12 14:52:16,256 : INFO : worker thread finished; awaiting finish of 2 more threads\n",
      "2019-12-12 14:52:16,257 : INFO : worker thread finished; awaiting finish of 1 more threads\n",
      "2019-12-12 14:52:16,259 : INFO : worker thread finished; awaiting finish of 0 more threads\n",
      "2019-12-12 14:52:16,260 : INFO : EPOCH - 1 : training on 97786 raw words (97666 effective words) took 0.6s, 174862 effective words/s\n",
      "2019-12-12 14:52:16,678 : INFO : worker thread finished; awaiting finish of 9 more threads\n",
      "2019-12-12 14:52:16,692 : INFO : worker thread finished; awaiting finish of 8 more threads\n",
      "2019-12-12 14:52:16,709 : INFO : worker thread finished; awaiting finish of 7 more threads\n",
      "2019-12-12 14:52:16,805 : INFO : worker thread finished; awaiting finish of 6 more threads\n",
      "2019-12-12 14:52:16,810 : INFO : worker thread finished; awaiting finish of 5 more threads\n",
      "2019-12-12 14:52:16,832 : INFO : worker thread finished; awaiting finish of 4 more threads\n",
      "2019-12-12 14:52:16,837 : INFO : worker thread finished; awaiting finish of 3 more threads\n",
      "2019-12-12 14:52:16,839 : INFO : worker thread finished; awaiting finish of 2 more threads\n",
      "2019-12-12 14:52:16,848 : INFO : worker thread finished; awaiting finish of 1 more threads\n",
      "2019-12-12 14:52:16,854 : INFO : worker thread finished; awaiting finish of 0 more threads\n",
      "2019-12-12 14:52:16,855 : INFO : EPOCH - 2 : training on 97786 raw words (97655 effective words) took 0.6s, 166511 effective words/s\n",
      "2019-12-12 14:52:17,331 : INFO : worker thread finished; awaiting finish of 9 more threads\n",
      "2019-12-12 14:52:17,359 : INFO : worker thread finished; awaiting finish of 8 more threads\n",
      "2019-12-12 14:52:17,364 : INFO : worker thread finished; awaiting finish of 7 more threads\n",
      "2019-12-12 14:52:17,387 : INFO : worker thread finished; awaiting finish of 6 more threads\n",
      "2019-12-12 14:52:17,398 : INFO : worker thread finished; awaiting finish of 5 more threads\n",
      "2019-12-12 14:52:17,409 : INFO : worker thread finished; awaiting finish of 4 more threads\n",
      "2019-12-12 14:52:17,410 : INFO : worker thread finished; awaiting finish of 3 more threads\n",
      "2019-12-12 14:52:17,425 : INFO : worker thread finished; awaiting finish of 2 more threads\n",
      "2019-12-12 14:52:17,426 : INFO : worker thread finished; awaiting finish of 1 more threads\n",
      "2019-12-12 14:52:17,431 : INFO : worker thread finished; awaiting finish of 0 more threads\n",
      "2019-12-12 14:52:17,432 : INFO : EPOCH - 3 : training on 97786 raw words (97657 effective words) took 0.6s, 170844 effective words/s\n",
      "2019-12-12 14:52:17,965 : INFO : worker thread finished; awaiting finish of 9 more threads\n",
      "2019-12-12 14:52:17,975 : INFO : worker thread finished; awaiting finish of 8 more threads\n",
      "2019-12-12 14:52:17,990 : INFO : worker thread finished; awaiting finish of 7 more threads\n",
      "2019-12-12 14:52:17,993 : INFO : worker thread finished; awaiting finish of 6 more threads\n",
      "2019-12-12 14:52:18,026 : INFO : worker thread finished; awaiting finish of 5 more threads\n",
      "2019-12-12 14:52:18,037 : INFO : worker thread finished; awaiting finish of 4 more threads\n",
      "2019-12-12 14:52:18,088 : INFO : worker thread finished; awaiting finish of 3 more threads\n",
      "2019-12-12 14:52:18,098 : INFO : worker thread finished; awaiting finish of 2 more threads\n",
      "2019-12-12 14:52:18,111 : INFO : worker thread finished; awaiting finish of 1 more threads\n",
      "2019-12-12 14:52:18,119 : INFO : worker thread finished; awaiting finish of 0 more threads\n",
      "2019-12-12 14:52:18,120 : INFO : EPOCH - 4 : training on 97786 raw words (97655 effective words) took 0.7s, 143260 effective words/s\n",
      "2019-12-12 14:52:18,564 : INFO : worker thread finished; awaiting finish of 9 more threads\n",
      "2019-12-12 14:52:18,577 : INFO : worker thread finished; awaiting finish of 8 more threads\n",
      "2019-12-12 14:52:18,588 : INFO : worker thread finished; awaiting finish of 7 more threads\n",
      "2019-12-12 14:52:18,607 : INFO : worker thread finished; awaiting finish of 6 more threads\n",
      "2019-12-12 14:52:18,663 : INFO : worker thread finished; awaiting finish of 5 more threads\n",
      "2019-12-12 14:52:18,679 : INFO : worker thread finished; awaiting finish of 4 more threads\n",
      "2019-12-12 14:52:18,685 : INFO : worker thread finished; awaiting finish of 3 more threads\n",
      "2019-12-12 14:52:18,707 : INFO : worker thread finished; awaiting finish of 2 more threads\n",
      "2019-12-12 14:52:18,707 : INFO : worker thread finished; awaiting finish of 1 more threads\n",
      "2019-12-12 14:52:18,716 : INFO : worker thread finished; awaiting finish of 0 more threads\n",
      "2019-12-12 14:52:18,716 : INFO : EPOCH - 5 : training on 97786 raw words (97656 effective words) took 0.6s, 164466 effective words/s\n",
      "2019-12-12 14:52:19,205 : INFO : worker thread finished; awaiting finish of 9 more threads\n",
      "2019-12-12 14:52:19,208 : INFO : worker thread finished; awaiting finish of 8 more threads\n",
      "2019-12-12 14:52:19,220 : INFO : worker thread finished; awaiting finish of 7 more threads\n",
      "2019-12-12 14:52:19,223 : INFO : worker thread finished; awaiting finish of 6 more threads\n",
      "2019-12-12 14:52:19,289 : INFO : worker thread finished; awaiting finish of 5 more threads\n",
      "2019-12-12 14:52:19,294 : INFO : worker thread finished; awaiting finish of 4 more threads\n",
      "2019-12-12 14:52:19,300 : INFO : worker thread finished; awaiting finish of 3 more threads\n",
      "2019-12-12 14:52:19,307 : INFO : worker thread finished; awaiting finish of 2 more threads\n",
      "2019-12-12 14:52:19,311 : INFO : worker thread finished; awaiting finish of 1 more threads\n",
      "2019-12-12 14:52:19,313 : INFO : worker thread finished; awaiting finish of 0 more threads\n",
      "2019-12-12 14:52:19,314 : INFO : EPOCH - 6 : training on 97786 raw words (97647 effective words) took 0.6s, 167149 effective words/s\n",
      "2019-12-12 14:52:19,810 : INFO : worker thread finished; awaiting finish of 9 more threads\n",
      "2019-12-12 14:52:19,825 : INFO : worker thread finished; awaiting finish of 8 more threads\n",
      "2019-12-12 14:52:19,828 : INFO : worker thread finished; awaiting finish of 7 more threads\n",
      "2019-12-12 14:52:19,845 : INFO : worker thread finished; awaiting finish of 6 more threads\n",
      "2019-12-12 14:52:19,865 : INFO : worker thread finished; awaiting finish of 5 more threads\n",
      "2019-12-12 14:52:19,867 : INFO : worker thread finished; awaiting finish of 4 more threads\n",
      "2019-12-12 14:52:19,889 : INFO : worker thread finished; awaiting finish of 3 more threads\n",
      "2019-12-12 14:52:19,897 : INFO : worker thread finished; awaiting finish of 2 more threads\n"
     ]
    },
    {
     "name": "stderr",
     "output_type": "stream",
     "text": [
      "2019-12-12 14:52:19,898 : INFO : worker thread finished; awaiting finish of 1 more threads\n",
      "2019-12-12 14:52:19,905 : INFO : worker thread finished; awaiting finish of 0 more threads\n",
      "2019-12-12 14:52:19,907 : INFO : EPOCH - 7 : training on 97786 raw words (97663 effective words) took 0.6s, 166257 effective words/s\n",
      "2019-12-12 14:52:20,405 : INFO : worker thread finished; awaiting finish of 9 more threads\n",
      "2019-12-12 14:52:20,412 : INFO : worker thread finished; awaiting finish of 8 more threads\n",
      "2019-12-12 14:52:20,437 : INFO : worker thread finished; awaiting finish of 7 more threads\n",
      "2019-12-12 14:52:20,451 : INFO : worker thread finished; awaiting finish of 6 more threads\n",
      "2019-12-12 14:52:20,453 : INFO : worker thread finished; awaiting finish of 5 more threads\n",
      "2019-12-12 14:52:20,454 : INFO : worker thread finished; awaiting finish of 4 more threads\n",
      "2019-12-12 14:52:20,518 : INFO : worker thread finished; awaiting finish of 3 more threads\n",
      "2019-12-12 14:52:20,531 : INFO : worker thread finished; awaiting finish of 2 more threads\n",
      "2019-12-12 14:52:20,534 : INFO : worker thread finished; awaiting finish of 1 more threads\n",
      "2019-12-12 14:52:20,538 : INFO : worker thread finished; awaiting finish of 0 more threads\n",
      "2019-12-12 14:52:20,540 : INFO : EPOCH - 8 : training on 97786 raw words (97673 effective words) took 0.6s, 155664 effective words/s\n",
      "2019-12-12 14:52:21,047 : INFO : worker thread finished; awaiting finish of 9 more threads\n",
      "2019-12-12 14:52:21,053 : INFO : worker thread finished; awaiting finish of 8 more threads\n",
      "2019-12-12 14:52:21,056 : INFO : worker thread finished; awaiting finish of 7 more threads\n",
      "2019-12-12 14:52:21,061 : INFO : worker thread finished; awaiting finish of 6 more threads\n",
      "2019-12-12 14:52:21,074 : INFO : worker thread finished; awaiting finish of 5 more threads\n",
      "2019-12-12 14:52:21,080 : INFO : worker thread finished; awaiting finish of 4 more threads\n",
      "2019-12-12 14:52:21,100 : INFO : worker thread finished; awaiting finish of 3 more threads\n",
      "2019-12-12 14:52:21,113 : INFO : worker thread finished; awaiting finish of 2 more threads\n",
      "2019-12-12 14:52:21,125 : INFO : worker thread finished; awaiting finish of 1 more threads\n",
      "2019-12-12 14:52:21,131 : INFO : worker thread finished; awaiting finish of 0 more threads\n",
      "2019-12-12 14:52:21,132 : INFO : EPOCH - 9 : training on 97786 raw words (97637 effective words) took 0.6s, 167865 effective words/s\n",
      "2019-12-12 14:52:21,609 : INFO : worker thread finished; awaiting finish of 9 more threads\n",
      "2019-12-12 14:52:21,650 : INFO : worker thread finished; awaiting finish of 8 more threads\n",
      "2019-12-12 14:52:21,652 : INFO : worker thread finished; awaiting finish of 7 more threads\n",
      "2019-12-12 14:52:21,668 : INFO : worker thread finished; awaiting finish of 6 more threads\n",
      "2019-12-12 14:52:21,735 : INFO : worker thread finished; awaiting finish of 5 more threads\n",
      "2019-12-12 14:52:21,747 : INFO : worker thread finished; awaiting finish of 4 more threads\n",
      "2019-12-12 14:52:21,762 : INFO : worker thread finished; awaiting finish of 3 more threads\n",
      "2019-12-12 14:52:21,765 : INFO : worker thread finished; awaiting finish of 2 more threads\n",
      "2019-12-12 14:52:21,779 : INFO : worker thread finished; awaiting finish of 1 more threads\n",
      "2019-12-12 14:52:21,783 : INFO : worker thread finished; awaiting finish of 0 more threads\n",
      "2019-12-12 14:52:21,784 : INFO : EPOCH - 10 : training on 97786 raw words (97667 effective words) took 0.6s, 151095 effective words/s\n",
      "2019-12-12 14:52:22,299 : INFO : worker thread finished; awaiting finish of 9 more threads\n",
      "2019-12-12 14:52:22,309 : INFO : worker thread finished; awaiting finish of 8 more threads\n",
      "2019-12-12 14:52:22,315 : INFO : worker thread finished; awaiting finish of 7 more threads\n",
      "2019-12-12 14:52:22,321 : INFO : worker thread finished; awaiting finish of 6 more threads\n",
      "2019-12-12 14:52:22,330 : INFO : worker thread finished; awaiting finish of 5 more threads\n",
      "2019-12-12 14:52:22,335 : INFO : worker thread finished; awaiting finish of 4 more threads\n",
      "2019-12-12 14:52:22,356 : INFO : worker thread finished; awaiting finish of 3 more threads\n",
      "2019-12-12 14:52:22,367 : INFO : worker thread finished; awaiting finish of 2 more threads\n",
      "2019-12-12 14:52:22,386 : INFO : worker thread finished; awaiting finish of 1 more threads\n",
      "2019-12-12 14:52:22,428 : INFO : worker thread finished; awaiting finish of 0 more threads\n",
      "2019-12-12 14:52:22,430 : INFO : EPOCH - 11 : training on 97786 raw words (97664 effective words) took 0.6s, 152492 effective words/s\n",
      "2019-12-12 14:52:22,871 : INFO : worker thread finished; awaiting finish of 9 more threads\n",
      "2019-12-12 14:52:22,886 : INFO : worker thread finished; awaiting finish of 8 more threads\n",
      "2019-12-12 14:52:22,904 : INFO : worker thread finished; awaiting finish of 7 more threads\n",
      "2019-12-12 14:52:22,906 : INFO : worker thread finished; awaiting finish of 6 more threads\n",
      "2019-12-12 14:52:23,009 : INFO : worker thread finished; awaiting finish of 5 more threads\n",
      "2019-12-12 14:52:23,015 : INFO : worker thread finished; awaiting finish of 4 more threads\n",
      "2019-12-12 14:52:23,042 : INFO : worker thread finished; awaiting finish of 3 more threads\n",
      "2019-12-12 14:52:23,049 : INFO : worker thread finished; awaiting finish of 2 more threads\n",
      "2019-12-12 14:52:23,064 : INFO : worker thread finished; awaiting finish of 1 more threads\n",
      "2019-12-12 14:52:23,067 : INFO : worker thread finished; awaiting finish of 0 more threads\n",
      "2019-12-12 14:52:23,068 : INFO : EPOCH - 12 : training on 97786 raw words (97651 effective words) took 0.6s, 155243 effective words/s\n",
      "2019-12-12 14:52:23,653 : INFO : worker thread finished; awaiting finish of 9 more threads\n",
      "2019-12-12 14:52:23,659 : INFO : worker thread finished; awaiting finish of 8 more threads\n",
      "2019-12-12 14:52:23,664 : INFO : worker thread finished; awaiting finish of 7 more threads\n",
      "2019-12-12 14:52:23,667 : INFO : worker thread finished; awaiting finish of 6 more threads\n",
      "2019-12-12 14:52:23,679 : INFO : worker thread finished; awaiting finish of 5 more threads\n",
      "2019-12-12 14:52:23,681 : INFO : worker thread finished; awaiting finish of 4 more threads\n",
      "2019-12-12 14:52:23,694 : INFO : worker thread finished; awaiting finish of 3 more threads\n",
      "2019-12-12 14:52:23,702 : INFO : worker thread finished; awaiting finish of 2 more threads\n",
      "2019-12-12 14:52:23,708 : INFO : worker thread finished; awaiting finish of 1 more threads\n",
      "2019-12-12 14:52:23,711 : INFO : worker thread finished; awaiting finish of 0 more threads\n",
      "2019-12-12 14:52:23,712 : INFO : EPOCH - 13 : training on 97786 raw words (97653 effective words) took 0.6s, 153168 effective words/s\n",
      "2019-12-12 14:52:24,213 : INFO : worker thread finished; awaiting finish of 9 more threads\n",
      "2019-12-12 14:52:24,226 : INFO : worker thread finished; awaiting finish of 8 more threads\n",
      "2019-12-12 14:52:24,242 : INFO : worker thread finished; awaiting finish of 7 more threads\n",
      "2019-12-12 14:52:24,253 : INFO : worker thread finished; awaiting finish of 6 more threads\n",
      "2019-12-12 14:52:24,255 : INFO : worker thread finished; awaiting finish of 5 more threads\n",
      "2019-12-12 14:52:24,288 : INFO : worker thread finished; awaiting finish of 4 more threads\n",
      "2019-12-12 14:52:24,293 : INFO : worker thread finished; awaiting finish of 3 more threads\n",
      "2019-12-12 14:52:24,319 : INFO : worker thread finished; awaiting finish of 2 more threads\n",
      "2019-12-12 14:52:24,334 : INFO : worker thread finished; awaiting finish of 1 more threads\n",
      "2019-12-12 14:52:24,343 : INFO : worker thread finished; awaiting finish of 0 more threads\n",
      "2019-12-12 14:52:24,345 : INFO : EPOCH - 14 : training on 97786 raw words (97648 effective words) took 0.6s, 156566 effective words/s\n",
      "2019-12-12 14:52:24,857 : INFO : worker thread finished; awaiting finish of 9 more threads\n",
      "2019-12-12 14:52:24,866 : INFO : worker thread finished; awaiting finish of 8 more threads\n",
      "2019-12-12 14:52:24,888 : INFO : worker thread finished; awaiting finish of 7 more threads\n",
      "2019-12-12 14:52:24,892 : INFO : worker thread finished; awaiting finish of 6 more threads\n",
      "2019-12-12 14:52:24,894 : INFO : worker thread finished; awaiting finish of 5 more threads\n",
      "2019-12-12 14:52:24,916 : INFO : worker thread finished; awaiting finish of 4 more threads\n",
      "2019-12-12 14:52:24,960 : INFO : worker thread finished; awaiting finish of 3 more threads\n"
     ]
    },
    {
     "name": "stderr",
     "output_type": "stream",
     "text": [
      "2019-12-12 14:52:24,969 : INFO : worker thread finished; awaiting finish of 2 more threads\n",
      "2019-12-12 14:52:24,970 : INFO : worker thread finished; awaiting finish of 1 more threads\n",
      "2019-12-12 14:52:24,974 : INFO : worker thread finished; awaiting finish of 0 more threads\n",
      "2019-12-12 14:52:24,975 : INFO : EPOCH - 15 : training on 97786 raw words (97662 effective words) took 0.6s, 156362 effective words/s\n",
      "2019-12-12 14:52:25,396 : INFO : worker thread finished; awaiting finish of 9 more threads\n",
      "2019-12-12 14:52:25,403 : INFO : worker thread finished; awaiting finish of 8 more threads\n",
      "2019-12-12 14:52:25,408 : INFO : worker thread finished; awaiting finish of 7 more threads\n",
      "2019-12-12 14:52:25,419 : INFO : worker thread finished; awaiting finish of 6 more threads\n",
      "2019-12-12 14:52:25,529 : INFO : worker thread finished; awaiting finish of 5 more threads\n",
      "2019-12-12 14:52:25,535 : INFO : worker thread finished; awaiting finish of 4 more threads\n",
      "2019-12-12 14:52:25,568 : INFO : worker thread finished; awaiting finish of 3 more threads\n",
      "2019-12-12 14:52:25,572 : INFO : worker thread finished; awaiting finish of 2 more threads\n",
      "2019-12-12 14:52:25,585 : INFO : worker thread finished; awaiting finish of 1 more threads\n",
      "2019-12-12 14:52:25,588 : INFO : worker thread finished; awaiting finish of 0 more threads\n",
      "2019-12-12 14:52:25,589 : INFO : EPOCH - 16 : training on 97786 raw words (97670 effective words) took 0.6s, 160714 effective words/s\n",
      "2019-12-12 14:52:26,088 : INFO : worker thread finished; awaiting finish of 9 more threads\n",
      "2019-12-12 14:52:26,099 : INFO : worker thread finished; awaiting finish of 8 more threads\n",
      "2019-12-12 14:52:26,141 : INFO : worker thread finished; awaiting finish of 7 more threads\n",
      "2019-12-12 14:52:26,146 : INFO : worker thread finished; awaiting finish of 6 more threads\n",
      "2019-12-12 14:52:26,161 : INFO : worker thread finished; awaiting finish of 5 more threads\n",
      "2019-12-12 14:52:26,162 : INFO : worker thread finished; awaiting finish of 4 more threads\n",
      "2019-12-12 14:52:26,180 : INFO : worker thread finished; awaiting finish of 3 more threads\n",
      "2019-12-12 14:52:26,183 : INFO : worker thread finished; awaiting finish of 2 more threads\n",
      "2019-12-12 14:52:26,184 : INFO : worker thread finished; awaiting finish of 1 more threads\n",
      "2019-12-12 14:52:26,189 : INFO : worker thread finished; awaiting finish of 0 more threads\n",
      "2019-12-12 14:52:26,191 : INFO : EPOCH - 17 : training on 97786 raw words (97655 effective words) took 0.6s, 163836 effective words/s\n",
      "2019-12-12 14:52:26,699 : INFO : worker thread finished; awaiting finish of 9 more threads\n",
      "2019-12-12 14:52:26,707 : INFO : worker thread finished; awaiting finish of 8 more threads\n",
      "2019-12-12 14:52:26,720 : INFO : worker thread finished; awaiting finish of 7 more threads\n",
      "2019-12-12 14:52:26,744 : INFO : worker thread finished; awaiting finish of 6 more threads\n",
      "2019-12-12 14:52:26,746 : INFO : worker thread finished; awaiting finish of 5 more threads\n",
      "2019-12-12 14:52:26,782 : INFO : worker thread finished; awaiting finish of 4 more threads\n",
      "2019-12-12 14:52:26,788 : INFO : worker thread finished; awaiting finish of 3 more threads\n",
      "2019-12-12 14:52:26,817 : INFO : worker thread finished; awaiting finish of 2 more threads\n",
      "2019-12-12 14:52:26,818 : INFO : worker thread finished; awaiting finish of 1 more threads\n",
      "2019-12-12 14:52:26,819 : INFO : worker thread finished; awaiting finish of 0 more threads\n",
      "2019-12-12 14:52:26,819 : INFO : EPOCH - 18 : training on 97786 raw words (97657 effective words) took 0.6s, 156807 effective words/s\n",
      "2019-12-12 14:52:27,380 : INFO : worker thread finished; awaiting finish of 9 more threads\n",
      "2019-12-12 14:52:27,382 : INFO : worker thread finished; awaiting finish of 8 more threads\n",
      "2019-12-12 14:52:27,384 : INFO : worker thread finished; awaiting finish of 7 more threads\n",
      "2019-12-12 14:52:27,396 : INFO : worker thread finished; awaiting finish of 6 more threads\n",
      "2019-12-12 14:52:27,398 : INFO : worker thread finished; awaiting finish of 5 more threads\n",
      "2019-12-12 14:52:27,409 : INFO : worker thread finished; awaiting finish of 4 more threads\n",
      "2019-12-12 14:52:27,422 : INFO : worker thread finished; awaiting finish of 3 more threads\n",
      "2019-12-12 14:52:27,431 : INFO : worker thread finished; awaiting finish of 2 more threads\n",
      "2019-12-12 14:52:27,442 : INFO : worker thread finished; awaiting finish of 1 more threads\n",
      "2019-12-12 14:52:27,463 : INFO : worker thread finished; awaiting finish of 0 more threads\n",
      "2019-12-12 14:52:27,465 : INFO : EPOCH - 19 : training on 97786 raw words (97640 effective words) took 0.6s, 152970 effective words/s\n",
      "2019-12-12 14:52:27,958 : INFO : worker thread finished; awaiting finish of 9 more threads\n",
      "2019-12-12 14:52:27,964 : INFO : worker thread finished; awaiting finish of 8 more threads\n",
      "2019-12-12 14:52:27,991 : INFO : worker thread finished; awaiting finish of 7 more threads\n",
      "2019-12-12 14:52:28,018 : INFO : worker thread finished; awaiting finish of 6 more threads\n",
      "2019-12-12 14:52:28,021 : INFO : worker thread finished; awaiting finish of 5 more threads\n",
      "2019-12-12 14:52:28,066 : INFO : worker thread finished; awaiting finish of 4 more threads\n",
      "2019-12-12 14:52:28,081 : INFO : worker thread finished; awaiting finish of 3 more threads\n",
      "2019-12-12 14:52:28,087 : INFO : worker thread finished; awaiting finish of 2 more threads\n",
      "2019-12-12 14:52:28,095 : INFO : worker thread finished; awaiting finish of 1 more threads\n",
      "2019-12-12 14:52:28,108 : INFO : worker thread finished; awaiting finish of 0 more threads\n",
      "2019-12-12 14:52:28,109 : INFO : EPOCH - 20 : training on 97786 raw words (97664 effective words) took 0.6s, 152849 effective words/s\n",
      "2019-12-12 14:52:28,635 : INFO : worker thread finished; awaiting finish of 9 more threads\n",
      "2019-12-12 14:52:28,670 : INFO : worker thread finished; awaiting finish of 8 more threads\n",
      "2019-12-12 14:52:28,674 : INFO : worker thread finished; awaiting finish of 7 more threads\n",
      "2019-12-12 14:52:28,724 : INFO : worker thread finished; awaiting finish of 6 more threads\n",
      "2019-12-12 14:52:28,744 : INFO : worker thread finished; awaiting finish of 5 more threads\n",
      "2019-12-12 14:52:28,754 : INFO : worker thread finished; awaiting finish of 4 more threads\n",
      "2019-12-12 14:52:28,775 : INFO : worker thread finished; awaiting finish of 3 more threads\n",
      "2019-12-12 14:52:28,775 : INFO : worker thread finished; awaiting finish of 2 more threads\n",
      "2019-12-12 14:52:28,775 : INFO : worker thread finished; awaiting finish of 1 more threads\n",
      "2019-12-12 14:52:28,785 : INFO : worker thread finished; awaiting finish of 0 more threads\n",
      "2019-12-12 14:52:28,785 : INFO : EPOCH - 21 : training on 97786 raw words (97653 effective words) took 0.7s, 145294 effective words/s\n",
      "2019-12-12 14:52:29,368 : INFO : worker thread finished; awaiting finish of 9 more threads\n",
      "2019-12-12 14:52:29,397 : INFO : worker thread finished; awaiting finish of 8 more threads\n",
      "2019-12-12 14:52:29,410 : INFO : worker thread finished; awaiting finish of 7 more threads\n",
      "2019-12-12 14:52:29,419 : INFO : worker thread finished; awaiting finish of 6 more threads\n",
      "2019-12-12 14:52:29,451 : INFO : worker thread finished; awaiting finish of 5 more threads\n",
      "2019-12-12 14:52:29,496 : INFO : worker thread finished; awaiting finish of 4 more threads\n",
      "2019-12-12 14:52:29,498 : INFO : worker thread finished; awaiting finish of 3 more threads\n",
      "2019-12-12 14:52:29,508 : INFO : worker thread finished; awaiting finish of 2 more threads\n",
      "2019-12-12 14:52:29,510 : INFO : worker thread finished; awaiting finish of 1 more threads\n",
      "2019-12-12 14:52:29,512 : INFO : worker thread finished; awaiting finish of 0 more threads\n",
      "2019-12-12 14:52:29,513 : INFO : EPOCH - 22 : training on 97786 raw words (97653 effective words) took 0.7s, 135513 effective words/s\n",
      "2019-12-12 14:52:30,108 : INFO : worker thread finished; awaiting finish of 9 more threads\n",
      "2019-12-12 14:52:30,111 : INFO : worker thread finished; awaiting finish of 8 more threads\n",
      "2019-12-12 14:52:30,117 : INFO : worker thread finished; awaiting finish of 7 more threads\n",
      "2019-12-12 14:52:30,125 : INFO : worker thread finished; awaiting finish of 6 more threads\n",
      "2019-12-12 14:52:30,127 : INFO : worker thread finished; awaiting finish of 5 more threads\n",
      "2019-12-12 14:52:30,143 : INFO : worker thread finished; awaiting finish of 4 more threads\n"
     ]
    },
    {
     "name": "stderr",
     "output_type": "stream",
     "text": [
      "2019-12-12 14:52:30,173 : INFO : worker thread finished; awaiting finish of 3 more threads\n",
      "2019-12-12 14:52:30,175 : INFO : worker thread finished; awaiting finish of 2 more threads\n",
      "2019-12-12 14:52:30,183 : INFO : worker thread finished; awaiting finish of 1 more threads\n",
      "2019-12-12 14:52:30,188 : INFO : worker thread finished; awaiting finish of 0 more threads\n",
      "2019-12-12 14:52:30,189 : INFO : EPOCH - 23 : training on 97786 raw words (97647 effective words) took 0.7s, 145659 effective words/s\n",
      "2019-12-12 14:52:30,606 : INFO : worker thread finished; awaiting finish of 9 more threads\n",
      "2019-12-12 14:52:30,607 : INFO : worker thread finished; awaiting finish of 8 more threads\n",
      "2019-12-12 14:52:30,631 : INFO : worker thread finished; awaiting finish of 7 more threads\n",
      "2019-12-12 14:52:30,645 : INFO : worker thread finished; awaiting finish of 6 more threads\n",
      "2019-12-12 14:52:30,766 : INFO : worker thread finished; awaiting finish of 5 more threads\n",
      "2019-12-12 14:52:30,767 : INFO : worker thread finished; awaiting finish of 4 more threads\n",
      "2019-12-12 14:52:30,794 : INFO : worker thread finished; awaiting finish of 3 more threads\n",
      "2019-12-12 14:52:30,797 : INFO : worker thread finished; awaiting finish of 2 more threads\n",
      "2019-12-12 14:52:30,801 : INFO : worker thread finished; awaiting finish of 1 more threads\n",
      "2019-12-12 14:52:30,804 : INFO : worker thread finished; awaiting finish of 0 more threads\n",
      "2019-12-12 14:52:30,805 : INFO : EPOCH - 24 : training on 97786 raw words (97651 effective words) took 0.6s, 160240 effective words/s\n",
      "2019-12-12 14:52:31,400 : INFO : worker thread finished; awaiting finish of 9 more threads\n",
      "2019-12-12 14:52:31,414 : INFO : worker thread finished; awaiting finish of 8 more threads\n",
      "2019-12-12 14:52:31,420 : INFO : worker thread finished; awaiting finish of 7 more threads\n",
      "2019-12-12 14:52:31,425 : INFO : worker thread finished; awaiting finish of 6 more threads\n",
      "2019-12-12 14:52:31,427 : INFO : worker thread finished; awaiting finish of 5 more threads\n",
      "2019-12-12 14:52:31,432 : INFO : worker thread finished; awaiting finish of 4 more threads\n",
      "2019-12-12 14:52:31,444 : INFO : worker thread finished; awaiting finish of 3 more threads\n",
      "2019-12-12 14:52:31,467 : INFO : worker thread finished; awaiting finish of 2 more threads\n",
      "2019-12-12 14:52:31,470 : INFO : worker thread finished; awaiting finish of 1 more threads\n",
      "2019-12-12 14:52:31,488 : INFO : worker thread finished; awaiting finish of 0 more threads\n",
      "2019-12-12 14:52:31,489 : INFO : EPOCH - 25 : training on 97786 raw words (97654 effective words) took 0.7s, 143933 effective words/s\n",
      "2019-12-12 14:52:32,041 : INFO : worker thread finished; awaiting finish of 9 more threads\n",
      "2019-12-12 14:52:32,066 : INFO : worker thread finished; awaiting finish of 8 more threads\n",
      "2019-12-12 14:52:32,077 : INFO : worker thread finished; awaiting finish of 7 more threads\n",
      "2019-12-12 14:52:32,115 : INFO : worker thread finished; awaiting finish of 6 more threads\n",
      "2019-12-12 14:52:32,140 : INFO : worker thread finished; awaiting finish of 5 more threads\n",
      "2019-12-12 14:52:32,143 : INFO : worker thread finished; awaiting finish of 4 more threads\n",
      "2019-12-12 14:52:32,149 : INFO : worker thread finished; awaiting finish of 3 more threads\n",
      "2019-12-12 14:52:32,154 : INFO : worker thread finished; awaiting finish of 2 more threads\n",
      "2019-12-12 14:52:32,156 : INFO : worker thread finished; awaiting finish of 1 more threads\n",
      "2019-12-12 14:52:32,172 : INFO : worker thread finished; awaiting finish of 0 more threads\n",
      "2019-12-12 14:52:32,174 : INFO : EPOCH - 26 : training on 97786 raw words (97664 effective words) took 0.7s, 144350 effective words/s\n",
      "2019-12-12 14:52:32,714 : INFO : worker thread finished; awaiting finish of 9 more threads\n",
      "2019-12-12 14:52:32,714 : INFO : worker thread finished; awaiting finish of 8 more threads\n",
      "2019-12-12 14:52:32,724 : INFO : worker thread finished; awaiting finish of 7 more threads\n",
      "2019-12-12 14:52:32,746 : INFO : worker thread finished; awaiting finish of 6 more threads\n",
      "2019-12-12 14:52:32,748 : INFO : worker thread finished; awaiting finish of 5 more threads\n",
      "2019-12-12 14:52:32,790 : INFO : worker thread finished; awaiting finish of 4 more threads\n",
      "2019-12-12 14:52:32,819 : INFO : worker thread finished; awaiting finish of 3 more threads\n",
      "2019-12-12 14:52:32,822 : INFO : worker thread finished; awaiting finish of 2 more threads\n",
      "2019-12-12 14:52:32,845 : INFO : worker thread finished; awaiting finish of 1 more threads\n",
      "2019-12-12 14:52:32,854 : INFO : worker thread finished; awaiting finish of 0 more threads\n",
      "2019-12-12 14:52:32,856 : INFO : EPOCH - 27 : training on 97786 raw words (97649 effective words) took 0.7s, 144583 effective words/s\n",
      "2019-12-12 14:52:33,419 : INFO : worker thread finished; awaiting finish of 9 more threads\n",
      "2019-12-12 14:52:33,430 : INFO : worker thread finished; awaiting finish of 8 more threads\n",
      "2019-12-12 14:52:33,436 : INFO : worker thread finished; awaiting finish of 7 more threads\n",
      "2019-12-12 14:52:33,464 : INFO : worker thread finished; awaiting finish of 6 more threads\n",
      "2019-12-12 14:52:33,467 : INFO : worker thread finished; awaiting finish of 5 more threads\n",
      "2019-12-12 14:52:33,477 : INFO : worker thread finished; awaiting finish of 4 more threads\n",
      "2019-12-12 14:52:33,479 : INFO : worker thread finished; awaiting finish of 3 more threads\n",
      "2019-12-12 14:52:33,480 : INFO : worker thread finished; awaiting finish of 2 more threads\n",
      "2019-12-12 14:52:33,482 : INFO : worker thread finished; awaiting finish of 1 more threads\n",
      "2019-12-12 14:52:33,498 : INFO : worker thread finished; awaiting finish of 0 more threads\n",
      "2019-12-12 14:52:33,499 : INFO : EPOCH - 28 : training on 97786 raw words (97644 effective words) took 0.6s, 153952 effective words/s\n",
      "2019-12-12 14:52:33,995 : INFO : worker thread finished; awaiting finish of 9 more threads\n",
      "2019-12-12 14:52:34,002 : INFO : worker thread finished; awaiting finish of 8 more threads\n",
      "2019-12-12 14:52:34,023 : INFO : worker thread finished; awaiting finish of 7 more threads\n",
      "2019-12-12 14:52:34,031 : INFO : worker thread finished; awaiting finish of 6 more threads\n",
      "2019-12-12 14:52:34,035 : INFO : worker thread finished; awaiting finish of 5 more threads\n",
      "2019-12-12 14:52:34,099 : INFO : worker thread finished; awaiting finish of 4 more threads\n",
      "2019-12-12 14:52:34,110 : INFO : worker thread finished; awaiting finish of 3 more threads\n",
      "2019-12-12 14:52:34,117 : INFO : worker thread finished; awaiting finish of 2 more threads\n",
      "2019-12-12 14:52:34,137 : INFO : worker thread finished; awaiting finish of 1 more threads\n",
      "2019-12-12 14:52:34,139 : INFO : worker thread finished; awaiting finish of 0 more threads\n",
      "2019-12-12 14:52:34,140 : INFO : EPOCH - 29 : training on 97786 raw words (97673 effective words) took 0.6s, 154104 effective words/s\n",
      "2019-12-12 14:52:34,675 : INFO : worker thread finished; awaiting finish of 9 more threads\n",
      "2019-12-12 14:52:34,683 : INFO : worker thread finished; awaiting finish of 8 more threads\n",
      "2019-12-12 14:52:34,707 : INFO : worker thread finished; awaiting finish of 7 more threads\n",
      "2019-12-12 14:52:34,720 : INFO : worker thread finished; awaiting finish of 6 more threads\n",
      "2019-12-12 14:52:34,738 : INFO : worker thread finished; awaiting finish of 5 more threads\n",
      "2019-12-12 14:52:34,766 : INFO : worker thread finished; awaiting finish of 4 more threads\n",
      "2019-12-12 14:52:34,778 : INFO : worker thread finished; awaiting finish of 3 more threads\n",
      "2019-12-12 14:52:34,792 : INFO : worker thread finished; awaiting finish of 2 more threads\n",
      "2019-12-12 14:52:34,807 : INFO : worker thread finished; awaiting finish of 1 more threads\n",
      "2019-12-12 14:52:34,814 : INFO : worker thread finished; awaiting finish of 0 more threads\n",
      "2019-12-12 14:52:34,815 : INFO : EPOCH - 30 : training on 97786 raw words (97678 effective words) took 0.7s, 145936 effective words/s\n",
      "2019-12-12 14:52:35,469 : INFO : worker thread finished; awaiting finish of 9 more threads\n",
      "2019-12-12 14:52:35,498 : INFO : worker thread finished; awaiting finish of 8 more threads\n",
      "2019-12-12 14:52:35,500 : INFO : worker thread finished; awaiting finish of 7 more threads\n",
      "2019-12-12 14:52:35,512 : INFO : worker thread finished; awaiting finish of 6 more threads\n",
      "2019-12-12 14:52:35,516 : INFO : worker thread finished; awaiting finish of 5 more threads\n"
     ]
    },
    {
     "name": "stderr",
     "output_type": "stream",
     "text": [
      "2019-12-12 14:52:35,519 : INFO : worker thread finished; awaiting finish of 4 more threads\n",
      "2019-12-12 14:52:35,522 : INFO : worker thread finished; awaiting finish of 3 more threads\n",
      "2019-12-12 14:52:35,524 : INFO : worker thread finished; awaiting finish of 2 more threads\n",
      "2019-12-12 14:52:35,546 : INFO : worker thread finished; awaiting finish of 1 more threads\n",
      "2019-12-12 14:52:35,562 : INFO : worker thread finished; awaiting finish of 0 more threads\n",
      "2019-12-12 14:52:35,563 : INFO : EPOCH - 31 : training on 97786 raw words (97664 effective words) took 0.7s, 131955 effective words/s\n",
      "2019-12-12 14:52:36,139 : INFO : worker thread finished; awaiting finish of 9 more threads\n",
      "2019-12-12 14:52:36,154 : INFO : worker thread finished; awaiting finish of 8 more threads\n",
      "2019-12-12 14:52:36,173 : INFO : worker thread finished; awaiting finish of 7 more threads\n",
      "2019-12-12 14:52:36,183 : INFO : worker thread finished; awaiting finish of 6 more threads\n",
      "2019-12-12 14:52:36,187 : INFO : worker thread finished; awaiting finish of 5 more threads\n",
      "2019-12-12 14:52:36,231 : INFO : worker thread finished; awaiting finish of 4 more threads\n",
      "2019-12-12 14:52:36,233 : INFO : worker thread finished; awaiting finish of 3 more threads\n",
      "2019-12-12 14:52:36,244 : INFO : worker thread finished; awaiting finish of 2 more threads\n",
      "2019-12-12 14:52:36,248 : INFO : worker thread finished; awaiting finish of 1 more threads\n",
      "2019-12-12 14:52:36,250 : INFO : worker thread finished; awaiting finish of 0 more threads\n",
      "2019-12-12 14:52:36,251 : INFO : EPOCH - 32 : training on 97786 raw words (97654 effective words) took 0.7s, 143923 effective words/s\n",
      "2019-12-12 14:52:36,782 : INFO : worker thread finished; awaiting finish of 9 more threads\n",
      "2019-12-12 14:52:36,795 : INFO : worker thread finished; awaiting finish of 8 more threads\n",
      "2019-12-12 14:52:36,806 : INFO : worker thread finished; awaiting finish of 7 more threads\n",
      "2019-12-12 14:52:36,813 : INFO : worker thread finished; awaiting finish of 6 more threads\n",
      "2019-12-12 14:52:36,840 : INFO : worker thread finished; awaiting finish of 5 more threads\n",
      "2019-12-12 14:52:36,849 : INFO : worker thread finished; awaiting finish of 4 more threads\n",
      "2019-12-12 14:52:36,855 : INFO : worker thread finished; awaiting finish of 3 more threads\n",
      "2019-12-12 14:52:36,865 : INFO : worker thread finished; awaiting finish of 2 more threads\n",
      "2019-12-12 14:52:36,867 : INFO : worker thread finished; awaiting finish of 1 more threads\n",
      "2019-12-12 14:52:36,877 : INFO : worker thread finished; awaiting finish of 0 more threads\n",
      "2019-12-12 14:52:36,878 : INFO : EPOCH - 33 : training on 97786 raw words (97653 effective words) took 0.6s, 157624 effective words/s\n",
      "2019-12-12 14:52:37,345 : INFO : worker thread finished; awaiting finish of 9 more threads\n",
      "2019-12-12 14:52:37,365 : INFO : worker thread finished; awaiting finish of 8 more threads\n",
      "2019-12-12 14:52:37,373 : INFO : worker thread finished; awaiting finish of 7 more threads\n",
      "2019-12-12 14:52:37,386 : INFO : worker thread finished; awaiting finish of 6 more threads\n",
      "2019-12-12 14:52:37,448 : INFO : worker thread finished; awaiting finish of 5 more threads\n",
      "2019-12-12 14:52:37,466 : INFO : worker thread finished; awaiting finish of 4 more threads\n",
      "2019-12-12 14:52:37,470 : INFO : worker thread finished; awaiting finish of 3 more threads\n",
      "2019-12-12 14:52:37,474 : INFO : worker thread finished; awaiting finish of 2 more threads\n",
      "2019-12-12 14:52:37,476 : INFO : worker thread finished; awaiting finish of 1 more threads\n",
      "2019-12-12 14:52:37,483 : INFO : worker thread finished; awaiting finish of 0 more threads\n",
      "2019-12-12 14:52:37,485 : INFO : EPOCH - 34 : training on 97786 raw words (97662 effective words) took 0.6s, 162953 effective words/s\n",
      "2019-12-12 14:52:37,998 : INFO : worker thread finished; awaiting finish of 9 more threads\n",
      "2019-12-12 14:52:38,006 : INFO : worker thread finished; awaiting finish of 8 more threads\n",
      "2019-12-12 14:52:38,027 : INFO : worker thread finished; awaiting finish of 7 more threads\n",
      "2019-12-12 14:52:38,042 : INFO : worker thread finished; awaiting finish of 6 more threads\n",
      "2019-12-12 14:52:38,044 : INFO : worker thread finished; awaiting finish of 5 more threads\n",
      "2019-12-12 14:52:38,047 : INFO : worker thread finished; awaiting finish of 4 more threads\n",
      "2019-12-12 14:52:38,050 : INFO : worker thread finished; awaiting finish of 3 more threads\n",
      "2019-12-12 14:52:38,071 : INFO : worker thread finished; awaiting finish of 2 more threads\n",
      "2019-12-12 14:52:38,072 : INFO : worker thread finished; awaiting finish of 1 more threads\n",
      "2019-12-12 14:52:38,079 : INFO : worker thread finished; awaiting finish of 0 more threads\n",
      "2019-12-12 14:52:38,080 : INFO : EPOCH - 35 : training on 97786 raw words (97668 effective words) took 0.6s, 166373 effective words/s\n",
      "2019-12-12 14:52:38,524 : INFO : worker thread finished; awaiting finish of 9 more threads\n",
      "2019-12-12 14:52:38,542 : INFO : worker thread finished; awaiting finish of 8 more threads\n",
      "2019-12-12 14:52:38,557 : INFO : worker thread finished; awaiting finish of 7 more threads\n",
      "2019-12-12 14:52:38,582 : INFO : worker thread finished; awaiting finish of 6 more threads\n",
      "2019-12-12 14:52:38,679 : INFO : worker thread finished; awaiting finish of 5 more threads\n",
      "2019-12-12 14:52:38,717 : INFO : worker thread finished; awaiting finish of 4 more threads\n",
      "2019-12-12 14:52:38,737 : INFO : worker thread finished; awaiting finish of 3 more threads\n",
      "2019-12-12 14:52:38,752 : INFO : worker thread finished; awaiting finish of 2 more threads\n",
      "2019-12-12 14:52:38,754 : INFO : worker thread finished; awaiting finish of 1 more threads\n",
      "2019-12-12 14:52:38,759 : INFO : worker thread finished; awaiting finish of 0 more threads\n",
      "2019-12-12 14:52:38,760 : INFO : EPOCH - 36 : training on 97786 raw words (97670 effective words) took 0.7s, 144959 effective words/s\n",
      "2019-12-12 14:52:39,416 : INFO : worker thread finished; awaiting finish of 9 more threads\n",
      "2019-12-12 14:52:39,447 : INFO : worker thread finished; awaiting finish of 8 more threads\n",
      "2019-12-12 14:52:39,459 : INFO : worker thread finished; awaiting finish of 7 more threads\n",
      "2019-12-12 14:52:39,462 : INFO : worker thread finished; awaiting finish of 6 more threads\n",
      "2019-12-12 14:52:39,470 : INFO : worker thread finished; awaiting finish of 5 more threads\n",
      "2019-12-12 14:52:39,473 : INFO : worker thread finished; awaiting finish of 4 more threads\n",
      "2019-12-12 14:52:39,521 : INFO : worker thread finished; awaiting finish of 3 more threads\n",
      "2019-12-12 14:52:39,522 : INFO : worker thread finished; awaiting finish of 2 more threads\n",
      "2019-12-12 14:52:39,526 : INFO : worker thread finished; awaiting finish of 1 more threads\n",
      "2019-12-12 14:52:39,538 : INFO : worker thread finished; awaiting finish of 0 more threads\n",
      "2019-12-12 14:52:39,540 : INFO : EPOCH - 37 : training on 97786 raw words (97666 effective words) took 0.8s, 126318 effective words/s\n",
      "2019-12-12 14:52:40,101 : INFO : worker thread finished; awaiting finish of 9 more threads\n",
      "2019-12-12 14:52:40,127 : INFO : worker thread finished; awaiting finish of 8 more threads\n",
      "2019-12-12 14:52:40,141 : INFO : worker thread finished; awaiting finish of 7 more threads\n",
      "2019-12-12 14:52:40,148 : INFO : worker thread finished; awaiting finish of 6 more threads\n",
      "2019-12-12 14:52:40,204 : INFO : worker thread finished; awaiting finish of 5 more threads\n",
      "2019-12-12 14:52:40,207 : INFO : worker thread finished; awaiting finish of 4 more threads\n",
      "2019-12-12 14:52:40,211 : INFO : worker thread finished; awaiting finish of 3 more threads\n",
      "2019-12-12 14:52:40,216 : INFO : worker thread finished; awaiting finish of 2 more threads\n",
      "2019-12-12 14:52:40,226 : INFO : worker thread finished; awaiting finish of 1 more threads\n",
      "2019-12-12 14:52:40,239 : INFO : worker thread finished; awaiting finish of 0 more threads\n",
      "2019-12-12 14:52:40,241 : INFO : EPOCH - 38 : training on 97786 raw words (97672 effective words) took 0.7s, 140960 effective words/s\n",
      "2019-12-12 14:52:40,743 : INFO : worker thread finished; awaiting finish of 9 more threads\n",
      "2019-12-12 14:52:40,750 : INFO : worker thread finished; awaiting finish of 8 more threads\n",
      "2019-12-12 14:52:40,783 : INFO : worker thread finished; awaiting finish of 7 more threads\n",
      "2019-12-12 14:52:40,795 : INFO : worker thread finished; awaiting finish of 6 more threads\n"
     ]
    },
    {
     "name": "stderr",
     "output_type": "stream",
     "text": [
      "2019-12-12 14:52:40,816 : INFO : worker thread finished; awaiting finish of 5 more threads\n",
      "2019-12-12 14:52:40,852 : INFO : worker thread finished; awaiting finish of 4 more threads\n",
      "2019-12-12 14:52:40,858 : INFO : worker thread finished; awaiting finish of 3 more threads\n",
      "2019-12-12 14:52:40,862 : INFO : worker thread finished; awaiting finish of 2 more threads\n",
      "2019-12-12 14:52:40,880 : INFO : worker thread finished; awaiting finish of 1 more threads\n",
      "2019-12-12 14:52:40,887 : INFO : worker thread finished; awaiting finish of 0 more threads\n",
      "2019-12-12 14:52:40,889 : INFO : EPOCH - 39 : training on 97786 raw words (97668 effective words) took 0.6s, 151940 effective words/s\n",
      "2019-12-12 14:52:41,309 : INFO : worker thread finished; awaiting finish of 9 more threads\n",
      "2019-12-12 14:52:41,328 : INFO : worker thread finished; awaiting finish of 8 more threads\n",
      "2019-12-12 14:52:41,333 : INFO : worker thread finished; awaiting finish of 7 more threads\n",
      "2019-12-12 14:52:41,359 : INFO : worker thread finished; awaiting finish of 6 more threads\n",
      "2019-12-12 14:52:41,466 : INFO : worker thread finished; awaiting finish of 5 more threads\n",
      "2019-12-12 14:52:41,494 : INFO : worker thread finished; awaiting finish of 4 more threads\n",
      "2019-12-12 14:52:41,499 : INFO : worker thread finished; awaiting finish of 3 more threads\n",
      "2019-12-12 14:52:41,504 : INFO : worker thread finished; awaiting finish of 2 more threads\n",
      "2019-12-12 14:52:41,513 : INFO : worker thread finished; awaiting finish of 1 more threads\n",
      "2019-12-12 14:52:41,517 : INFO : worker thread finished; awaiting finish of 0 more threads\n",
      "2019-12-12 14:52:41,518 : INFO : EPOCH - 40 : training on 97786 raw words (97660 effective words) took 0.6s, 156810 effective words/s\n",
      "2019-12-12 14:52:41,984 : INFO : worker thread finished; awaiting finish of 9 more threads\n",
      "2019-12-12 14:52:42,014 : INFO : worker thread finished; awaiting finish of 8 more threads\n",
      "2019-12-12 14:52:42,039 : INFO : worker thread finished; awaiting finish of 7 more threads\n",
      "2019-12-12 14:52:42,077 : INFO : worker thread finished; awaiting finish of 6 more threads\n",
      "2019-12-12 14:52:42,085 : INFO : worker thread finished; awaiting finish of 5 more threads\n",
      "2019-12-12 14:52:42,097 : INFO : worker thread finished; awaiting finish of 4 more threads\n",
      "2019-12-12 14:52:42,105 : INFO : worker thread finished; awaiting finish of 3 more threads\n",
      "2019-12-12 14:52:42,107 : INFO : worker thread finished; awaiting finish of 2 more threads\n",
      "2019-12-12 14:52:42,107 : INFO : worker thread finished; awaiting finish of 1 more threads\n",
      "2019-12-12 14:52:42,139 : INFO : worker thread finished; awaiting finish of 0 more threads\n",
      "2019-12-12 14:52:42,140 : INFO : EPOCH - 41 : training on 97786 raw words (97651 effective words) took 0.6s, 158688 effective words/s\n",
      "2019-12-12 14:52:42,757 : INFO : worker thread finished; awaiting finish of 9 more threads\n",
      "2019-12-12 14:52:42,781 : INFO : worker thread finished; awaiting finish of 8 more threads\n",
      "2019-12-12 14:52:42,787 : INFO : worker thread finished; awaiting finish of 7 more threads\n",
      "2019-12-12 14:52:42,812 : INFO : worker thread finished; awaiting finish of 6 more threads\n",
      "2019-12-12 14:52:42,820 : INFO : worker thread finished; awaiting finish of 5 more threads\n",
      "2019-12-12 14:52:42,824 : INFO : worker thread finished; awaiting finish of 4 more threads\n",
      "2019-12-12 14:52:42,844 : INFO : worker thread finished; awaiting finish of 3 more threads\n",
      "2019-12-12 14:52:42,858 : INFO : worker thread finished; awaiting finish of 2 more threads\n",
      "2019-12-12 14:52:42,867 : INFO : worker thread finished; awaiting finish of 1 more threads\n",
      "2019-12-12 14:52:42,870 : INFO : worker thread finished; awaiting finish of 0 more threads\n",
      "2019-12-12 14:52:42,872 : INFO : EPOCH - 42 : training on 97786 raw words (97658 effective words) took 0.7s, 134836 effective words/s\n",
      "2019-12-12 14:52:43,391 : INFO : worker thread finished; awaiting finish of 9 more threads\n",
      "2019-12-12 14:52:43,397 : INFO : worker thread finished; awaiting finish of 8 more threads\n",
      "2019-12-12 14:52:43,399 : INFO : worker thread finished; awaiting finish of 7 more threads\n",
      "2019-12-12 14:52:43,425 : INFO : worker thread finished; awaiting finish of 6 more threads\n",
      "2019-12-12 14:52:43,459 : INFO : worker thread finished; awaiting finish of 5 more threads\n",
      "2019-12-12 14:52:43,465 : INFO : worker thread finished; awaiting finish of 4 more threads\n",
      "2019-12-12 14:52:43,469 : INFO : worker thread finished; awaiting finish of 3 more threads\n",
      "2019-12-12 14:52:43,471 : INFO : worker thread finished; awaiting finish of 2 more threads\n",
      "2019-12-12 14:52:43,478 : INFO : worker thread finished; awaiting finish of 1 more threads\n",
      "2019-12-12 14:52:43,482 : INFO : worker thread finished; awaiting finish of 0 more threads\n",
      "2019-12-12 14:52:43,483 : INFO : EPOCH - 43 : training on 97786 raw words (97655 effective words) took 0.6s, 161849 effective words/s\n",
      "2019-12-12 14:52:43,935 : INFO : worker thread finished; awaiting finish of 9 more threads\n",
      "2019-12-12 14:52:43,941 : INFO : worker thread finished; awaiting finish of 8 more threads\n",
      "2019-12-12 14:52:43,963 : INFO : worker thread finished; awaiting finish of 7 more threads\n",
      "2019-12-12 14:52:43,990 : INFO : worker thread finished; awaiting finish of 6 more threads\n",
      "2019-12-12 14:52:44,104 : INFO : worker thread finished; awaiting finish of 5 more threads\n",
      "2019-12-12 14:52:44,110 : INFO : worker thread finished; awaiting finish of 4 more threads\n",
      "2019-12-12 14:52:44,115 : INFO : worker thread finished; awaiting finish of 3 more threads\n",
      "2019-12-12 14:52:44,143 : INFO : worker thread finished; awaiting finish of 2 more threads\n",
      "2019-12-12 14:52:44,147 : INFO : worker thread finished; awaiting finish of 1 more threads\n",
      "2019-12-12 14:52:44,149 : INFO : worker thread finished; awaiting finish of 0 more threads\n",
      "2019-12-12 14:52:44,151 : INFO : EPOCH - 44 : training on 97786 raw words (97667 effective words) took 0.7s, 147446 effective words/s\n",
      "2019-12-12 14:52:44,700 : INFO : worker thread finished; awaiting finish of 9 more threads\n",
      "2019-12-12 14:52:44,732 : INFO : worker thread finished; awaiting finish of 8 more threads\n",
      "2019-12-12 14:52:44,772 : INFO : worker thread finished; awaiting finish of 7 more threads\n",
      "2019-12-12 14:52:44,779 : INFO : worker thread finished; awaiting finish of 6 more threads\n",
      "2019-12-12 14:52:44,824 : INFO : worker thread finished; awaiting finish of 5 more threads\n",
      "2019-12-12 14:52:44,835 : INFO : worker thread finished; awaiting finish of 4 more threads\n",
      "2019-12-12 14:52:44,837 : INFO : worker thread finished; awaiting finish of 3 more threads\n",
      "2019-12-12 14:52:44,838 : INFO : worker thread finished; awaiting finish of 2 more threads\n",
      "2019-12-12 14:52:44,845 : INFO : worker thread finished; awaiting finish of 1 more threads\n",
      "2019-12-12 14:52:44,848 : INFO : worker thread finished; awaiting finish of 0 more threads\n",
      "2019-12-12 14:52:44,849 : INFO : EPOCH - 45 : training on 97786 raw words (97666 effective words) took 0.7s, 141179 effective words/s\n",
      "2019-12-12 14:52:45,373 : INFO : worker thread finished; awaiting finish of 9 more threads\n",
      "2019-12-12 14:52:45,404 : INFO : worker thread finished; awaiting finish of 8 more threads\n",
      "2019-12-12 14:52:45,424 : INFO : worker thread finished; awaiting finish of 7 more threads\n",
      "2019-12-12 14:52:45,436 : INFO : worker thread finished; awaiting finish of 6 more threads\n",
      "2019-12-12 14:52:45,458 : INFO : worker thread finished; awaiting finish of 5 more threads\n",
      "2019-12-12 14:52:45,466 : INFO : worker thread finished; awaiting finish of 4 more threads\n",
      "2019-12-12 14:52:45,477 : INFO : worker thread finished; awaiting finish of 3 more threads\n",
      "2019-12-12 14:52:45,484 : INFO : worker thread finished; awaiting finish of 2 more threads\n",
      "2019-12-12 14:52:45,497 : INFO : worker thread finished; awaiting finish of 1 more threads\n",
      "2019-12-12 14:52:45,505 : INFO : worker thread finished; awaiting finish of 0 more threads\n",
      "2019-12-12 14:52:45,506 : INFO : EPOCH - 46 : training on 97786 raw words (97658 effective words) took 0.6s, 150377 effective words/s\n",
      "2019-12-12 14:52:45,967 : INFO : worker thread finished; awaiting finish of 9 more threads\n",
      "2019-12-12 14:52:45,974 : INFO : worker thread finished; awaiting finish of 8 more threads\n",
      "2019-12-12 14:52:45,989 : INFO : worker thread finished; awaiting finish of 7 more threads\n"
     ]
    },
    {
     "name": "stderr",
     "output_type": "stream",
     "text": [
      "2019-12-12 14:52:45,999 : INFO : worker thread finished; awaiting finish of 6 more threads\n",
      "2019-12-12 14:52:46,111 : INFO : worker thread finished; awaiting finish of 5 more threads\n",
      "2019-12-12 14:52:46,124 : INFO : worker thread finished; awaiting finish of 4 more threads\n",
      "2019-12-12 14:52:46,143 : INFO : worker thread finished; awaiting finish of 3 more threads\n",
      "2019-12-12 14:52:46,159 : INFO : worker thread finished; awaiting finish of 2 more threads\n",
      "2019-12-12 14:52:46,165 : INFO : worker thread finished; awaiting finish of 1 more threads\n",
      "2019-12-12 14:52:46,168 : INFO : worker thread finished; awaiting finish of 0 more threads\n",
      "2019-12-12 14:52:46,170 : INFO : EPOCH - 47 : training on 97786 raw words (97663 effective words) took 0.7s, 148221 effective words/s\n",
      "2019-12-12 14:52:46,704 : INFO : worker thread finished; awaiting finish of 9 more threads\n",
      "2019-12-12 14:52:46,705 : INFO : worker thread finished; awaiting finish of 8 more threads\n",
      "2019-12-12 14:52:46,707 : INFO : worker thread finished; awaiting finish of 7 more threads\n",
      "2019-12-12 14:52:46,714 : INFO : worker thread finished; awaiting finish of 6 more threads\n",
      "2019-12-12 14:52:46,749 : INFO : worker thread finished; awaiting finish of 5 more threads\n",
      "2019-12-12 14:52:46,818 : INFO : worker thread finished; awaiting finish of 4 more threads\n",
      "2019-12-12 14:52:46,824 : INFO : worker thread finished; awaiting finish of 3 more threads\n",
      "2019-12-12 14:52:46,826 : INFO : worker thread finished; awaiting finish of 2 more threads\n",
      "2019-12-12 14:52:46,828 : INFO : worker thread finished; awaiting finish of 1 more threads\n",
      "2019-12-12 14:52:46,829 : INFO : worker thread finished; awaiting finish of 0 more threads\n",
      "2019-12-12 14:52:46,829 : INFO : EPOCH - 48 : training on 97786 raw words (97672 effective words) took 0.7s, 149398 effective words/s\n",
      "2019-12-12 14:52:47,377 : INFO : worker thread finished; awaiting finish of 9 more threads\n",
      "2019-12-12 14:52:47,392 : INFO : worker thread finished; awaiting finish of 8 more threads\n",
      "2019-12-12 14:52:47,395 : INFO : worker thread finished; awaiting finish of 7 more threads\n",
      "2019-12-12 14:52:47,402 : INFO : worker thread finished; awaiting finish of 6 more threads\n",
      "2019-12-12 14:52:47,420 : INFO : worker thread finished; awaiting finish of 5 more threads\n",
      "2019-12-12 14:52:47,422 : INFO : worker thread finished; awaiting finish of 4 more threads\n",
      "2019-12-12 14:52:47,430 : INFO : worker thread finished; awaiting finish of 3 more threads\n",
      "2019-12-12 14:52:47,435 : INFO : worker thread finished; awaiting finish of 2 more threads\n",
      "2019-12-12 14:52:47,446 : INFO : worker thread finished; awaiting finish of 1 more threads\n",
      "2019-12-12 14:52:47,455 : INFO : worker thread finished; awaiting finish of 0 more threads\n",
      "2019-12-12 14:52:47,456 : INFO : EPOCH - 49 : training on 97786 raw words (97656 effective words) took 0.6s, 157475 effective words/s\n",
      "2019-12-12 14:52:48,008 : INFO : worker thread finished; awaiting finish of 9 more threads\n",
      "2019-12-12 14:52:48,010 : INFO : worker thread finished; awaiting finish of 8 more threads\n",
      "2019-12-12 14:52:48,013 : INFO : worker thread finished; awaiting finish of 7 more threads\n",
      "2019-12-12 14:52:48,028 : INFO : worker thread finished; awaiting finish of 6 more threads\n",
      "2019-12-12 14:52:48,034 : INFO : worker thread finished; awaiting finish of 5 more threads\n",
      "2019-12-12 14:52:48,061 : INFO : worker thread finished; awaiting finish of 4 more threads\n",
      "2019-12-12 14:52:48,074 : INFO : worker thread finished; awaiting finish of 3 more threads\n",
      "2019-12-12 14:52:48,088 : INFO : worker thread finished; awaiting finish of 2 more threads\n",
      "2019-12-12 14:52:48,091 : INFO : worker thread finished; awaiting finish of 1 more threads\n",
      "2019-12-12 14:52:48,092 : INFO : worker thread finished; awaiting finish of 0 more threads\n",
      "2019-12-12 14:52:48,093 : INFO : EPOCH - 50 : training on 97786 raw words (97660 effective words) took 0.6s, 155112 effective words/s\n",
      "2019-12-12 14:52:48,094 : INFO : training on a 4889300 raw words (4882949 effective words) took 32.4s, 150713 effective words/s\n"
     ]
    }
   ],
   "source": [
    "import gensim\n",
    "import logging\n",
    "logging.basicConfig(format='%(asctime)s : %(levelname)s : %(message)s', level=logging.INFO)\n",
    "\n",
    "\n",
    "\n",
    "train_seq_str = [list(map(str,seq)) for seq in train_seq] # we just say that our items id's are strings..\n",
    "    \n",
    "\n",
    "# the following configuration is the default configuration\n",
    "w2v = gensim.models.word2vec.Word2Vec(sentences=train_seq_str,\n",
    "                                size=50, window=10,               ### here we train a cbow model \n",
    "                                min_count=0,                      \n",
    "                                sample=0.001, ns_exponent=0.75, workers=10,\n",
    "                                sg=1, hs=0, negative=15,          ### set sg to 1 to train a sg model => Prod2Vec\n",
    "                                cbow_mean=0,\n",
    "                                iter=50)"
   ]
  },
  {
   "cell_type": "markdown",
   "metadata": {},
   "source": [
    "### A few things:"
   ]
  },
  {
   "cell_type": "code",
   "execution_count": 42,
   "metadata": {
    "ExecuteTime": {
     "end_time": "2019-12-12T19:53:04.899030Z",
     "start_time": "2019-12-12T19:53:04.893455Z"
    }
   },
   "outputs": [
    {
     "name": "stdout",
     "output_type": "stream",
     "text": [
      "[ 0.02447086 -0.00881516 -0.28099975  0.4698347  -0.03664486  0.5035254\n",
      "  0.39584553 -0.31405672 -0.24413584  0.26342934 -0.47712737  0.21490565\n",
      "  0.04651377 -0.5529326  -0.3012766   0.09036715  0.3457751   0.67015034\n",
      "  0.28250185 -0.03351379 -0.24978699 -0.22508933 -0.17961359 -0.02760161\n",
      "  0.43290183 -0.03359252  0.08323925  0.33542413  0.9770584  -0.68888575\n",
      " -0.21780851  0.6524615  -0.12976041  0.49042404  0.09893963 -0.02777111\n",
      " -0.13749838 -0.33588797 -0.7212727  -0.5395663   0.37905064 -0.08938614\n",
      " -0.7262404   0.10563856  0.6420585  -0.7695863   0.2248155   0.05141493\n",
      " -0.31934533 -0.07123888]\n",
      "356\n",
      "0\n"
     ]
    }
   ],
   "source": [
    "print(w2v.wv.vectors[0])              # The vector of index 0\n",
    "print(w2v.wv.index2word[0])           # codes for the movieId 356\n",
    "print(w2v.wv.vocab[\"356\"].index)      # Inverse mapping\n"
   ]
  },
  {
   "cell_type": "markdown",
   "metadata": {},
   "source": [
    "## Getting similar items:\n",
    "\n",
    "The heart of the algorithm is in the similar item search. As in word2vec, we simply use cosine distance between items to find \"similar items\"\n",
    "\n",
    "### We can search by id's"
   ]
  },
  {
   "cell_type": "code",
   "execution_count": 43,
   "metadata": {
    "ExecuteTime": {
     "end_time": "2019-12-12T19:53:18.522035Z",
     "start_time": "2019-12-12T19:53:18.505048Z"
    }
   },
   "outputs": [
    {
     "name": "stderr",
     "output_type": "stream",
     "text": [
      "2019-12-12 14:53:18,508 : INFO : precomputing L2-norms of word weight vectors\n"
     ]
    },
    {
     "data": {
      "text/plain": [
       "[434, 292, 185, 288, 10]"
      ]
     },
     "execution_count": 43,
     "metadata": {},
     "output_type": "execute_result"
    }
   ],
   "source": [
    "def get_similar_ids(w2vmodel,iid,num=5):\n",
    "    \n",
    "    if str(iid) in w2vmodel.wv.vocab:\n",
    "        return [int(iid) for iid,_ in w2vmodel.wv.most_similar(str(iid),topn=num)] \n",
    "    else:\n",
    "        return []\n",
    "\n",
    "get_similar_ids(w2v,last_consumed_item[0],num=5)"
   ]
  },
  {
   "cell_type": "markdown",
   "metadata": {},
   "source": [
    "### Or by vector"
   ]
  },
  {
   "cell_type": "code",
   "execution_count": 44,
   "metadata": {
    "ExecuteTime": {
     "end_time": "2019-12-12T19:53:30.456422Z",
     "start_time": "2019-12-12T19:53:30.451422Z"
    }
   },
   "outputs": [
    {
     "data": {
      "text/plain": [
       "array([-0.15879744, -0.1968787 , -0.4964449 , -0.20751873, -0.11591147,\n",
       "        0.26790187,  0.11316514, -0.40171385, -0.71906036,  0.42266938,\n",
       "       -1.1840134 ,  0.6586017 , -0.3088791 , -0.7672008 , -0.3626116 ,\n",
       "        0.99801654, -0.04326268,  0.21055551, -0.02990182,  0.71645564,\n",
       "        0.78630096, -0.24349737,  0.26163036,  0.36639553,  0.49130577,\n",
       "        0.6310125 , -0.13173641, -0.24645866,  0.34434745, -0.2525088 ,\n",
       "       -0.63957113,  1.4811925 , -0.10742494,  0.32474586,  0.7404366 ,\n",
       "        0.08190894, -0.6280819 ,  0.242497  , -0.34645402, -0.16558035,\n",
       "        0.28646964, -0.06097812, -0.9835013 , -0.58182794,  1.0332116 ,\n",
       "        0.0635846 ,  0.05542131, -0.0544757 ,  0.20894499, -0.09050874],\n",
       "      dtype=float32)"
      ]
     },
     "execution_count": 44,
     "metadata": {},
     "output_type": "execute_result"
    }
   ],
   "source": [
    "w2v.wv[str(last_consumed_item[0])]"
   ]
  },
  {
   "cell_type": "code",
   "execution_count": 45,
   "metadata": {
    "ExecuteTime": {
     "end_time": "2019-12-12T19:53:33.356870Z",
     "start_time": "2019-12-12T19:53:33.349869Z"
    }
   },
   "outputs": [
    {
     "data": {
      "text/plain": [
       "[208, 434, 292, 185, 288]"
      ]
     },
     "execution_count": 45,
     "metadata": {},
     "output_type": "execute_result"
    }
   ],
   "source": [
    "def get_similar_vectors(w2vmodel,vec,num=5):\n",
    "        return [int(iid) for iid,_ in w2vmodel.wv.most_similar(positive=[vec],topn=num)] \n",
    "\n",
    "get_similar_vectors(w2v,w2v.wv[str(last_consumed_item[0])],num=5) # items are strings"
   ]
  },
  {
   "cell_type": "markdown",
   "metadata": {},
   "source": [
    "### Let's see if this works\n",
    "\n",
    "We can query by id"
   ]
  },
  {
   "cell_type": "code",
   "execution_count": 46,
   "metadata": {
    "ExecuteTime": {
     "end_time": "2019-12-12T19:53:37.764280Z",
     "start_time": "2019-12-12T19:53:37.757280Z"
    }
   },
   "outputs": [
    {
     "name": "stdout",
     "output_type": "stream",
     "text": [
      "Movies similar to:  Toy Story (1995)\n",
      "\n",
      "-->  Aladdin (1992)\n",
      "-->  Lion King, The (1994)\n",
      "-->  Forrest Gump (1994)\n"
     ]
    }
   ],
   "source": [
    "ID = 1\n",
    "NUM_SIM = 3\n",
    "\n",
    "print(\"Movies similar to: \", id2title[ID])\n",
    "print(\"\")\n",
    "for x in get_similar_ids(w2v,ID,NUM_SIM):\n",
    "    print(\"--> \",id2title[x])"
   ]
  },
  {
   "cell_type": "markdown",
   "metadata": {},
   "source": [
    "We can also query by vector\n",
    "\n",
    "**NOTE:** the 1st results can be the item(s) you've used to query"
   ]
  },
  {
   "cell_type": "code",
   "execution_count": 47,
   "metadata": {
    "ExecuteTime": {
     "end_time": "2019-12-12T19:53:46.785835Z",
     "start_time": "2019-12-12T19:53:46.779888Z"
    }
   },
   "outputs": [
    {
     "name": "stdout",
     "output_type": "stream",
     "text": [
      "Movies similar to:  Toy Story (1995)\n",
      "\n",
      "-->  Toy Story (1995)\n",
      "-->  Aladdin (1992)\n",
      "-->  Lion King, The (1994)\n",
      "-->  Forrest Gump (1994)\n"
     ]
    }
   ],
   "source": [
    "ID = 1\n",
    "NUM_SIM = 4\n",
    "print(\"Movies similar to: \", id2title[ID])\n",
    "print(\"\")\n",
    "for x in get_similar_vectors(w2v,w2v.wv[str(ID)],NUM_SIM):\n",
    "    print(\"--> \",id2title[x])"
   ]
  },
  {
   "cell_type": "markdown",
   "metadata": {},
   "source": [
    "Our result was the following (for ID = 1 & NUM_SIM = 3)\n",
    "\n",
    ">Movies similar to:  Toy Story (1995)\n",
    ">-  Beauty and the Beast (1991)\n",
    "-   Toy Story 2 (1999)\n",
    "-   Lion King, The (1994)\n"
   ]
  },
  {
   "cell_type": "markdown",
   "metadata": {},
   "source": [
    "Using vectors enables operations like additions to be made"
   ]
  },
  {
   "cell_type": "code",
   "execution_count": 49,
   "metadata": {
    "ExecuteTime": {
     "end_time": "2019-12-12T19:57:06.497930Z",
     "start_time": "2019-12-12T19:57:06.488960Z"
    }
   },
   "outputs": [
    {
     "name": "stdout",
     "output_type": "stream",
     "text": [
      "Movies similar to:  Matrix, The (1999) + Terminator 2: Judgment Day (1991)\n",
      "\n",
      "-->  Matrix, The (1999)\n",
      "-->  Shawshank Redemption, The (1994)\n",
      "-->  Silence of the Lambs, The (1991)\n",
      "-->  Forrest Gump (1994)\n",
      "-->  Braveheart (1995)\n",
      "-->  Terminator 2: Judgment Day (1991)\n",
      "-->  Pulp Fiction (1994)\n",
      "-->  Saving Private Ryan (1998)\n",
      "-->  Seven (a.k.a. Se7en) (1995)\n",
      "-->  Venom (1982)\n"
     ]
    }
   ],
   "source": [
    "ID1 = 2571\n",
    "ID2 = 589\n",
    "NUM_SIM = 10\n",
    "\n",
    "vec = np.max([w2v.wv[str(ID1)],w2v.wv[str(ID2)]],axis=0) + w2v.wv[str(318)]\n",
    "\n",
    "print(\"Movies similar to: \", id2title[ID1] , \"+\",  id2title[ID2] )\n",
    "print(\"\")\n",
    "for x in get_similar_vectors(w2v,vec ,NUM_SIM):\n",
    "    print(\"--> \",id2title[x])"
   ]
  },
  {
   "cell_type": "markdown",
   "metadata": {},
   "source": [
    "Ok, we now have a good base for our sequence recommendation algorithm, let's write something to evaluate our predictions"
   ]
  },
  {
   "cell_type": "markdown",
   "metadata": {},
   "source": [
    "## (Todo) write a `get_relevance_list(proposed_ids,real_ids)` function:\n",
    "\n",
    "This function will be used to compare proposed items w/ real items:\n",
    "\n",
    "\n",
    "- A relevant item is an item which is in the ground truth\n",
    "- It returns a list which length is the number of proposed items filled of 0's and 1's : 0 means the item is not relevant, 1 means it's relevant.\n",
    "\n",
    "- get_relevance_list([1,2,3,4],[1,4,5,6]) should returns [1,0,0,1]  because items 1 and 4 are relevant.\n"
   ]
  },
  {
   "cell_type": "code",
   "execution_count": 50,
   "metadata": {
    "ExecuteTime": {
     "end_time": "2019-12-12T19:59:26.824371Z",
     "start_time": "2019-12-12T19:59:26.817391Z"
    }
   },
   "outputs": [
    {
     "data": {
      "text/plain": [
       "[1, 0, 0, 1]"
      ]
     },
     "execution_count": 50,
     "metadata": {},
     "output_type": "execute_result"
    }
   ],
   "source": [
    "def get_relevance_list(proposed_ids,real_ids):\n",
    "    real_ids = set(real_ids)\n",
    "    return [int(i in real_ids) for i in proposed_ids]#To Complete\n",
    "get_relevance_list([1,2,3,4],[1,4,5,6]) #returns [1,0,0,1]"
   ]
  },
  {
   "cell_type": "markdown",
   "metadata": {},
   "source": [
    "### Let's test our function on our data"
   ]
  },
  {
   "cell_type": "code",
   "execution_count": 51,
   "metadata": {
    "ExecuteTime": {
     "end_time": "2019-12-12T19:59:37.694736Z",
     "start_time": "2019-12-12T19:59:37.688714Z"
    }
   },
   "outputs": [
    {
     "data": {
      "text/plain": [
       "[0, 0, 0, 0, 0, 0, 0, 0, 0, 0, 0, 0, 0, 0, 0, 0, 0, 0, 0, 0, 0, 0, 0, 0, 0]"
      ]
     },
     "execution_count": 51,
     "metadata": {},
     "output_type": "execute_result"
    }
   ],
   "source": [
    "get_relevance_list(most_popular[:25],test_seq[1])"
   ]
  },
  {
   "cell_type": "code",
   "execution_count": 53,
   "metadata": {
    "ExecuteTime": {
     "end_time": "2019-12-12T20:00:13.139289Z",
     "start_time": "2019-12-12T20:00:13.132289Z"
    }
   },
   "outputs": [
    {
     "data": {
      "text/plain": [
       "[0, 0, 0, 0, 0, 0, 0, 0, 0, 0, 0, 0, 0, 0, 0, 0, 0, 0, 0, 0, 0, 0, 1, 0, 0]"
      ]
     },
     "execution_count": 53,
     "metadata": {},
     "output_type": "execute_result"
    }
   ],
   "source": [
    "get_relevance_list(get_similar_ids(w2v,last_consumed_item[0],25),test_seq[1])"
   ]
  },
  {
   "cell_type": "markdown",
   "metadata": {},
   "source": [
    "## Ok, now, let's write prediction funtions:\n",
    "\n",
    "- `predict_pop` will recommend the k's most popular items\n",
    "- `predict_w2v` will recommend the k's most similar items to the last one consumed\n",
    "\n",
    "#### (TODO) : complete those functions"
   ]
  },
  {
   "cell_type": "code",
   "execution_count": 54,
   "metadata": {
    "ExecuteTime": {
     "end_time": "2019-12-12T20:03:01.978260Z",
     "start_time": "2019-12-12T20:03:01.972262Z"
    }
   },
   "outputs": [],
   "source": [
    "def predict_pop(last_seen,k):\n",
    "    return most_popular[:k]#To Complete\n",
    "\n",
    "def predict_w2v(last_seen,k):\n",
    "    return get_similar_ids(w2v,last_seen,k)#To Complete\n",
    "\n",
    "#data is list of last_consumed:\n",
    "def get_predictions(predict_func,data,truth,k=5):\n",
    "    if k == -1 or k == 0:\n",
    "        k = num_items\n",
    "    return [get_relevance_list(predict_func(last_seen,k),will_see) for last_seen,will_see in zip(data,truth)]"
   ]
  },
  {
   "cell_type": "markdown",
   "metadata": {},
   "source": [
    "**Note**: The `get_predictions(...)` function returns the relevant list associated to predictions"
   ]
  },
  {
   "cell_type": "markdown",
   "metadata": {},
   "source": [
    "### The following cells should return list of lists"
   ]
  },
  {
   "cell_type": "code",
   "execution_count": 55,
   "metadata": {
    "ExecuteTime": {
     "end_time": "2019-12-12T20:03:05.822883Z",
     "start_time": "2019-12-12T20:03:05.814882Z"
    }
   },
   "outputs": [
    {
     "name": "stdout",
     "output_type": "stream",
     "text": [
      "[[0, 0, 0], [0, 0, 0], [0, 0, 1], [0, 0, 0], [0, 0, 0]]\n",
      "[[0, 0, 0], [0, 0, 0], [0, 0, 0], [0, 0, 0], [0, 0, 0]]\n"
     ]
    }
   ],
   "source": [
    "print(get_predictions(predict_pop,last_consumed_item[:5],test_seq[:5],3))\n",
    "print(get_predictions(predict_w2v,last_consumed_item[:5],test_seq[:5],3))"
   ]
  },
  {
   "cell_type": "markdown",
   "metadata": {},
   "source": [
    "expected output: \n",
    "```\n",
    "[[0, 0, 0], [0, 0, 0], [0, 0, 0], [0, 0, 0], [0, 0, 0]]\n",
    "[[0, 0, 0], [0, 0, 0], [0, 0, 0], [0, 0, 0], [0, 0, 0]]\n",
    "\n",
    "```"
   ]
  },
  {
   "cell_type": "markdown",
   "metadata": {},
   "source": [
    "## The return of the MRR and nDCG functions"
   ]
  },
  {
   "cell_type": "code",
   "execution_count": 56,
   "metadata": {
    "ExecuteTime": {
     "end_time": "2019-12-12T20:03:19.963482Z",
     "start_time": "2019-12-12T20:03:19.947313Z"
    }
   },
   "outputs": [
    {
     "name": "stdout",
     "output_type": "stream",
     "text": [
      "3.0\n",
      "4.2618595071429155\n"
     ]
    }
   ],
   "source": [
    "test_list = [[0,0,1],[0,1,0],[1,0,0],[0,0,0]]\n",
    "\n",
    "def rr(list_items):\n",
    "    relevant_indexes = np.asarray(list_items).nonzero()[0]\n",
    "    \n",
    "    if len(relevant_indexes) > 0:\n",
    "        return 1/(relevant_indexes[0]+1) # arrays are indexed from 0\n",
    "    else:\n",
    "        return 0\n",
    "\n",
    "def mrr(list_list_items):\n",
    "    return np.mean([rr(list_item) for list_item in list_list_items])\n",
    "\n",
    "mrr(test_list) #0.4583333333333333\n",
    "\n",
    "# The dcg@k is the sum of the relevance, penalized gradually\n",
    "def dcg_at_k(r, k):\n",
    "    \"\"\"Score is discounted cumulative gain (dcg)\n",
    "        r: Relevance scores (list or numpy) in rank order\n",
    "            (first element is the first item)\n",
    "        k: Number of results to consider\n",
    "        \n",
    "    \"\"\"\n",
    "    r = np.asfarray(r)[:k]\n",
    "    if r.size:\n",
    "        return np.sum(r / np.log2(np.arange(2, r.size + 2)))\n",
    "        \n",
    "    return 0.\n",
    "\n",
    "# test values\n",
    "# r = [3, 2, 3, 0, 0, 1, 2, 2, 3, 0]\n",
    "# dcg_at_k(r, 1) => 3.0\n",
    "# dcg_at_k(r, 2) => 4.2618595071429155\n",
    "r = [3, 2, 3, 0, 0, 1, 2, 2, 3, 0]\n",
    "print(dcg_at_k(r, 1))\n",
    "print(dcg_at_k(r, 2))\n",
    "\n",
    "def mean_dcg(rel_lists,k):\n",
    "    return np.mean([dcg_at_k(rel_list,k) for rel_list in rel_lists])\n",
    "\n",
    "# And it's normalized version\n",
    "def ndcg_at_k(r, k):\n",
    "    \"\"\"\n",
    "        r: Relevance scores (list or numpy) in rank order\n",
    "            (first element is the first item)\n",
    "        k: Number of results to consider\n",
    "    \"\"\"\n",
    "    dcg_max =  dcg_at_k(sorted(r)[::-1],k) \n",
    "    if not dcg_max:\n",
    "        return 0.\n",
    "    return dcg_at_k(r, k) / dcg_max\n",
    "\n",
    "# test values\n",
    "# r = [3, 2, 3, 0, 0, 1, 2, 2, 3, 0]\n",
    "# ndcg_at_k(r, 1) => 1.0\n",
    "# ndcg_at_k(r, 4) => 0.794285\n",
    "    \n",
    "r = [3, 2, 3, 0, 0, 1, 2, 2, 3, 0]    \n",
    "ndcg_at_k(r, 4)\n",
    "\n",
    "def mean_ndcg(rel_lists,k):\n",
    "    return np.mean([ndcg_at_k(rel_list,k) for rel_list in rel_lists])"
   ]
  },
  {
   "cell_type": "markdown",
   "metadata": {},
   "source": [
    "## Let's see how this naïve way of predicting items to show works"
   ]
  },
  {
   "cell_type": "code",
   "execution_count": 57,
   "metadata": {
    "ExecuteTime": {
     "end_time": "2019-12-12T20:03:57.873228Z",
     "start_time": "2019-12-12T20:03:45.544262Z"
    }
   },
   "outputs": [
    {
     "name": "stdout",
     "output_type": "stream",
     "text": [
      "1/MRR\n",
      "17.982033071841226\n",
      "12.014679133773054\n",
      "\n",
      "DCG\n",
      "0.0508400653364954\n",
      "0.08428148589059585\n",
      "\n",
      "nDCG\n",
      "0.017242926995649836\n",
      "0.028889804183553736\n"
     ]
    }
   ],
   "source": [
    "pop_preds = get_predictions(predict_pop,last_consumed_item,test_seq,-1)\n",
    "w2v_preds = get_predictions(predict_w2v,last_consumed_item,test_seq,-1)\n",
    "\n",
    "print(\"1/MRR\")\n",
    "print(1/mrr(pop_preds))\n",
    "print(1/mrr(w2v_preds))\n",
    "print(\"\")\n",
    "print(\"DCG\")\n",
    "print(mean_dcg(pop_preds,5))\n",
    "print(mean_dcg(w2v_preds,5))\n",
    "print(\"\")\n",
    "print(\"nDCG\")\n",
    "print(mean_ndcg(pop_preds,5))\n",
    "print(mean_ndcg(w2v_preds,5))"
   ]
  },
  {
   "cell_type": "markdown",
   "metadata": {},
   "source": [
    "### (TODO) Can we do better ?\n",
    "\n",
    "Now, try a different strategy: \n",
    "\n",
    "\n",
    "- History should be discarded from prediction\n",
    "- Instead of basing the prediction on the last seen item, we'll take all the `seen[-n:]` ones (horizon) into account\n",
    "- To aggregate all items, we'll simply take the min rank to take into account the history offset.\n",
    "- Equal scores can be handled using the history offset.\n",
    "Example: \n",
    "\n",
    "> Let's say you chose to use the two last seen items `[item 44, Item 398]` to predict the following items\n",
    "\n",
    "Therefore, using `get_similar_ids` method on both items will yield two lists of **similar** ranked item id's:\n",
    " - Similar to item 44: `[item 1, item 33, item 5]`\n",
    " - Similar to item 398: `[item 25, item 1, item 5]`\n",
    " scores (rank,offset):\n",
    " ```\n",
    " scores := {item 1: (0,0), item 33: (1,0), item 5: (2,0) , item 25: (0,1)}```\n",
    " \n",
    " \n",
    "Then, aggregation by best rank should yield: `[1,25,33,5]`\n"
   ]
  },
  {
   "cell_type": "code",
   "execution_count": 132,
   "metadata": {
    "ExecuteTime": {
     "end_time": "2019-12-12T21:13:03.159344Z",
     "start_time": "2019-12-12T21:12:43.855175Z"
    }
   },
   "outputs": [
    {
     "name": "stdout",
     "output_type": "stream",
     "text": [
      "11.968677419575714\n",
      "0.08507408054886846\n",
      "0.029017348808499228\n"
     ]
    }
   ],
   "source": [
    "def predict_max_w2v(seen,k,horizon=2):\n",
    "    \n",
    "    # To complete\n",
    "    similar_ids = [get_similar_ids(w2v,movie,k) for movie in seen[-horizon:]]\n",
    "    similar_list = pd.unique(np.array(similar_ids).reshape((-1,),order='F'))\n",
    "    return similar_list# a list\n",
    "\n",
    "\n",
    "w2v_max_preds = get_predictions(predict_max_w2v,train_seq,test_seq,-1)\n",
    "\n",
    "print(1/mrr(w2v_max_preds))\n",
    "print(mean_dcg(w2v_max_preds,5))\n",
    "print(mean_ndcg(w2v_max_preds,5))"
   ]
  },
  {
   "cell_type": "markdown",
   "metadata": {},
   "source": [
    "#### => Not really better"
   ]
  },
  {
   "cell_type": "markdown",
   "metadata": {},
   "source": [
    "## Let's visualize learned embeddings\n",
    "\n",
    "Just like in the 1st practical, we propose to visualize learnt items embeddings with the [Tensorflow projector](https://projector.tensorflow.org/)."
   ]
  },
  {
   "cell_type": "code",
   "execution_count": 105,
   "metadata": {
    "ExecuteTime": {
     "end_time": "2019-12-12T20:30:26.258443Z",
     "start_time": "2019-12-12T20:30:26.251441Z"
    }
   },
   "outputs": [],
   "source": [
    "# This function saves embeddings (a numpy array) and associated labels into tsv files.\n",
    "\n",
    "def save_embeddings(embs,dict_label,path=\"saved_word_vectors\"):\n",
    "    \"\"\"\n",
    "    embs is Numpy.array(N,size)\n",
    "    dict_label is {str(word)->int(idx)} or {int(idx)->str(word)}\n",
    "    \"\"\"\n",
    "    def int_first(k,v):\n",
    "        if type(k) == int:\n",
    "            return (k,v)\n",
    "        else:\n",
    "            return (v,k)\n",
    "\n",
    "    np.savetxt(f\"{path}_vectors.tsv\", embs, delimiter=\"\\t\")\n",
    "\n",
    "    #labels \n",
    "    if dict_label:\n",
    "        sorted_labs = np.array([lab for idx,lab in sorted([int_first(k,v) for k,v in dict_label.items()])])\n",
    "        print(sorted_labs)\n",
    "        with open(f\"{path}_metadata.tsv\",\"w\",encoding='utf-8') as metadata_file:\n",
    "            for x in sorted_labs: #hack for space\n",
    "                if len(x.strip()) == 0:\n",
    "                    x = f\"space-{len(x)}\"\n",
    "                    \n",
    "                metadata_file.write(f\"{x}\\n\")"
   ]
  },
  {
   "cell_type": "code",
   "execution_count": 106,
   "metadata": {
    "ExecuteTime": {
     "end_time": "2019-12-12T20:30:28.194223Z",
     "start_time": "2019-12-12T20:30:28.185222Z"
    }
   },
   "outputs": [],
   "source": [
    "vec2title = {i:id2title[int(mid)] for i,mid in enumerate(w2v.wv.index2word)}"
   ]
  },
  {
   "cell_type": "code",
   "execution_count": 107,
   "metadata": {
    "ExecuteTime": {
     "end_time": "2019-12-12T20:30:30.550833Z",
     "start_time": "2019-12-12T20:30:29.937015Z"
    }
   },
   "outputs": [
    {
     "name": "stdout",
     "output_type": "stream",
     "text": [
      "['Forrest Gump (1994)' 'Shawshank Redemption, The (1994)'\n",
      " 'Pulp Fiction (1994)' ... 'Flint (2017)' 'Ferdinand (2017)'\n",
      " 'Andrew Dice Clay: Dice Rules (1991)']\n"
     ]
    }
   ],
   "source": [
    "save_embeddings(w2v.wv.vectors,vec2title)"
   ]
  },
  {
   "cell_type": "markdown",
   "metadata": {},
   "source": [
    "## How to:\n",
    "\n",
    "- Now, [open this link](https://projector.tensorflow.org/), and select \"load\".\n",
    "- look for saved_word_vectors_vectors.tsv and saved_word_vectors_metadata.tsv. \n",
    "\n",
    "=> These are respectively, the items latent representations and their labels"
   ]
  },
  {
   "cell_type": "markdown",
   "metadata": {},
   "source": [
    "## Hyperparameters matter when using Word2Vec for Item recommendation:\n",
    "\n",
    "\n",
    "> Skip-gram with negative sampling, a popular variant of Word2vec originally designed and tuned to create word embeddings for Natural Language Processing, has been used to create item embeddings with successful applications in recommendation. While these fields do not share the same type of data, neither evaluate on the same tasks, recommendation applications tend to use the same already tuned hyperparameters values, even if optimal hyperparameters values are often known to be data and task dependent. We thus investigate the marginal importance of each hyperparameter in a recommendation setting through large hyperparameter grid searches on various datasets. Results reveal that optimizing neglected hyperparameters, namely negative sampling distribution, number of epochs, subsampling parameter and window-size, significantly improves performance on a recommendation task, and can increase it by an order of magnitude. Importantly, we find that optimal hyperparameters configurations for Natural Language Processing tasks and Recommendation tasks are noticeably different. \n",
    "\n",
    "[Hyperparameters matter](https://arxiv.org/abs/1804.04212)\n",
    "\n",
    "#### It turns out that  hyperparameters are really important for this task: especially the sampling parameter.  Try and learn multiple models to see how the ns_exponent parameter modifies the results:\n"
   ]
  },
  {
   "cell_type": "code",
   "execution_count": 108,
   "metadata": {
    "ExecuteTime": {
     "end_time": "2019-12-12T20:30:50.226401Z",
     "start_time": "2019-12-12T20:30:42.730159Z"
    },
    "collapsed": true
   },
   "outputs": [
    {
     "name": "stderr",
     "output_type": "stream",
     "text": [
      "2019-12-12 15:30:42,732 : WARNING : consider setting layer size to a multiple of 4 for greater performance\n",
      "2019-12-12 15:30:42,734 : INFO : collecting all words and their counts\n",
      "2019-12-12 15:30:42,736 : INFO : PROGRESS: at sentence #0, processed 0 words, keeping 0 word types\n",
      "2019-12-12 15:30:42,750 : INFO : collected 9617 word types from a corpus of 97786 raw words and 610 sentences\n",
      "2019-12-12 15:30:42,752 : INFO : Loading a fresh vocabulary\n",
      "2019-12-12 15:30:42,767 : INFO : effective_min_count=0 retains 9617 unique words (100% of original 9617, drops 0)\n",
      "2019-12-12 15:30:42,768 : INFO : effective_min_count=0 leaves 97786 word corpus (100% of original 97786, drops 0)\n",
      "2019-12-12 15:30:42,794 : INFO : deleting the raw counts dictionary of 9617 items\n",
      "2019-12-12 15:30:42,795 : INFO : sample=0.001 downsamples 5 most-common words\n",
      "2019-12-12 15:30:42,796 : INFO : downsampling leaves estimated 97657 word corpus (99.9% of prior 97786)\n",
      "2019-12-12 15:30:42,816 : INFO : estimated required memory for 9617 words and 50 dimensions: 8655300 bytes\n",
      "2019-12-12 15:30:42,817 : INFO : resetting layer weights\n",
      "2019-12-12 15:30:44,644 : INFO : training model with 10 workers on 9617 vocabulary and 50 features, using sg=1 hs=0 sample=0.001 negative=15 window=3\n",
      "2019-12-12 15:30:44,817 : INFO : worker thread finished; awaiting finish of 9 more threads\n",
      "2019-12-12 15:30:44,823 : INFO : worker thread finished; awaiting finish of 8 more threads\n",
      "2019-12-12 15:30:44,838 : INFO : worker thread finished; awaiting finish of 7 more threads\n",
      "2019-12-12 15:30:44,849 : INFO : worker thread finished; awaiting finish of 6 more threads\n",
      "2019-12-12 15:30:44,850 : INFO : worker thread finished; awaiting finish of 5 more threads\n",
      "2019-12-12 15:30:44,855 : INFO : worker thread finished; awaiting finish of 4 more threads\n",
      "2019-12-12 15:30:44,864 : INFO : worker thread finished; awaiting finish of 3 more threads\n",
      "2019-12-12 15:30:44,872 : INFO : worker thread finished; awaiting finish of 2 more threads\n",
      "2019-12-12 15:30:44,874 : INFO : worker thread finished; awaiting finish of 1 more threads\n",
      "2019-12-12 15:30:44,877 : INFO : worker thread finished; awaiting finish of 0 more threads\n",
      "2019-12-12 15:30:44,878 : INFO : EPOCH - 1 : training on 97786 raw words (97647 effective words) took 0.2s, 428847 effective words/s\n",
      "2019-12-12 15:30:45,038 : INFO : worker thread finished; awaiting finish of 9 more threads\n",
      "2019-12-12 15:30:45,040 : INFO : worker thread finished; awaiting finish of 8 more threads\n",
      "2019-12-12 15:30:45,046 : INFO : worker thread finished; awaiting finish of 7 more threads\n",
      "2019-12-12 15:30:45,070 : INFO : worker thread finished; awaiting finish of 6 more threads\n",
      "2019-12-12 15:30:45,095 : INFO : worker thread finished; awaiting finish of 5 more threads\n",
      "2019-12-12 15:30:45,097 : INFO : worker thread finished; awaiting finish of 4 more threads\n",
      "2019-12-12 15:30:45,103 : INFO : worker thread finished; awaiting finish of 3 more threads\n",
      "2019-12-12 15:30:45,109 : INFO : worker thread finished; awaiting finish of 2 more threads\n",
      "2019-12-12 15:30:45,110 : INFO : worker thread finished; awaiting finish of 1 more threads\n",
      "2019-12-12 15:30:45,112 : INFO : worker thread finished; awaiting finish of 0 more threads\n",
      "2019-12-12 15:30:45,113 : INFO : EPOCH - 2 : training on 97786 raw words (97682 effective words) took 0.2s, 431920 effective words/s\n",
      "2019-12-12 15:30:45,265 : INFO : worker thread finished; awaiting finish of 9 more threads\n",
      "2019-12-12 15:30:45,282 : INFO : worker thread finished; awaiting finish of 8 more threads\n",
      "2019-12-12 15:30:45,299 : INFO : worker thread finished; awaiting finish of 7 more threads\n",
      "2019-12-12 15:30:45,306 : INFO : worker thread finished; awaiting finish of 6 more threads\n",
      "2019-12-12 15:30:45,312 : INFO : worker thread finished; awaiting finish of 5 more threads\n",
      "2019-12-12 15:30:45,313 : INFO : worker thread finished; awaiting finish of 4 more threads\n",
      "2019-12-12 15:30:45,317 : INFO : worker thread finished; awaiting finish of 3 more threads\n",
      "2019-12-12 15:30:45,326 : INFO : worker thread finished; awaiting finish of 2 more threads\n",
      "2019-12-12 15:30:45,327 : INFO : worker thread finished; awaiting finish of 1 more threads\n",
      "2019-12-12 15:30:45,332 : INFO : worker thread finished; awaiting finish of 0 more threads\n",
      "2019-12-12 15:30:45,333 : INFO : EPOCH - 3 : training on 97786 raw words (97658 effective words) took 0.2s, 454802 effective words/s\n",
      "2019-12-12 15:30:45,481 : INFO : worker thread finished; awaiting finish of 9 more threads\n",
      "2019-12-12 15:30:45,491 : INFO : worker thread finished; awaiting finish of 8 more threads\n",
      "2019-12-12 15:30:45,503 : INFO : worker thread finished; awaiting finish of 7 more threads\n",
      "2019-12-12 15:30:45,527 : INFO : worker thread finished; awaiting finish of 6 more threads\n",
      "2019-12-12 15:30:45,531 : INFO : worker thread finished; awaiting finish of 5 more threads\n",
      "2019-12-12 15:30:45,532 : INFO : worker thread finished; awaiting finish of 4 more threads\n",
      "2019-12-12 15:30:45,537 : INFO : worker thread finished; awaiting finish of 3 more threads\n",
      "2019-12-12 15:30:45,542 : INFO : worker thread finished; awaiting finish of 2 more threads\n",
      "2019-12-12 15:30:45,547 : INFO : worker thread finished; awaiting finish of 1 more threads\n",
      "2019-12-12 15:30:45,548 : INFO : worker thread finished; awaiting finish of 0 more threads\n",
      "2019-12-12 15:30:45,549 : INFO : EPOCH - 4 : training on 97786 raw words (97640 effective words) took 0.2s, 464206 effective words/s\n",
      "2019-12-12 15:30:45,707 : INFO : worker thread finished; awaiting finish of 9 more threads\n",
      "2019-12-12 15:30:45,711 : INFO : worker thread finished; awaiting finish of 8 more threads\n",
      "2019-12-12 15:30:45,723 : INFO : worker thread finished; awaiting finish of 7 more threads\n",
      "2019-12-12 15:30:45,724 : INFO : worker thread finished; awaiting finish of 6 more threads\n",
      "2019-12-12 15:30:45,738 : INFO : worker thread finished; awaiting finish of 5 more threads\n",
      "2019-12-12 15:30:45,740 : INFO : worker thread finished; awaiting finish of 4 more threads\n",
      "2019-12-12 15:30:45,749 : INFO : worker thread finished; awaiting finish of 3 more threads\n",
      "2019-12-12 15:30:45,751 : INFO : worker thread finished; awaiting finish of 2 more threads\n",
      "2019-12-12 15:30:45,764 : INFO : worker thread finished; awaiting finish of 1 more threads\n",
      "2019-12-12 15:30:45,770 : INFO : worker thread finished; awaiting finish of 0 more threads\n",
      "2019-12-12 15:30:45,771 : INFO : EPOCH - 5 : training on 97786 raw words (97642 effective words) took 0.2s, 450998 effective words/s\n",
      "2019-12-12 15:30:45,945 : INFO : worker thread finished; awaiting finish of 9 more threads\n",
      "2019-12-12 15:30:45,952 : INFO : worker thread finished; awaiting finish of 8 more threads\n",
      "2019-12-12 15:30:45,955 : INFO : worker thread finished; awaiting finish of 7 more threads\n",
      "2019-12-12 15:30:45,958 : INFO : worker thread finished; awaiting finish of 6 more threads\n",
      "2019-12-12 15:30:45,961 : INFO : worker thread finished; awaiting finish of 5 more threads\n",
      "2019-12-12 15:30:45,973 : INFO : worker thread finished; awaiting finish of 4 more threads\n",
      "2019-12-12 15:30:45,974 : INFO : worker thread finished; awaiting finish of 3 more threads\n",
      "2019-12-12 15:30:45,976 : INFO : worker thread finished; awaiting finish of 2 more threads\n",
      "2019-12-12 15:30:45,990 : INFO : worker thread finished; awaiting finish of 1 more threads\n",
      "2019-12-12 15:30:45,993 : INFO : worker thread finished; awaiting finish of 0 more threads\n",
      "2019-12-12 15:30:45,994 : INFO : EPOCH - 6 : training on 97786 raw words (97646 effective words) took 0.2s, 450060 effective words/s\n",
      "2019-12-12 15:30:46,163 : INFO : worker thread finished; awaiting finish of 9 more threads\n",
      "2019-12-12 15:30:46,164 : INFO : worker thread finished; awaiting finish of 8 more threads\n",
      "2019-12-12 15:30:46,179 : INFO : worker thread finished; awaiting finish of 7 more threads\n",
      "2019-12-12 15:30:46,186 : INFO : worker thread finished; awaiting finish of 6 more threads\n",
      "2019-12-12 15:30:46,194 : INFO : worker thread finished; awaiting finish of 5 more threads\n",
      "2019-12-12 15:30:46,200 : INFO : worker thread finished; awaiting finish of 4 more threads\n",
      "2019-12-12 15:30:46,203 : INFO : worker thread finished; awaiting finish of 3 more threads\n",
      "2019-12-12 15:30:46,208 : INFO : worker thread finished; awaiting finish of 2 more threads\n"
     ]
    },
    {
     "name": "stderr",
     "output_type": "stream",
     "text": [
      "2019-12-12 15:30:46,217 : INFO : worker thread finished; awaiting finish of 1 more threads\n",
      "2019-12-12 15:30:46,229 : INFO : worker thread finished; awaiting finish of 0 more threads\n",
      "2019-12-12 15:30:46,230 : INFO : EPOCH - 7 : training on 97786 raw words (97634 effective words) took 0.2s, 423602 effective words/s\n",
      "2019-12-12 15:30:46,396 : INFO : worker thread finished; awaiting finish of 9 more threads\n",
      "2019-12-12 15:30:46,398 : INFO : worker thread finished; awaiting finish of 8 more threads\n",
      "2019-12-12 15:30:46,402 : INFO : worker thread finished; awaiting finish of 7 more threads\n",
      "2019-12-12 15:30:46,420 : INFO : worker thread finished; awaiting finish of 6 more threads\n",
      "2019-12-12 15:30:46,424 : INFO : worker thread finished; awaiting finish of 5 more threads\n",
      "2019-12-12 15:30:46,427 : INFO : worker thread finished; awaiting finish of 4 more threads\n",
      "2019-12-12 15:30:46,429 : INFO : worker thread finished; awaiting finish of 3 more threads\n",
      "2019-12-12 15:30:46,431 : INFO : worker thread finished; awaiting finish of 2 more threads\n",
      "2019-12-12 15:30:46,449 : INFO : worker thread finished; awaiting finish of 1 more threads\n",
      "2019-12-12 15:30:46,450 : INFO : worker thread finished; awaiting finish of 0 more threads\n",
      "2019-12-12 15:30:46,451 : INFO : EPOCH - 8 : training on 97786 raw words (97665 effective words) took 0.2s, 451898 effective words/s\n",
      "2019-12-12 15:30:46,605 : INFO : worker thread finished; awaiting finish of 9 more threads\n",
      "2019-12-12 15:30:46,631 : INFO : worker thread finished; awaiting finish of 8 more threads\n",
      "2019-12-12 15:30:46,633 : INFO : worker thread finished; awaiting finish of 7 more threads\n",
      "2019-12-12 15:30:46,638 : INFO : worker thread finished; awaiting finish of 6 more threads\n",
      "2019-12-12 15:30:46,640 : INFO : worker thread finished; awaiting finish of 5 more threads\n",
      "2019-12-12 15:30:46,642 : INFO : worker thread finished; awaiting finish of 4 more threads\n",
      "2019-12-12 15:30:46,645 : INFO : worker thread finished; awaiting finish of 3 more threads\n",
      "2019-12-12 15:30:46,653 : INFO : worker thread finished; awaiting finish of 2 more threads\n",
      "2019-12-12 15:30:46,664 : INFO : worker thread finished; awaiting finish of 1 more threads\n",
      "2019-12-12 15:30:46,674 : INFO : worker thread finished; awaiting finish of 0 more threads\n",
      "2019-12-12 15:30:46,675 : INFO : EPOCH - 9 : training on 97786 raw words (97670 effective words) took 0.2s, 448570 effective words/s\n",
      "2019-12-12 15:30:46,821 : INFO : worker thread finished; awaiting finish of 9 more threads\n",
      "2019-12-12 15:30:46,835 : INFO : worker thread finished; awaiting finish of 8 more threads\n",
      "2019-12-12 15:30:46,847 : INFO : worker thread finished; awaiting finish of 7 more threads\n",
      "2019-12-12 15:30:46,855 : INFO : worker thread finished; awaiting finish of 6 more threads\n",
      "2019-12-12 15:30:46,870 : INFO : worker thread finished; awaiting finish of 5 more threads\n",
      "2019-12-12 15:30:46,872 : INFO : worker thread finished; awaiting finish of 4 more threads\n",
      "2019-12-12 15:30:46,873 : INFO : worker thread finished; awaiting finish of 3 more threads\n",
      "2019-12-12 15:30:46,874 : INFO : worker thread finished; awaiting finish of 2 more threads\n",
      "2019-12-12 15:30:46,874 : INFO : worker thread finished; awaiting finish of 1 more threads\n",
      "2019-12-12 15:30:46,889 : INFO : worker thread finished; awaiting finish of 0 more threads\n",
      "2019-12-12 15:30:46,890 : INFO : EPOCH - 10 : training on 97786 raw words (97657 effective words) took 0.2s, 465072 effective words/s\n",
      "2019-12-12 15:30:47,047 : INFO : worker thread finished; awaiting finish of 9 more threads\n",
      "2019-12-12 15:30:47,066 : INFO : worker thread finished; awaiting finish of 8 more threads\n",
      "2019-12-12 15:30:47,067 : INFO : worker thread finished; awaiting finish of 7 more threads\n",
      "2019-12-12 15:30:47,069 : INFO : worker thread finished; awaiting finish of 6 more threads\n",
      "2019-12-12 15:30:47,079 : INFO : worker thread finished; awaiting finish of 5 more threads\n",
      "2019-12-12 15:30:47,083 : INFO : worker thread finished; awaiting finish of 4 more threads\n",
      "2019-12-12 15:30:47,085 : INFO : worker thread finished; awaiting finish of 3 more threads\n",
      "2019-12-12 15:30:47,087 : INFO : worker thread finished; awaiting finish of 2 more threads\n",
      "2019-12-12 15:30:47,107 : INFO : worker thread finished; awaiting finish of 1 more threads\n",
      "2019-12-12 15:30:47,112 : INFO : worker thread finished; awaiting finish of 0 more threads\n",
      "2019-12-12 15:30:47,113 : INFO : EPOCH - 11 : training on 97786 raw words (97657 effective words) took 0.2s, 448625 effective words/s\n",
      "2019-12-12 15:30:47,254 : INFO : worker thread finished; awaiting finish of 9 more threads\n",
      "2019-12-12 15:30:47,284 : INFO : worker thread finished; awaiting finish of 8 more threads\n",
      "2019-12-12 15:30:47,304 : INFO : worker thread finished; awaiting finish of 7 more threads\n",
      "2019-12-12 15:30:47,315 : INFO : worker thread finished; awaiting finish of 6 more threads\n",
      "2019-12-12 15:30:47,318 : INFO : worker thread finished; awaiting finish of 5 more threads\n",
      "2019-12-12 15:30:47,320 : INFO : worker thread finished; awaiting finish of 4 more threads\n",
      "2019-12-12 15:30:47,321 : INFO : worker thread finished; awaiting finish of 3 more threads\n",
      "2019-12-12 15:30:47,322 : INFO : worker thread finished; awaiting finish of 2 more threads\n",
      "2019-12-12 15:30:47,333 : INFO : worker thread finished; awaiting finish of 1 more threads\n",
      "2019-12-12 15:30:47,335 : INFO : worker thread finished; awaiting finish of 0 more threads\n",
      "2019-12-12 15:30:47,336 : INFO : EPOCH - 12 : training on 97786 raw words (97661 effective words) took 0.2s, 449351 effective words/s\n",
      "2019-12-12 15:30:47,488 : INFO : worker thread finished; awaiting finish of 9 more threads\n",
      "2019-12-12 15:30:47,500 : INFO : worker thread finished; awaiting finish of 8 more threads\n",
      "2019-12-12 15:30:47,518 : INFO : worker thread finished; awaiting finish of 7 more threads\n",
      "2019-12-12 15:30:47,526 : INFO : worker thread finished; awaiting finish of 6 more threads\n",
      "2019-12-12 15:30:47,528 : INFO : worker thread finished; awaiting finish of 5 more threads\n",
      "2019-12-12 15:30:47,531 : INFO : worker thread finished; awaiting finish of 4 more threads\n",
      "2019-12-12 15:30:47,533 : INFO : worker thread finished; awaiting finish of 3 more threads\n",
      "2019-12-12 15:30:47,538 : INFO : worker thread finished; awaiting finish of 2 more threads\n",
      "2019-12-12 15:30:47,553 : INFO : worker thread finished; awaiting finish of 1 more threads\n",
      "2019-12-12 15:30:47,556 : INFO : worker thread finished; awaiting finish of 0 more threads\n",
      "2019-12-12 15:30:47,557 : INFO : EPOCH - 13 : training on 97786 raw words (97636 effective words) took 0.2s, 452530 effective words/s\n",
      "2019-12-12 15:30:47,729 : INFO : worker thread finished; awaiting finish of 9 more threads\n",
      "2019-12-12 15:30:47,738 : INFO : worker thread finished; awaiting finish of 8 more threads\n",
      "2019-12-12 15:30:47,747 : INFO : worker thread finished; awaiting finish of 7 more threads\n",
      "2019-12-12 15:30:47,749 : INFO : worker thread finished; awaiting finish of 6 more threads\n",
      "2019-12-12 15:30:47,759 : INFO : worker thread finished; awaiting finish of 5 more threads\n",
      "2019-12-12 15:30:47,762 : INFO : worker thread finished; awaiting finish of 4 more threads\n",
      "2019-12-12 15:30:47,763 : INFO : worker thread finished; awaiting finish of 3 more threads\n",
      "2019-12-12 15:30:47,768 : INFO : worker thread finished; awaiting finish of 2 more threads\n",
      "2019-12-12 15:30:47,770 : INFO : worker thread finished; awaiting finish of 1 more threads\n",
      "2019-12-12 15:30:47,776 : INFO : worker thread finished; awaiting finish of 0 more threads\n",
      "2019-12-12 15:30:47,777 : INFO : EPOCH - 14 : training on 97786 raw words (97649 effective words) took 0.2s, 455308 effective words/s\n",
      "2019-12-12 15:30:47,933 : INFO : worker thread finished; awaiting finish of 9 more threads\n",
      "2019-12-12 15:30:47,955 : INFO : worker thread finished; awaiting finish of 8 more threads\n",
      "2019-12-12 15:30:47,958 : INFO : worker thread finished; awaiting finish of 7 more threads\n",
      "2019-12-12 15:30:47,959 : INFO : worker thread finished; awaiting finish of 6 more threads\n",
      "2019-12-12 15:30:47,972 : INFO : worker thread finished; awaiting finish of 5 more threads\n",
      "2019-12-12 15:30:47,973 : INFO : worker thread finished; awaiting finish of 4 more threads\n",
      "2019-12-12 15:30:47,979 : INFO : worker thread finished; awaiting finish of 3 more threads\n"
     ]
    },
    {
     "name": "stderr",
     "output_type": "stream",
     "text": [
      "2019-12-12 15:30:47,988 : INFO : worker thread finished; awaiting finish of 2 more threads\n",
      "2019-12-12 15:30:47,991 : INFO : worker thread finished; awaiting finish of 1 more threads\n",
      "2019-12-12 15:30:48,000 : INFO : worker thread finished; awaiting finish of 0 more threads\n",
      "2019-12-12 15:30:48,002 : INFO : EPOCH - 15 : training on 97786 raw words (97663 effective words) took 0.2s, 446626 effective words/s\n",
      "2019-12-12 15:30:48,169 : INFO : worker thread finished; awaiting finish of 9 more threads\n",
      "2019-12-12 15:30:48,177 : INFO : worker thread finished; awaiting finish of 8 more threads\n",
      "2019-12-12 15:30:48,181 : INFO : worker thread finished; awaiting finish of 7 more threads\n",
      "2019-12-12 15:30:48,208 : INFO : worker thread finished; awaiting finish of 6 more threads\n",
      "2019-12-12 15:30:48,214 : INFO : worker thread finished; awaiting finish of 5 more threads\n",
      "2019-12-12 15:30:48,218 : INFO : worker thread finished; awaiting finish of 4 more threads\n",
      "2019-12-12 15:30:48,224 : INFO : worker thread finished; awaiting finish of 3 more threads\n",
      "2019-12-12 15:30:48,226 : INFO : worker thread finished; awaiting finish of 2 more threads\n",
      "2019-12-12 15:30:48,229 : INFO : worker thread finished; awaiting finish of 1 more threads\n",
      "2019-12-12 15:30:48,232 : INFO : worker thread finished; awaiting finish of 0 more threads\n",
      "2019-12-12 15:30:48,233 : INFO : EPOCH - 16 : training on 97786 raw words (97640 effective words) took 0.2s, 433232 effective words/s\n",
      "2019-12-12 15:30:48,387 : INFO : worker thread finished; awaiting finish of 9 more threads\n",
      "2019-12-12 15:30:48,403 : INFO : worker thread finished; awaiting finish of 8 more threads\n",
      "2019-12-12 15:30:48,409 : INFO : worker thread finished; awaiting finish of 7 more threads\n",
      "2019-12-12 15:30:48,423 : INFO : worker thread finished; awaiting finish of 6 more threads\n",
      "2019-12-12 15:30:48,429 : INFO : worker thread finished; awaiting finish of 5 more threads\n",
      "2019-12-12 15:30:48,430 : INFO : worker thread finished; awaiting finish of 4 more threads\n",
      "2019-12-12 15:30:48,432 : INFO : worker thread finished; awaiting finish of 3 more threads\n",
      "2019-12-12 15:30:48,438 : INFO : worker thread finished; awaiting finish of 2 more threads\n",
      "2019-12-12 15:30:48,443 : INFO : worker thread finished; awaiting finish of 1 more threads\n",
      "2019-12-12 15:30:48,465 : INFO : worker thread finished; awaiting finish of 0 more threads\n",
      "2019-12-12 15:30:48,466 : INFO : EPOCH - 17 : training on 97786 raw words (97637 effective words) took 0.2s, 428204 effective words/s\n",
      "2019-12-12 15:30:48,643 : INFO : worker thread finished; awaiting finish of 9 more threads\n",
      "2019-12-12 15:30:48,651 : INFO : worker thread finished; awaiting finish of 8 more threads\n",
      "2019-12-12 15:30:48,653 : INFO : worker thread finished; awaiting finish of 7 more threads\n",
      "2019-12-12 15:30:48,654 : INFO : worker thread finished; awaiting finish of 6 more threads\n",
      "2019-12-12 15:30:48,659 : INFO : worker thread finished; awaiting finish of 5 more threads\n",
      "2019-12-12 15:30:48,667 : INFO : worker thread finished; awaiting finish of 4 more threads\n",
      "2019-12-12 15:30:48,676 : INFO : worker thread finished; awaiting finish of 3 more threads\n",
      "2019-12-12 15:30:48,678 : INFO : worker thread finished; awaiting finish of 2 more threads\n",
      "2019-12-12 15:30:48,687 : INFO : worker thread finished; awaiting finish of 1 more threads\n",
      "2019-12-12 15:30:48,689 : INFO : worker thread finished; awaiting finish of 0 more threads\n",
      "2019-12-12 15:30:48,690 : INFO : EPOCH - 18 : training on 97786 raw words (97654 effective words) took 0.2s, 447281 effective words/s\n",
      "2019-12-12 15:30:48,839 : INFO : worker thread finished; awaiting finish of 9 more threads\n",
      "2019-12-12 15:30:48,845 : INFO : worker thread finished; awaiting finish of 8 more threads\n",
      "2019-12-12 15:30:48,873 : INFO : worker thread finished; awaiting finish of 7 more threads\n",
      "2019-12-12 15:30:48,878 : INFO : worker thread finished; awaiting finish of 6 more threads\n",
      "2019-12-12 15:30:48,879 : INFO : worker thread finished; awaiting finish of 5 more threads\n",
      "2019-12-12 15:30:48,880 : INFO : worker thread finished; awaiting finish of 4 more threads\n",
      "2019-12-12 15:30:48,882 : INFO : worker thread finished; awaiting finish of 3 more threads\n",
      "2019-12-12 15:30:48,891 : INFO : worker thread finished; awaiting finish of 2 more threads\n",
      "2019-12-12 15:30:48,909 : INFO : worker thread finished; awaiting finish of 1 more threads\n",
      "2019-12-12 15:30:48,916 : INFO : worker thread finished; awaiting finish of 0 more threads\n",
      "2019-12-12 15:30:48,917 : INFO : EPOCH - 19 : training on 97786 raw words (97650 effective words) took 0.2s, 445007 effective words/s\n",
      "2019-12-12 15:30:49,089 : INFO : worker thread finished; awaiting finish of 9 more threads\n",
      "2019-12-12 15:30:49,097 : INFO : worker thread finished; awaiting finish of 8 more threads\n",
      "2019-12-12 15:30:49,098 : INFO : worker thread finished; awaiting finish of 7 more threads\n",
      "2019-12-12 15:30:49,100 : INFO : worker thread finished; awaiting finish of 6 more threads\n",
      "2019-12-12 15:30:49,106 : INFO : worker thread finished; awaiting finish of 5 more threads\n",
      "2019-12-12 15:30:49,114 : INFO : worker thread finished; awaiting finish of 4 more threads\n",
      "2019-12-12 15:30:49,116 : INFO : worker thread finished; awaiting finish of 3 more threads\n",
      "2019-12-12 15:30:49,117 : INFO : worker thread finished; awaiting finish of 2 more threads\n",
      "2019-12-12 15:30:49,119 : INFO : worker thread finished; awaiting finish of 1 more threads\n",
      "2019-12-12 15:30:49,122 : INFO : worker thread finished; awaiting finish of 0 more threads\n",
      "2019-12-12 15:30:49,123 : INFO : EPOCH - 20 : training on 97786 raw words (97659 effective words) took 0.2s, 485441 effective words/s\n",
      "2019-12-12 15:30:49,281 : INFO : worker thread finished; awaiting finish of 9 more threads\n",
      "2019-12-12 15:30:49,292 : INFO : worker thread finished; awaiting finish of 8 more threads\n",
      "2019-12-12 15:30:49,310 : INFO : worker thread finished; awaiting finish of 7 more threads\n",
      "2019-12-12 15:30:49,311 : INFO : worker thread finished; awaiting finish of 6 more threads\n",
      "2019-12-12 15:30:49,315 : INFO : worker thread finished; awaiting finish of 5 more threads\n",
      "2019-12-12 15:30:49,319 : INFO : worker thread finished; awaiting finish of 4 more threads\n",
      "2019-12-12 15:30:49,322 : INFO : worker thread finished; awaiting finish of 3 more threads\n",
      "2019-12-12 15:30:49,325 : INFO : worker thread finished; awaiting finish of 2 more threads\n",
      "2019-12-12 15:30:49,335 : INFO : worker thread finished; awaiting finish of 1 more threads\n",
      "2019-12-12 15:30:49,343 : INFO : worker thread finished; awaiting finish of 0 more threads\n",
      "2019-12-12 15:30:49,344 : INFO : EPOCH - 21 : training on 97786 raw words (97683 effective words) took 0.2s, 455665 effective words/s\n",
      "2019-12-12 15:30:49,522 : INFO : worker thread finished; awaiting finish of 9 more threads\n",
      "2019-12-12 15:30:49,524 : INFO : worker thread finished; awaiting finish of 8 more threads\n",
      "2019-12-12 15:30:49,532 : INFO : worker thread finished; awaiting finish of 7 more threads\n",
      "2019-12-12 15:30:49,533 : INFO : worker thread finished; awaiting finish of 6 more threads\n",
      "2019-12-12 15:30:49,534 : INFO : worker thread finished; awaiting finish of 5 more threads\n",
      "2019-12-12 15:30:49,537 : INFO : worker thread finished; awaiting finish of 4 more threads\n",
      "2019-12-12 15:30:49,539 : INFO : worker thread finished; awaiting finish of 3 more threads\n",
      "2019-12-12 15:30:49,547 : INFO : worker thread finished; awaiting finish of 2 more threads\n",
      "2019-12-12 15:30:49,549 : INFO : worker thread finished; awaiting finish of 1 more threads\n",
      "2019-12-12 15:30:49,556 : INFO : worker thread finished; awaiting finish of 0 more threads\n",
      "2019-12-12 15:30:49,557 : INFO : EPOCH - 22 : training on 97786 raw words (97655 effective words) took 0.2s, 469717 effective words/s\n",
      "2019-12-12 15:30:49,715 : INFO : worker thread finished; awaiting finish of 9 more threads\n",
      "2019-12-12 15:30:49,737 : INFO : worker thread finished; awaiting finish of 8 more threads\n",
      "2019-12-12 15:30:49,744 : INFO : worker thread finished; awaiting finish of 7 more threads\n",
      "2019-12-12 15:30:49,749 : INFO : worker thread finished; awaiting finish of 6 more threads\n",
      "2019-12-12 15:30:49,751 : INFO : worker thread finished; awaiting finish of 5 more threads\n",
      "2019-12-12 15:30:49,753 : INFO : worker thread finished; awaiting finish of 4 more threads\n"
     ]
    },
    {
     "name": "stderr",
     "output_type": "stream",
     "text": [
      "2019-12-12 15:30:49,756 : INFO : worker thread finished; awaiting finish of 3 more threads\n",
      "2019-12-12 15:30:49,761 : INFO : worker thread finished; awaiting finish of 2 more threads\n",
      "2019-12-12 15:30:49,778 : INFO : worker thread finished; awaiting finish of 1 more threads\n",
      "2019-12-12 15:30:49,779 : INFO : worker thread finished; awaiting finish of 0 more threads\n",
      "2019-12-12 15:30:49,780 : INFO : EPOCH - 23 : training on 97786 raw words (97654 effective words) took 0.2s, 449096 effective words/s\n",
      "2019-12-12 15:30:49,953 : INFO : worker thread finished; awaiting finish of 9 more threads\n",
      "2019-12-12 15:30:49,955 : INFO : worker thread finished; awaiting finish of 8 more threads\n",
      "2019-12-12 15:30:49,960 : INFO : worker thread finished; awaiting finish of 7 more threads\n",
      "2019-12-12 15:30:49,964 : INFO : worker thread finished; awaiting finish of 6 more threads\n",
      "2019-12-12 15:30:49,968 : INFO : worker thread finished; awaiting finish of 5 more threads\n",
      "2019-12-12 15:30:49,974 : INFO : worker thread finished; awaiting finish of 4 more threads\n",
      "2019-12-12 15:30:49,975 : INFO : worker thread finished; awaiting finish of 3 more threads\n",
      "2019-12-12 15:30:49,983 : INFO : worker thread finished; awaiting finish of 2 more threads\n",
      "2019-12-12 15:30:49,987 : INFO : worker thread finished; awaiting finish of 1 more threads\n",
      "2019-12-12 15:30:49,992 : INFO : worker thread finished; awaiting finish of 0 more threads\n",
      "2019-12-12 15:30:49,993 : INFO : EPOCH - 24 : training on 97786 raw words (97649 effective words) took 0.2s, 471629 effective words/s\n",
      "2019-12-12 15:30:50,152 : INFO : worker thread finished; awaiting finish of 9 more threads\n",
      "2019-12-12 15:30:50,164 : INFO : worker thread finished; awaiting finish of 8 more threads\n",
      "2019-12-12 15:30:50,166 : INFO : worker thread finished; awaiting finish of 7 more threads\n",
      "2019-12-12 15:30:50,181 : INFO : worker thread finished; awaiting finish of 6 more threads\n",
      "2019-12-12 15:30:50,185 : INFO : worker thread finished; awaiting finish of 5 more threads\n",
      "2019-12-12 15:30:50,195 : INFO : worker thread finished; awaiting finish of 4 more threads\n",
      "2019-12-12 15:30:50,203 : INFO : worker thread finished; awaiting finish of 3 more threads\n",
      "2019-12-12 15:30:50,204 : INFO : worker thread finished; awaiting finish of 2 more threads\n",
      "2019-12-12 15:30:50,212 : INFO : worker thread finished; awaiting finish of 1 more threads\n",
      "2019-12-12 15:30:50,218 : INFO : worker thread finished; awaiting finish of 0 more threads\n",
      "2019-12-12 15:30:50,219 : INFO : EPOCH - 25 : training on 97786 raw words (97653 effective words) took 0.2s, 443064 effective words/s\n",
      "2019-12-12 15:30:50,220 : INFO : training on a 2444650 raw words (2441341 effective words) took 5.6s, 437875 effective words/s\n"
     ]
    }
   ],
   "source": [
    "# the following configuration is the default configuration\n",
    "w2v = gensim.models.word2vec.Word2Vec(sentences=train_seq_str,\n",
    "                                size=50, window=3,               ### here we train a cbow model \n",
    "                                min_count=0,                      \n",
    "                                sample=0.001, ns_exponent=-0.4, workers=10,\n",
    "                                sg=1, hs=0, negative=15,          ### set sg to 1 to train a sg model => Prod2Vec\n",
    "                                cbow_mean=0,\n",
    "                                iter=25)\n",
    "\n"
   ]
  },
  {
   "cell_type": "code",
   "execution_count": 109,
   "metadata": {
    "ExecuteTime": {
     "end_time": "2019-12-12T20:31:01.057053Z",
     "start_time": "2019-12-12T20:30:51.892375Z"
    }
   },
   "outputs": [
    {
     "name": "stderr",
     "output_type": "stream",
     "text": [
      "2019-12-12 15:30:52,853 : INFO : precomputing L2-norms of word weight vectors\n"
     ]
    }
   ],
   "source": [
    "pop_preds = get_predictions(predict_pop,last_consumed_item,test_seq,-1)\n",
    "w2v_preds = get_predictions(predict_w2v,last_consumed_item,test_seq,-1)"
   ]
  },
  {
   "cell_type": "code",
   "execution_count": 110,
   "metadata": {
    "ExecuteTime": {
     "end_time": "2019-12-12T20:31:05.900998Z",
     "start_time": "2019-12-12T20:31:02.819886Z"
    }
   },
   "outputs": [
    {
     "name": "stdout",
     "output_type": "stream",
     "text": [
      "17.982033071841226\n",
      "13.06915308480489\n",
      "0.0508400653364954\n",
      "0.08053374815227808\n",
      "0.017242926995649836\n",
      "0.027528932845784174\n"
     ]
    }
   ],
   "source": [
    "print(1/mrr(pop_preds))\n",
    "print(1/mrr(w2v_preds))\n",
    "\n",
    "print(mean_dcg(pop_preds,5))\n",
    "print(mean_dcg(w2v_preds,5))\n",
    "\n",
    "print(mean_ndcg(pop_preds,5))\n",
    "print(mean_ndcg(w2v_preds,5))"
   ]
  },
  {
   "cell_type": "markdown",
   "metadata": {},
   "source": [
    "## Still got time ? Try making a more clever item selection mechanism:\n",
    "\n",
    "- You could, for example, cluster items in groups (using k-means) and propose the most popular items of the last seen group"
   ]
  }
 ],
 "metadata": {
  "hide_input": false,
  "kernelspec": {
   "display_name": "Python 3",
   "language": "python",
   "name": "python3"
  },
  "language_info": {
   "codemirror_mode": {
    "name": "ipython",
    "version": 3
   },
   "file_extension": ".py",
   "mimetype": "text/x-python",
   "name": "python",
   "nbconvert_exporter": "python",
   "pygments_lexer": "ipython3",
   "version": "3.7.5"
  },
  "toc": {
   "base_numbering": 1,
   "nav_menu": {},
   "number_sections": true,
   "sideBar": true,
   "skip_h1_title": false,
   "title_cell": "Table of Contents",
   "title_sidebar": "Contents",
   "toc_cell": true,
   "toc_position": {},
   "toc_section_display": true,
   "toc_window_display": false
  },
  "varInspector": {
   "cols": {
    "lenName": 16,
    "lenType": 16,
    "lenVar": 40
   },
   "kernels_config": {
    "python": {
     "delete_cmd_postfix": "",
     "delete_cmd_prefix": "del ",
     "library": "var_list.py",
     "varRefreshCmd": "print(var_dic_list())"
    },
    "r": {
     "delete_cmd_postfix": ") ",
     "delete_cmd_prefix": "rm(",
     "library": "var_list.r",
     "varRefreshCmd": "cat(var_dic_list()) "
    }
   },
   "types_to_exclude": [
    "module",
    "function",
    "builtin_function_or_method",
    "instance",
    "_Feature"
   ],
   "window_display": false
  }
 },
 "nbformat": 4,
 "nbformat_minor": 2
}
